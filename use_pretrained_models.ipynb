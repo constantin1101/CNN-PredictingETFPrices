{
 "cells": [
  {
   "cell_type": "code",
   "execution_count": 1,
   "metadata": {},
   "outputs": [
    {
     "name": "stderr",
     "output_type": "stream",
     "text": [
      "/Users/constantinernstberger/opt/anaconda3/envs/aiss/lib/python3.8/site-packages/scipy/__init__.py:146: UserWarning: A NumPy version >=1.16.5 and <1.23.0 is required for this version of SciPy (detected version 1.24.3\n",
      "  warnings.warn(f\"A NumPy version >={np_minversion} and <{np_maxversion}\"\n"
     ]
    }
   ],
   "source": [
    "import cv2\n",
    "import pandas as pd\n",
    "import re\n",
    "import numpy as np\n",
    "from sklearn.utils import shuffle\n",
    "from keras.models import Sequential\n",
    "from keras.layers import Conv2D, LeakyReLU, MaxPooling2D, Flatten, Dense"
   ]
  },
  {
   "cell_type": "code",
   "execution_count": 2,
   "metadata": {},
   "outputs": [],
   "source": [
    "TIMEFRAMES = [30, 90, 180, 365]\n",
    "PREDICTIONS = [5, 30, 90]\n",
    "IMG_TYPES = ['OHLC', 'ColoredOHLC', 'Line', 'AlgoTrading']\n",
    "NEW_DATA = ['NASDAQ']\n",
    "\n",
    "labels = pd.read_csv('labels.csv')"
   ]
  },
  {
   "cell_type": "code",
   "execution_count": 5,
   "metadata": {},
   "outputs": [],
   "source": [
    "# Crop the images using the bounding boxes\n",
    "def crop_image(img_path):\n",
    "    # Load the image in grayscale\n",
    "    img = cv2.imread(img_path, 0)\n",
    "\n",
    "    # Check if the image was loaded correctly\n",
    "    if img is None:\n",
    "        raise ValueError(f\"Image at {img_path} not found. Please check the path.\")\n",
    "\n",
    "    # Use regular expression to match numbers followed by \".png\" at the end of the filename\n",
    "    match = re.search(r'(\\d+)(?=\\.png$)', img_path)\n",
    "    \n",
    "    # Check if we found a match\n",
    "    if match:\n",
    "        # Extract the number from the matched group\n",
    "        number = int(match.group(1))\n",
    "        \n",
    "        # Check if the number is one of the specified values\n",
    "        if number == 30:\n",
    "            # Crop the image using the bounding rectangle\n",
    "            crop = img[100:100+120, 80:80+132]\n",
    "        elif number == 90:\n",
    "            # Crop the image using the bounding rectangle\n",
    "            crop = img[100:100+120, 80:80+226]\n",
    "        elif number == 180:\n",
    "            # Crop the image using the bounding rectangle\n",
    "            crop = img[100:100+120, 80:80+414]\n",
    "        elif number == 365:\n",
    "            # Crop the image using the bounding rectangle\n",
    "            crop = img[100:100+120, 80:80+602]\n",
    "    return crop\n",
    "\n",
    "# Example usage:\n",
    "filenames = labels['Image'].values.tolist()\n",
    "\n",
    "# Only keep filenames that is in NEW_DATA\n",
    "filenames = [f for f in filenames if f.split('/')[0] in NEW_DATA]\n",
    "\n",
    "# Testing the function with the provided list of filenames\n",
    "for name in filenames:\n",
    "    try:\n",
    "        cropped_image = crop_image(name)\n",
    "        # Construct the new path for the cropped image\n",
    "        new_path = name.replace('.png', '_cropped.png')\n",
    "        # Save the cropped image\n",
    "        cv2.imwrite(new_path, cropped_image)\n",
    "    except ValueError as e:\n",
    "        print(e)\n"
   ]
  },
  {
   "cell_type": "code",
   "execution_count": 6,
   "metadata": {},
   "outputs": [
    {
     "name": "stderr",
     "output_type": "stream",
     "text": [
      "<ipython-input-6-d3c4d442f737>:2: FutureWarning: The default value of regex will change from True to False in a future version.\n",
      "  labels['Image'] = labels['Image'].str.replace('.png', '_cropped.png')\n"
     ]
    }
   ],
   "source": [
    "# Create a new column called 'Image' that contains the path to the cropped image but only if they \n",
    "labels['Image'] = labels['Image'].str.replace('.png', '_cropped.png')"
   ]
  },
  {
   "cell_type": "code",
   "execution_count": 7,
   "metadata": {},
   "outputs": [],
   "source": [
    "# Function to load and convert an image to grayscale\n",
    "def load_image(image_path):\n",
    "    # Load image in grayscale\n",
    "    image = cv2.imread(str(image_path), cv2.IMREAD_GRAYSCALE)\n",
    "    if image is None:\n",
    "        raise ValueError(f\"Unable to load image at path: {image_path}\")\n",
    "    return image\n",
    "\n",
    "filenames = labels['Image'].values.tolist()\n",
    "\n",
    "images = []\n",
    "\n",
    "for name in filenames:\n",
    "    try:\n",
    "        img = load_image(name)\n",
    "        images.append(img)\n",
    "    except ValueError as e:\n",
    "        print(e)\n",
    "\n",
    "# Add a new column to the labels DataFrame to store the image arrays\n",
    "labels['Image_Array'] = images"
   ]
  },
  {
   "cell_type": "code",
   "execution_count": 8,
   "metadata": {},
   "outputs": [],
   "source": [
    "# Divide data based on timeframes\n",
    "labels_dict = {\n",
    "\"30\" : labels[labels['Image'].str.contains('_30_')],\n",
    "\"90\" : labels[labels['Image'].str.contains('_90_')],\n",
    "\"180\" : labels[labels['Image'].str.contains('_180_')],\n",
    "\"365\" : labels[labels['Image'].str.contains('_365_')]\n",
    "}"
   ]
  },
  {
   "cell_type": "code",
   "execution_count": 9,
   "metadata": {},
   "outputs": [
    {
     "name": "stderr",
     "output_type": "stream",
     "text": [
      "<ipython-input-9-cdfd207ee719>:3: SettingWithCopyWarning: \n",
      "A value is trying to be set on a copy of a slice from a DataFrame.\n",
      "Try using .loc[row_indexer,col_indexer] = value instead\n",
      "\n",
      "See the caveats in the documentation: https://pandas.pydata.org/pandas-docs/stable/user_guide/indexing.html#returning-a-view-versus-a-copy\n",
      "  labels_dict[key]['Image_Array'] = np.array(labels_dict[key]['Image_Array']) / 255.0\n"
     ]
    }
   ],
   "source": [
    "for key in labels_dict:\n",
    "    # Convert the Image_Array column to a numpy array\n",
    "    labels_dict[key]['Image_Array'] = np.array(labels_dict[key]['Image_Array']) / 255.0\n",
    "    # Shuffle the DataFrame\n",
    "    #labels_dict[key] = shuffle(labels_dict[key], random_state=42).reset_index(drop=True)\n"
   ]
  },
  {
   "cell_type": "code",
   "execution_count": 10,
   "metadata": {},
   "outputs": [
    {
     "data": {
      "text/plain": [
       "['Line_365_30',\n",
       " 'AlgoTrading_180_30',\n",
       " 'Line_90_5',\n",
       " 'OHLC_365_30',\n",
       " 'AlgoTrading_90_5',\n",
       " 'ColoredOHLC_90_30',\n",
       " 'OHLC_180_30',\n",
       " 'AlgoTrading_365_5',\n",
       " 'Line_180_30',\n",
       " 'AlgoTrading_365_30',\n",
       " 'OHLC_90_30',\n",
       " 'ColoredOHLC_180_90',\n",
       " 'AlgoTrading_180_5',\n",
       " 'OHLC_30_5',\n",
       " 'Line_90_30',\n",
       " 'ColoredOHLC_365_90',\n",
       " 'ColoredOHLC_30_5',\n",
       " 'Line_180_5',\n",
       " 'ColoredOHLC_180_30',\n",
       " 'ColoredOHLC_90_5',\n",
       " 'ColoredOHLC_365_30',\n",
       " 'ColoredOHLC_365_5',\n",
       " 'AlgoTrading_90_30',\n",
       " 'OHLC_90_5',\n",
       " 'OHLC_180_5',\n",
       " 'OHLC_365_5',\n",
       " 'OHLC_365_90',\n",
       " 'Line_365_90',\n",
       " 'AlgoTrading_180_90',\n",
       " 'ColoredOHLC_180_5',\n",
       " 'Line_30_5',\n",
       " 'Line_180_90',\n",
       " 'AlgoTrading_365_90',\n",
       " 'Line_365_5',\n",
       " 'OHLC_180_90',\n",
       " 'AlgoTrading_30_5']"
      ]
     },
     "execution_count": 10,
     "metadata": {},
     "output_type": "execute_result"
    }
   ],
   "source": [
    "from keras.models import load_model\n",
    "from pathlib import Path\n",
    "\n",
    "# Base directory where the models are stored\n",
    "base_dir = Path('models/')\n",
    "\n",
    "# Collect all .h5 model files in the directory\n",
    "model_files = list(base_dir.glob('*.h5'))\n",
    "\n",
    "# Load the models\n",
    "models = {model_file.stem: load_model(model_file) for model_file in model_files}\n",
    "\n",
    "# Return the names of the loaded models\n",
    "list(models.keys())"
   ]
  },
  {
   "cell_type": "code",
   "execution_count": null,
   "metadata": {},
   "outputs": [],
   "source": [
    "from sklearn.model_selection import train_test_split\n",
    "\n",
    "TIMEFRAMES = [30, 90, 180, 365]\n",
    "PREDICTIONS = [5, 30, 90]\n",
    "IMG_TYPES = ['OHLC', 'ColoredOHLC', 'Line', 'AlgoTrading']\n",
    "\n",
    "for img_type in IMG_TYPES:\n",
    "    for timeframe in TIMEFRAMES:\n",
    "        for prediction in PREDICTIONS:\n",
    "            if prediction < timeframe:\n",
    "                print(f\"Evaluating model predicting {prediction} days ahead using {img_type} images with {timeframe} days timeframe.\")\n",
    "\n",
    "                # Filter the data\n",
    "                data = labels[(labels['TimePrediction'] == prediction) &\n",
    "                              (labels['Image'].str.contains(img_type)) &\n",
    "                              (labels['Image'].str.contains(f'_{timeframe}_'))]\n",
    "\n",
    "                # Normalize image arrays\n",
    "                data = shuffle(data, random_state=42).reset_index(drop=True)\n",
    "\n",
    "                # Load the model\n",
    "                model_filename = f\"models/{img_type}_{timeframe}_{prediction}.h5\"\n",
    "                model = load_model(model_filename)\n",
    "\n",
    "                # Prepare data for evaluation\n",
    "                X = np.array(data['Image_Array'].tolist())\n",
    "                y = data['Label']\n",
    "                X_train, X_val, y_train, y_val = train_test_split(X, y, test_size=0.3, random_state=42)\n",
    "\n",
    "                # Evaluate the model\n",
    "                loss, accuracy = model.evaluate(X_val, y_val)\n",
    "                print(f\"Loss: {loss}, Accuracy: {accuracy}\")\n",
    "\n",
    "                print(\"--------------------------------------------------\")"
   ]
  }
 ],
 "metadata": {
  "kernelspec": {
   "display_name": "aiss",
   "language": "python",
   "name": "aiss"
  },
  "language_info": {
   "codemirror_mode": {
    "name": "ipython",
    "version": 3
   },
   "file_extension": ".py",
   "mimetype": "text/x-python",
   "name": "python",
   "nbconvert_exporter": "python",
   "pygments_lexer": "ipython3",
   "version": "3.8.12"
  },
  "orig_nbformat": 4
 },
 "nbformat": 4,
 "nbformat_minor": 2
}

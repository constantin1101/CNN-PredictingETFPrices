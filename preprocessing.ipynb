{
 "cells": [
  {
   "cell_type": "code",
   "execution_count": 12,
   "metadata": {},
   "outputs": [],
   "source": [
    "import cv2\n",
    "import pandas as pd\n",
    "import re"
   ]
  },
  {
   "cell_type": "code",
   "execution_count": 13,
   "metadata": {},
   "outputs": [],
   "source": [
    "labels = pd.read_csv('labels.csv')"
   ]
  },
  {
   "cell_type": "code",
   "execution_count": 14,
   "metadata": {},
   "outputs": [
    {
     "name": "stdout",
     "output_type": "stream",
     "text": [
      "80 100 132 120\n",
      "80 100 226 120\n",
      "80 100 414 120\n",
      "80 100 602 120\n"
     ]
    }
   ],
   "source": [
    "# Find bounding boxes of all 4 image sizes\n",
    "def find_bounding_box(img_path):\n",
    "    # Load the image\n",
    "    img = cv2.imread(img_path)\n",
    "    gray = cv2.cvtColor(img, cv2.COLOR_BGR2GRAY)\n",
    "\n",
    "    # Find all non-black pixels\n",
    "    coords = cv2.findNonZero(gray)\n",
    "    \n",
    "    # Find the bounding box of those pixels\n",
    "    x, y, w, h = cv2.boundingRect(coords)\n",
    "    print(x, y, w, h)\n",
    "\n",
    "# Define the paths to your images\n",
    "image_paths = [\n",
    "    'images/Line/AI&Robotics_2019-01-03 00:00:00_30.png',\n",
    "    'images/Line/AI&Robotics_2019-03-01 00:00:00_90.png',\n",
    "    'images/Line/AI&Robotics_2019-05-31 00:00:00_180.png', \n",
    "    'images/Line/AI&Robotics_2020-03-05 00:00:00_365.png'   \n",
    "]\n",
    "\n",
    "# Crop each image and save the result\n",
    "for path in image_paths:\n",
    "    cropped_image = find_bounding_box(path)"
   ]
  },
  {
   "cell_type": "code",
   "execution_count": 15,
   "metadata": {},
   "outputs": [],
   "source": [
    "# Crop the images using the bounding boxes\n",
    "def crop_image(img_path):\n",
    "    # Load the image in grayscale\n",
    "    img = cv2.imread(img_path, 0)\n",
    "\n",
    "    # Check if the image was loaded correctly\n",
    "    if img is None:\n",
    "        raise ValueError(f\"Image at {img_path} not found. Please check the path.\")\n",
    "\n",
    "    # Use regular expression to match numbers followed by \".png\" at the end of the filename\n",
    "    match = re.search(r'(\\d+)(?=\\.png$)', img_path)\n",
    "    \n",
    "    # Check if we found a match\n",
    "    if match:\n",
    "        # Extract the number from the matched group\n",
    "        number = int(match.group(1))\n",
    "        \n",
    "        # Check if the number is one of the specified values\n",
    "        if number == 30:\n",
    "            # Crop the image using the bounding rectangle\n",
    "            crop = img[100:100+120, 80:80+132]\n",
    "        elif number == 90:\n",
    "            # Crop the image using the bounding rectangle\n",
    "            crop = img[100:100+120, 80:80+226]\n",
    "        elif number == 180:\n",
    "            # Crop the image using the bounding rectangle\n",
    "            crop = img[100:100+120, 80:80+414]\n",
    "        elif number == 365:\n",
    "            # Crop the image using the bounding rectangle\n",
    "            crop = img[100:100+120, 80:80+602]\n",
    "    return crop\n",
    "\n",
    "# Example usage:\n",
    "filenames = image_paths = labels['Image'].values.tolist()\n",
    "\n",
    "# Testing the function with the provided list of filenames\n",
    "for name in filenames:\n",
    "    try:\n",
    "        cropped_image = crop_image(name)\n",
    "        # Construct the new path for the cropped image\n",
    "        new_path = name.replace('.png', '_cropped.png')\n",
    "        # Save the cropped image\n",
    "        cv2.imwrite(new_path, cropped_image)\n",
    "    except ValueError as e:\n",
    "        print(e)\n"
   ]
  },
  {
   "cell_type": "code",
   "execution_count": null,
   "metadata": {},
   "outputs": [],
   "source": []
  }
 ],
 "metadata": {
  "kernelspec": {
   "display_name": "aiss",
   "language": "python",
   "name": "aiss"
  },
  "language_info": {
   "codemirror_mode": {
    "name": "ipython",
    "version": 3
   },
   "file_extension": ".py",
   "mimetype": "text/x-python",
   "name": "python",
   "nbconvert_exporter": "python",
   "pygments_lexer": "ipython3",
   "version": "3.8.12"
  },
  "orig_nbformat": 4
 },
 "nbformat": 4,
 "nbformat_minor": 2
}

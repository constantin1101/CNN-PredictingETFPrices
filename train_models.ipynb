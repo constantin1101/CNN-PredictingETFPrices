{
 "cells": [
  {
   "cell_type": "code",
   "execution_count": 2,
   "metadata": {},
   "outputs": [
    {
     "name": "stderr",
     "output_type": "stream",
     "text": [
      "/Users/constantinernstberger/opt/anaconda3/envs/aiss/lib/python3.8/site-packages/scipy/__init__.py:146: UserWarning: A NumPy version >=1.16.5 and <1.23.0 is required for this version of SciPy (detected version 1.24.3\n",
      "  warnings.warn(f\"A NumPy version >={np_minversion} and <{np_maxversion}\"\n",
      "2023-12-30 16:15:21.464138: I tensorflow/core/platform/cpu_feature_guard.cc:182] This TensorFlow binary is optimized to use available CPU instructions in performance-critical operations.\n",
      "To enable the following instructions: AVX2 FMA, in other operations, rebuild TensorFlow with the appropriate compiler flags.\n"
     ]
    }
   ],
   "source": [
    "import cv2\n",
    "import pandas as pd\n",
    "import re\n",
    "import numpy as np\n",
    "from sklearn.utils import shuffle\n",
    "from sklearn.metrics import accuracy_score, precision_score, recall_score, fbeta_score, roc_auc_score\n",
    "from sklearn.model_selection import train_test_split\n",
    "from keras.models import Sequential, load_model\n",
    "from keras.layers import Conv2D, LeakyReLU, MaxPooling2D, Flatten, Dense, Dropout, BatchNormalization\n",
    "from keras.optimizers import Adam\n",
    "from keras.initializers import GlorotUniform"
   ]
  },
  {
   "cell_type": "code",
   "execution_count": 4,
   "metadata": {},
   "outputs": [],
   "source": [
    "TIMEFRAMES = [14, 30, 90, 180, 365]\n",
    "PREDICTIONS = [5, 30, 90]\n",
    "IMG_TYPES = ['OHLC', 'ColoredOHLC', 'Line', 'AlgoTrading']\n",
    "\n",
    "labels = pd.read_csv('labels.csv')"
   ]
  },
  {
   "cell_type": "code",
   "execution_count": 31,
   "metadata": {},
   "outputs": [
    {
     "name": "stdout",
     "output_type": "stream",
     "text": [
      "80 100 85 120\n",
      "80 100 132 120\n",
      "80 100 226 120\n",
      "80 100 414 120\n",
      "80 100 602 120\n"
     ]
    }
   ],
   "source": [
    "# Find bounding boxes of all 4 image sizes\n",
    "def find_bounding_box(img_path):\n",
    "    # Load the image\n",
    "    img = cv2.imread(img_path)\n",
    "    gray = cv2.cvtColor(img, cv2.COLOR_BGR2GRAY)\n",
    "\n",
    "    # Find all non-black pixels\n",
    "    coords = cv2.findNonZero(gray)\n",
    "    \n",
    "    # Find the bounding box of those pixels\n",
    "    x, y, w, h = cv2.boundingRect(coords)\n",
    "    print(x, y, w, h)\n",
    "\n",
    "# Define the paths to your images\n",
    "image_paths = [\n",
    "    'images/Line/AI&Robotics_2019-01-15 00:00:00_14.png',\n",
    "    'images/Line/AI&Robotics_2019-01-24 00:00:00_30.png',\n",
    "    'images/Line/AI&Robotics_2019-03-28 00:00:00_90.png',\n",
    "    'images/Line/AI&Robotics_2019-06-20 00:00:00_180.png', \n",
    "    'images/Line/AI&Robotics_2019-12-26 00:00:00_365.png'   \n",
    "]\n",
    "\n",
    "# Crop each image and save the result\n",
    "for path in image_paths:\n",
    "    cropped_image = find_bounding_box(path)"
   ]
  },
  {
   "cell_type": "code",
   "execution_count": 5,
   "metadata": {},
   "outputs": [],
   "source": [
    "# Crop the images using the bounding boxes\n",
    "def crop_image(img_path):\n",
    "    # Load the image in grayscale\n",
    "    img = cv2.imread(img_path, 0)\n",
    "\n",
    "    # Check if the image was loaded correctly\n",
    "    if img is None:\n",
    "        raise ValueError(f\"Image at {img_path} not found. Please check the path.\")\n",
    "\n",
    "    # Use regular expression to match numbers followed by \".png\" at the end of the filename\n",
    "    match = re.search(r'(\\d+)(?=\\.png$)', img_path)\n",
    "    \n",
    "    # Check if we found a match\n",
    "    if match:\n",
    "        # Extract the number from the matched group\n",
    "        number = int(match.group(1))\n",
    "        \n",
    "        # Check if the number is one of the specified values\n",
    "        if number == 14:\n",
    "            # Crop the image using the bounding rectangle\n",
    "            crop = img[100:100+120, 80:80+85]\n",
    "        elif number == 30:\n",
    "            # Crop the image using the bounding rectangle\n",
    "            crop = img[100:100+120, 80:80+132]\n",
    "        elif number == 90:\n",
    "            # Crop the image using the bounding rectangle\n",
    "            crop = img[100:100+120, 80:80+226]\n",
    "        elif number == 180:\n",
    "            # Crop the image using the bounding rectangle\n",
    "            crop = img[100:100+120, 80:80+414]\n",
    "        elif number == 365:\n",
    "            # Crop the image using the bounding rectangle\n",
    "            crop = img[100:100+120, 80:80+602]\n",
    "    return crop\n",
    "\n",
    "# Example usage:\n",
    "filenames = labels['Image'].values.tolist()\n",
    "\n",
    "# Testing the function with the provided list of filenames\n",
    "for name in filenames:\n",
    "    try:\n",
    "        cropped_image = crop_image(name)\n",
    "        # Construct the new path for the cropped image\n",
    "        new_path = name.replace('.png', '_cropped.png')\n",
    "        # Save the cropped image\n",
    "        cv2.imwrite(new_path, cropped_image)\n",
    "    except ValueError as e:\n",
    "        print(e)\n"
   ]
  },
  {
   "cell_type": "code",
   "execution_count": 6,
   "metadata": {},
   "outputs": [
    {
     "name": "stderr",
     "output_type": "stream",
     "text": [
      "/var/folders/jx/r9zzxsjd7wxgmmn32r0l8cz40000gn/T/ipykernel_31251/666818149.py:2: FutureWarning: The default value of regex will change from True to False in a future version.\n",
      "  labels['Image'] = labels['Image'].str.replace('.png', '_cropped.png')\n"
     ]
    }
   ],
   "source": [
    "# Create a new column called 'Image' that contains the path to the cropped image but only if they \n",
    "labels['Image'] = labels['Image'].str.replace('.png', '_cropped.png')"
   ]
  },
  {
   "cell_type": "code",
   "execution_count": 7,
   "metadata": {},
   "outputs": [],
   "source": [
    "# Function to load and convert an image to grayscale\n",
    "def load_image(image_path):\n",
    "    # Load image in grayscale\n",
    "    image = cv2.imread(str(image_path), cv2.IMREAD_GRAYSCALE)\n",
    "    if image is None:\n",
    "        raise ValueError(f\"Unable to load image at path: {image_path}\")\n",
    "    return image\n",
    "\n",
    "filenames = labels['Image'].values.tolist()\n",
    "\n",
    "images = []\n",
    "\n",
    "for name in filenames:\n",
    "    try:\n",
    "        img = load_image(name)\n",
    "        images.append(img)\n",
    "    except ValueError as e:\n",
    "        print(e)\n",
    "\n",
    "# Add a new column to the labels DataFrame to store the image arrays\n",
    "labels['Image_Array'] = images"
   ]
  },
  {
   "cell_type": "code",
   "execution_count": 8,
   "metadata": {},
   "outputs": [
    {
     "name": "stdout",
     "output_type": "stream",
     "text": [
      "                                                  Image  TimePrediction  \\\n",
      "0     images/OHLC/S&P500_2019-02-01 00:00:00_14_crop...               5   \n",
      "1149  images/OHLC/DAX_2019-02-01 00:00:00_180_croppe...              90   \n",
      "6531  images/Line/EmergingMarkets_2019-02-01 00:00:0...              30   \n",
      "6530  images/Line/EmergingMarkets_2019-02-01 00:00:0...               5   \n",
      "6500  images/Line/EmergingMarkets_2019-02-01 00:00:0...               5   \n",
      "\n",
      "       LastPrice  FuturePrice  Label  \\\n",
      "0     270.059998   270.140015      1   \n",
      "1149   25.042000    27.209999      1   \n",
      "6531   42.759998    42.549999      0   \n",
      "6530   42.759998    42.400002      0   \n",
      "6500   42.759998    42.400002      0   \n",
      "\n",
      "                                            Image_Array       Date  \n",
      "0     [[0, 0, 0, 0, 0, 0, 0, 0, 0, 0, 0, 0, 0, 0, 0,... 2019-02-01  \n",
      "1149  [[0, 0, 0, 0, 0, 0, 0, 0, 0, 0, 0, 0, 0, 0, 0,... 2019-02-01  \n",
      "6531  [[0, 0, 0, 0, 0, 0, 0, 0, 0, 0, 0, 0, 0, 0, 13... 2019-02-01  \n",
      "6530  [[0, 0, 0, 0, 0, 0, 0, 0, 0, 0, 0, 0, 0, 0, 13... 2019-02-01  \n",
      "6500  [[0, 0, 0, 0, 0, 0, 0, 0, 0, 0, 0, 0, 0, 0, 0,... 2019-02-01  \n"
     ]
    }
   ],
   "source": [
    "# Sort the DataFrame by date\n",
    "labels['Date'] = labels['Image'].str.extract(r'(\\d{4}-\\d{2}-\\d{2})')\n",
    "labels['Date'] = pd.to_datetime(labels['Date'])\n",
    "labels = labels.sort_values(by='Date') \n",
    "print(labels.head())"
   ]
  },
  {
   "cell_type": "code",
   "execution_count": 9,
   "metadata": {},
   "outputs": [
    {
     "name": "stdout",
     "output_type": "stream",
     "text": [
      "1    6620\n",
      "0    3780\n",
      "Name: Label, dtype: int64\n"
     ]
    }
   ],
   "source": [
    "# Show the number of 1s and 0s in the dataset\n",
    "print(labels['Label'].value_counts())"
   ]
  },
  {
   "cell_type": "code",
   "execution_count": 39,
   "metadata": {},
   "outputs": [],
   "source": [
    "'''def create_cnn_model(num_blocks, initial_filters=64, input_shape=()):\n",
    "    model = Sequential()\n",
    "\n",
    "    for i in range(num_blocks):\n",
    "        # Adjust the number of filters\n",
    "        filters = initial_filters * (2 ** i)\n",
    "\n",
    "        # Set dilation rate and strides\n",
    "        strides = (1, 3)\n",
    "\n",
    "        # Add Convolutional layer\n",
    "        model.add(Conv2D(filters, kernel_size=(5, 3), strides=strides, padding='same',\n",
    "                         input_shape=input_shape if i == 0 else model.output_shape[1:]))\n",
    "\n",
    "        # Add LeakyReLU layer\n",
    "        model.add(LeakyReLU(alpha=0.01))\n",
    "\n",
    "        # Add MaxPooling layer only if dimensions allow\n",
    "        if model.output_shape[1] >= 2 and model.output_shape[2] >= 2:\n",
    "            model.add(MaxPooling2D(pool_size=(2, 2)))\n",
    "\n",
    "    # Add Flatten and Dense layers for final prediction\n",
    "    model.add(Flatten())\n",
    "    model.add(Dense(64, activation='relu'))\n",
    "    model.add(Dropout(0.5))\n",
    "    model.add(Dense(1, activation='softmax')) \n",
    "\n",
    "    # Compile the model with binary cross-entropy loss and Adam optimizer\n",
    "    model.compile(optimizer=Adam(learning_rate=1e-5), loss='binary_crossentropy', metrics=['accuracy'])\n",
    "\n",
    "    return model'''"
   ]
  },
  {
   "cell_type": "code",
   "execution_count": 17,
   "metadata": {},
   "outputs": [],
   "source": [
    "def create_cnn_model(num_blocks, initial_filters=64, input_shape=()):\n",
    "    # Determine the number of blocks based on the input image size\n",
    "    if num_blocks == 2:\n",
    "        dilation_rate = (1, 1)\n",
    "    elif num_blocks == 3:\n",
    "        dilation_rate = (1, 2)\n",
    "    else:\n",
    "        dilation_rate = (1, 3)\n",
    "\n",
    "    model = Sequential()\n",
    "\n",
    "    for i in range(num_blocks):\n",
    "        # Adjust the number of filters\n",
    "        filters = initial_filters * (2 ** i)\n",
    "\n",
    "        # Add Convolutional layer\n",
    "        if i == 0:  # Apply specific strides and dilation rate only for the first layer\n",
    "            model.add(Conv2D(filters, kernel_size=(5, 3), strides=(1, 3), padding='same', \n",
    "                             input_shape=input_shape if i == 0 else None))\n",
    "            model.add(Conv2D(filters, kernel_size=(5, 3), strides=(1, 1), dilation_rate=dilation_rate, padding='same', \n",
    "                             input_shape=input_shape if i == 0 else None))\n",
    "        else:\n",
    "            model.add(Conv2D(filters, kernel_size=(5, 3), padding='same'))\n",
    "\n",
    "        # Add LeakyReLU layer\n",
    "        model.add(LeakyReLU(alpha=0.01))\n",
    "\n",
    "        # Add MaxPooling layer\n",
    "        model.add(MaxPooling2D(pool_size=(2, 1)))\n",
    "\n",
    "    # Add Flatten and Dense layers for final prediction\n",
    "    dense_units = {2: 64, 3: 128, 4: 264}.get(num_blocks, 64) \n",
    "    model.add(Flatten())\n",
    "    model.add(Dense(dense_units, activation='relu'))\n",
    "    model.add(Dropout(0.5))\n",
    "    model.add(Dense(1, activation='sigmoid'))\n",
    "\n",
    "    # Compile the model\n",
    "    model.compile(optimizer='adam', loss='binary_crossentropy', metrics=['accuracy'])\n",
    "\n",
    "    return model"
   ]
  },
  {
   "cell_type": "code",
   "execution_count": 18,
   "metadata": {},
   "outputs": [
    {
     "name": "stdout",
     "output_type": "stream",
     "text": [
      "Predicting 5 days ahead using OHLC images with 14 days timeframe.\n",
      "2/2 [==============================] - 3s 205ms/step - loss: 0.6628 - accuracy: 0.6364\n",
      "3/3 [==============================] - 1s 331ms/step - loss: 4.4218 - accuracy: 0.6567\n",
      "4/4 [==============================] - 2s 376ms/step - loss: 0.6648 - accuracy: 0.5900\n",
      "5/5 [==============================] - 2s 446ms/step - loss: 0.6501 - accuracy: 0.7313\n",
      "6/6 [==============================] - 5s 799ms/step - loss: 0.5947 - accuracy: 0.6964\n",
      "7/7 [==============================] - 5s 635ms/step - loss: 0.4350 - accuracy: 0.7910\n",
      "8/8 [==============================] - 5s 649ms/step - loss: 0.4082 - accuracy: 0.8000\n",
      "9/9 [==============================] - 6s 649ms/step - loss: 0.3309 - accuracy: 0.8731\n",
      "10/10 [==============================] - 5s 491ms/step - loss: 0.2915 - accuracy: 0.8709\n",
      "11/11 [==============================] - 5s 494ms/step - loss: 0.2573 - accuracy: 0.8810\n",
      "5/5 [==============================] - 1s 109ms/step\n",
      "Evaluation Metrics:\n",
      "Accuracy: 0.8194444444444444\n",
      "Precision: 0.93\n",
      "Recall: 0.8303571428571429\n",
      "F1 Score: 0.8773584905660378\n",
      "Hit Rate: 0.8194444444444444\n",
      "Average RoR: 0.011492027359999997\n"
     ]
    },
    {
     "name": "stderr",
     "output_type": "stream",
     "text": [
      "/Users/constantinernstberger/opt/anaconda3/envs/aiss/lib/python3.8/site-packages/keras/src/engine/training.py:3000: UserWarning: You are saving your model as an HDF5 file via `model.save()`. This file format is considered legacy. We recommend using instead the native Keras format, e.g. `model.save('my_model.keras')`.\n",
      "  saving_api.save_model(\n"
     ]
    },
    {
     "name": "stdout",
     "output_type": "stream",
     "text": [
      "Model saved as OHLC_14_5.h5\n",
      "--------------------------------------------------\n",
      "Predicting 5 days ahead using OHLC images with 30 days timeframe.\n",
      "1/1 [==============================] - 3s 3s/step - loss: 0.6968 - accuracy: 0.5000\n",
      "2/2 [==============================] - 7s 5s/step - loss: 1.7175 - accuracy: 0.6875\n",
      "4/4 [==============================] - 6s 1s/step - loss: 0.6899 - accuracy: 0.5876\n",
      "5/5 [==============================] - 7s 1s/step - loss: 0.7186 - accuracy: 0.5271\n",
      "6/6 [==============================] - 9s 1s/step - loss: 0.6668 - accuracy: 0.5432\n",
      "7/7 [==============================] - 11s 2s/step - loss: 0.5857 - accuracy: 0.7474\n",
      "8/8 [==============================] - 13s 2s/step - loss: 0.4540 - accuracy: 0.7788\n",
      "9/9 [==============================] - 14s 2s/step - loss: 0.4628 - accuracy: 0.8224\n",
      "10/10 [==============================] - 16s 2s/step - loss: 0.3647 - accuracy: 0.8454\n",
      "11/11 [==============================] - 24s 2s/step - loss: 0.2657 - accuracy: 0.8735\n",
      "5/5 [==============================] - 2s 412ms/step\n",
      "Evaluation Metrics:\n",
      "Accuracy: 0.5785714285714286\n",
      "Precision: 0.9574468085106383\n",
      "Recall: 0.4411764705882353\n",
      "F1 Score: 0.6040268456375839\n",
      "Hit Rate: 0.5785714285714286\n",
      "Average RoR: 0.010986253385571325\n"
     ]
    },
    {
     "name": "stderr",
     "output_type": "stream",
     "text": [
      "/Users/constantinernstberger/opt/anaconda3/envs/aiss/lib/python3.8/site-packages/keras/src/engine/training.py:3000: UserWarning: You are saving your model as an HDF5 file via `model.save()`. This file format is considered legacy. We recommend using instead the native Keras format, e.g. `model.save('my_model.keras')`.\n",
      "  saving_api.save_model(\n"
     ]
    },
    {
     "name": "stdout",
     "output_type": "stream",
     "text": [
      "Model saved as OHLC_30_5.h5\n",
      "--------------------------------------------------\n",
      "Predicting 5 days ahead using OHLC images with 90 days timeframe.\n",
      "1/1 [==============================] - 7s 7s/step - loss: 0.6969 - accuracy: 0.3871\n",
      "2/2 [==============================] - 6s 3s/step - loss: 2.8551 - accuracy: 0.7097\n",
      "3/3 [==============================] - 14s 6s/step - loss: 0.6835 - accuracy: 0.6989\n",
      "4/4 [==============================] - 14s 3s/step - loss: 0.6640 - accuracy: 0.5520\n",
      "5/5 [==============================] - 14s 3s/step - loss: 0.6295 - accuracy: 0.6795\n",
      "6/6 [==============================] - 17s 3s/step - loss: 0.6663 - accuracy: 0.6417\n",
      "7/7 [==============================] - 22s 3s/step - loss: 0.6277 - accuracy: 0.6484\n",
      "8/8 [==============================] - 24s 3s/step - loss: 0.6003 - accuracy: 0.6800\n",
      "9/9 [==============================] - 26s 3s/step - loss: 0.5834 - accuracy: 0.7046\n",
      "10/10 [==============================] - 28s 3s/step - loss: 0.5422 - accuracy: 0.7188\n",
      "5/5 [==============================] - 4s 646ms/step\n",
      "Evaluation Metrics:\n",
      "Accuracy: 0.562962962962963\n",
      "Precision: 0.8888888888888888\n",
      "Recall: 0.425531914893617\n",
      "F1 Score: 0.5755395683453238\n",
      "Hit Rate: 0.562962962962963\n",
      "Average RoR: 0.010929760158341078\n"
     ]
    },
    {
     "name": "stderr",
     "output_type": "stream",
     "text": [
      "/Users/constantinernstberger/opt/anaconda3/envs/aiss/lib/python3.8/site-packages/keras/src/engine/training.py:3000: UserWarning: You are saving your model as an HDF5 file via `model.save()`. This file format is considered legacy. We recommend using instead the native Keras format, e.g. `model.save('my_model.keras')`.\n",
      "  saving_api.save_model(\n"
     ]
    },
    {
     "name": "stdout",
     "output_type": "stream",
     "text": [
      "Model saved as OHLC_90_5.h5\n",
      "--------------------------------------------------\n",
      "Predicting 30 days ahead using OHLC images with 90 days timeframe.\n",
      "1/1 [==============================] - 4s 4s/step - loss: 0.6973 - accuracy: 0.2581\n",
      "2/2 [==============================] - 6s 3s/step - loss: 3.3978 - accuracy: 0.7419\n",
      "3/3 [==============================] - 9s 3s/step - loss: 0.6786 - accuracy: 0.5914\n",
      "4/4 [==============================] - 12s 3s/step - loss: 0.6527 - accuracy: 0.7120\n",
      "5/5 [==============================] - 14s 3s/step - loss: 0.5188 - accuracy: 0.7692\n",
      "6/6 [==============================] - 17s 3s/step - loss: 0.4575 - accuracy: 0.7968\n",
      "7/7 [==============================] - 20s 3s/step - loss: 0.3666 - accuracy: 0.8219\n",
      "8/8 [==============================] - 25s 3s/step - loss: 0.3895 - accuracy: 0.8360\n",
      "9/9 [==============================] - 27s 3s/step - loss: 0.3194 - accuracy: 0.8363\n",
      "10/10 [==============================] - 28s 3s/step - loss: 0.2731 - accuracy: 0.8211\n",
      "5/5 [==============================] - 3s 553ms/step\n",
      "Evaluation Metrics:\n",
      "Accuracy: 0.9037037037037037\n",
      "Precision: 0.9425287356321839\n",
      "Recall: 0.9111111111111111\n",
      "F1 Score: 0.9265536723163842\n",
      "Hit Rate: 0.9037037037037037\n",
      "Average RoR: 0.013044802382188627\n"
     ]
    },
    {
     "name": "stderr",
     "output_type": "stream",
     "text": [
      "/Users/constantinernstberger/opt/anaconda3/envs/aiss/lib/python3.8/site-packages/keras/src/engine/training.py:3000: UserWarning: You are saving your model as an HDF5 file via `model.save()`. This file format is considered legacy. We recommend using instead the native Keras format, e.g. `model.save('my_model.keras')`.\n",
      "  saving_api.save_model(\n"
     ]
    },
    {
     "name": "stdout",
     "output_type": "stream",
     "text": [
      "Model saved as OHLC_90_30.h5\n",
      "--------------------------------------------------\n",
      "Predicting 5 days ahead using OHLC images with 180 days timeframe.\n",
      "1/1 [==============================] - 19s 19s/step - loss: 0.6893 - accuracy: 0.6333\n",
      "2/2 [==============================] - 27s 12s/step - loss: 8.1732 - accuracy: 0.7333\n",
      "3/3 [==============================] - 36s 11s/step - loss: 0.7054 - accuracy: 0.4667\n",
      "4/4 [==============================] - 45s 11s/step - loss: 0.6918 - accuracy: 0.4750\n",
      "5/5 [==============================] - 52s 10s/step - loss: 0.6499 - accuracy: 0.6623\n",
      "6/6 [==============================] - 57s 9s/step - loss: 0.6255 - accuracy: 0.6906\n",
      "7/7 [==============================] - 75s 11s/step - loss: 0.6197 - accuracy: 0.6730\n",
      "8/8 [==============================] - 97s 12s/step - loss: 0.6001 - accuracy: 0.6473\n",
      "9/9 [==============================] - 86s 9s/step - loss: 0.5509 - accuracy: 0.7380\n",
      "10/10 [==============================] - 104s 10s/step - loss: 0.5201 - accuracy: 0.7285\n",
      "5/5 [==============================] - 11s 2s/step\n",
      "Evaluation Metrics:\n",
      "Accuracy: 0.5538461538461539\n",
      "Precision: 0.6805555555555556\n",
      "Recall: 0.5833333333333334\n",
      "F1 Score: 0.6282051282051283\n",
      "Hit Rate: 0.5538461538461539\n",
      "Average RoR: 0.007769163611704977\n"
     ]
    },
    {
     "name": "stderr",
     "output_type": "stream",
     "text": [
      "/Users/constantinernstberger/opt/anaconda3/envs/aiss/lib/python3.8/site-packages/keras/src/engine/training.py:3000: UserWarning: You are saving your model as an HDF5 file via `model.save()`. This file format is considered legacy. We recommend using instead the native Keras format, e.g. `model.save('my_model.keras')`.\n",
      "  saving_api.save_model(\n"
     ]
    },
    {
     "name": "stdout",
     "output_type": "stream",
     "text": [
      "Model saved as OHLC_180_5.h5\n",
      "--------------------------------------------------\n",
      "Predicting 30 days ahead using OHLC images with 180 days timeframe.\n",
      "1/1 [==============================] - 15s 15s/step - loss: 0.6868 - accuracy: 0.8333\n",
      "2/2 [==============================] - 28s 11s/step - loss: 10.0637 - accuracy: 0.7833\n",
      "3/3 [==============================] - 33s 10s/step - loss: 0.6579 - accuracy: 0.6556\n",
      "4/4 [==============================] - 42s 10s/step - loss: 0.7838 - accuracy: 0.7000\n",
      "5/5 [==============================] - 53s 10s/step - loss: 0.5559 - accuracy: 0.7616\n",
      "6/6 [==============================] - 63s 10s/step - loss: 0.5057 - accuracy: 0.7680\n",
      "7/7 [==============================] - 68s 9s/step - loss: 0.4480 - accuracy: 0.7962\n",
      "8/8 [==============================] - 106s 13s/step - loss: 0.4397 - accuracy: 0.8382\n",
      "9/9 [==============================] - 87s 9s/step - loss: 0.4454 - accuracy: 0.8598\n",
      "10/10 [==============================] - 94s 9s/step - loss: 0.4488 - accuracy: 0.7781\n",
      "5/5 [==============================] - 11s 2s/step\n",
      "Evaluation Metrics:\n",
      "Accuracy: 0.6923076923076923\n",
      "Precision: 0.7435897435897436\n",
      "Recall: 0.7435897435897436\n",
      "F1 Score: 0.7435897435897437\n",
      "Hit Rate: 0.6923076923076923\n",
      "Average RoR: 0.011473286946343236\n"
     ]
    },
    {
     "name": "stderr",
     "output_type": "stream",
     "text": [
      "/Users/constantinernstberger/opt/anaconda3/envs/aiss/lib/python3.8/site-packages/keras/src/engine/training.py:3000: UserWarning: You are saving your model as an HDF5 file via `model.save()`. This file format is considered legacy. We recommend using instead the native Keras format, e.g. `model.save('my_model.keras')`.\n",
      "  saving_api.save_model(\n"
     ]
    },
    {
     "name": "stdout",
     "output_type": "stream",
     "text": [
      "Model saved as OHLC_180_30.h5\n",
      "--------------------------------------------------\n",
      "Predicting 90 days ahead using OHLC images with 180 days timeframe.\n",
      "1/1 [==============================] - 17s 17s/step - loss: 0.6988 - accuracy: 0.2000\n",
      "2/2 [==============================] - 24s 11s/step - loss: 3.6310 - accuracy: 0.8667\n",
      "3/3 [==============================] - 46s 14s/step - loss: 0.5579 - accuracy: 0.8000\n",
      "4/4 [==============================] - 49s 11s/step - loss: 0.8327 - accuracy: 0.7167\n",
      "5/5 [==============================] - 50s 10s/step - loss: 0.3265 - accuracy: 0.8808\n",
      "6/6 [==============================] - 65s 11s/step - loss: 0.1595 - accuracy: 0.9448\n",
      "7/7 [==============================] - 78s 11s/step - loss: 0.1038 - accuracy: 0.9621\n",
      "8/8 [==============================] - 98s 11s/step - loss: 0.0590 - accuracy: 0.9793\n",
      "9/9 [==============================] - 88s 10s/step - loss: 0.1744 - accuracy: 0.9705\n",
      "10/10 [==============================] - 130s 13s/step - loss: 0.1312 - accuracy: 0.9603\n",
      "5/5 [==============================] - 13s 2s/step\n",
      "Evaluation Metrics:\n",
      "Accuracy: 0.9076923076923077\n",
      "Precision: 0.926829268292683\n",
      "Recall: 0.926829268292683\n",
      "F1 Score: 0.926829268292683\n",
      "Hit Rate: 0.9076923076923077\n",
      "Average RoR: 0.014310004436722477\n"
     ]
    },
    {
     "name": "stderr",
     "output_type": "stream",
     "text": [
      "/Users/constantinernstberger/opt/anaconda3/envs/aiss/lib/python3.8/site-packages/keras/src/engine/training.py:3000: UserWarning: You are saving your model as an HDF5 file via `model.save()`. This file format is considered legacy. We recommend using instead the native Keras format, e.g. `model.save('my_model.keras')`.\n",
      "  saving_api.save_model(\n"
     ]
    },
    {
     "name": "stdout",
     "output_type": "stream",
     "text": [
      "Model saved as OHLC_180_90.h5\n",
      "--------------------------------------------------\n",
      "Predicting 5 days ahead using OHLC images with 365 days timeframe.\n",
      "1/1 [==============================] - 23s 23s/step - loss: 0.6898 - accuracy: 0.5769\n",
      "2/2 [==============================] - 46s 20s/step - loss: 8.2743 - accuracy: 0.8302\n",
      "3/3 [==============================] - 68s 18s/step - loss: 0.7527 - accuracy: 0.4375\n",
      "4/4 [==============================] - 86s 19s/step - loss: 0.6885 - accuracy: 0.5140\n",
      "5/5 [==============================] - 106s 20s/step - loss: 0.6680 - accuracy: 0.6045\n",
      "5/5 [==============================] - 111s 21s/step - loss: 0.6262 - accuracy: 0.6187\n",
      "6/6 [==============================] - 134s 21s/step - loss: 0.5329 - accuracy: 0.7540\n",
      "7/7 [==============================] - 180s 24s/step - loss: 0.6159 - accuracy: 0.6963\n",
      "8/8 [==============================] - 193s 24s/step - loss: 0.5471 - accuracy: 0.7344\n",
      "9/9 [==============================] - 215s 23s/step - loss: 0.6098 - accuracy: 0.6791\n",
      "4/4 [==============================] - 16s 4s/step\n",
      "Evaluation Metrics:\n",
      "Accuracy: 0.41379310344827586\n",
      "Precision: 0.3103448275862069\n",
      "Recall: 0.391304347826087\n",
      "F1 Score: 0.34615384615384615\n",
      "Hit Rate: 0.41379310344827586\n",
      "Average RoR: -0.002821983920101746\n"
     ]
    },
    {
     "name": "stderr",
     "output_type": "stream",
     "text": [
      "/Users/constantinernstberger/opt/anaconda3/envs/aiss/lib/python3.8/site-packages/keras/src/engine/training.py:3000: UserWarning: You are saving your model as an HDF5 file via `model.save()`. This file format is considered legacy. We recommend using instead the native Keras format, e.g. `model.save('my_model.keras')`.\n",
      "  saving_api.save_model(\n"
     ]
    },
    {
     "name": "stdout",
     "output_type": "stream",
     "text": [
      "Model saved as OHLC_365_5.h5\n",
      "--------------------------------------------------\n",
      "Predicting 30 days ahead using OHLC images with 365 days timeframe.\n",
      "1/1 [==============================] - 22s 22s/step - loss: 0.6938 - accuracy: 0.4231\n",
      "2/2 [==============================] - 41s 18s/step - loss: 4.8512 - accuracy: 0.8679\n",
      "3/3 [==============================] - 93s 35s/step - loss: 0.7084 - accuracy: 0.3250\n",
      "4/4 [==============================] - 90s 19s/step - loss: 1.1256 - accuracy: 0.7009\n",
      "5/5 [==============================] - 104s 19s/step - loss: 0.6124 - accuracy: 0.7164\n",
      "5/5 [==============================] - 111s 22s/step - loss: 0.5180 - accuracy: 0.7875\n",
      "6/6 [==============================] - 150s 24s/step - loss: 0.4577 - accuracy: 0.8342\n",
      "7/7 [==============================] - 157s 23s/step - loss: 0.3152 - accuracy: 0.8879\n",
      "8/8 [==============================] - 219s 28s/step - loss: 0.2469 - accuracy: 0.9004\n",
      "9/9 [==============================] - 246s 26s/step - loss: 0.2503 - accuracy: 0.9216\n",
      "4/4 [==============================] - 15s 4s/step\n",
      "Evaluation Metrics:\n",
      "Accuracy: 0.4051724137931034\n",
      "Precision: 0.3465346534653465\n",
      "Recall: 0.9210526315789473\n",
      "F1 Score: 0.5035971223021584\n",
      "Hit Rate: 0.4051724137931034\n",
      "Average RoR: -0.016397223272783493\n"
     ]
    },
    {
     "name": "stderr",
     "output_type": "stream",
     "text": [
      "/Users/constantinernstberger/opt/anaconda3/envs/aiss/lib/python3.8/site-packages/keras/src/engine/training.py:3000: UserWarning: You are saving your model as an HDF5 file via `model.save()`. This file format is considered legacy. We recommend using instead the native Keras format, e.g. `model.save('my_model.keras')`.\n",
      "  saving_api.save_model(\n"
     ]
    },
    {
     "name": "stdout",
     "output_type": "stream",
     "text": [
      "Model saved as OHLC_365_30.h5\n",
      "--------------------------------------------------\n",
      "Predicting 90 days ahead using OHLC images with 365 days timeframe.\n",
      "1/1 [==============================] - 27s 27s/step - loss: 0.6907 - accuracy: 0.5385\n",
      "2/2 [==============================] - 55s 22s/step - loss: 6.7243 - accuracy: 0.8491\n",
      "3/3 [==============================] - 62s 17s/step - loss: 0.7870 - accuracy: 0.2375\n",
      "4/4 [==============================] - 88s 21s/step - loss: 0.6660 - accuracy: 0.6449\n",
      "5/5 [==============================] - 96s 18s/step - loss: 0.6352 - accuracy: 0.6791\n",
      "5/5 [==============================] - 149s 31s/step - loss: 0.5203 - accuracy: 0.7563\n",
      "6/6 [==============================] - 139s 23s/step - loss: 0.5432 - accuracy: 0.7701\n",
      "7/7 [==============================] - 157s 23s/step - loss: 0.4331 - accuracy: 0.7944\n",
      "8/8 [==============================] - 168s 20s/step - loss: 0.2607 - accuracy: 0.8963\n",
      "9/9 [==============================] - 193s 22s/step - loss: 0.2093 - accuracy: 0.9216\n",
      "4/4 [==============================] - 15s 4s/step\n",
      "Evaluation Metrics:\n",
      "Accuracy: 0.7327586206896551\n",
      "Precision: 0.6\n",
      "Recall: 0.8372093023255814\n",
      "F1 Score: 0.6990291262135923\n",
      "Hit Rate: 0.7327586206896551\n",
      "Average RoR: -0.03139105716259891\n"
     ]
    },
    {
     "name": "stderr",
     "output_type": "stream",
     "text": [
      "/Users/constantinernstberger/opt/anaconda3/envs/aiss/lib/python3.8/site-packages/keras/src/engine/training.py:3000: UserWarning: You are saving your model as an HDF5 file via `model.save()`. This file format is considered legacy. We recommend using instead the native Keras format, e.g. `model.save('my_model.keras')`.\n",
      "  saving_api.save_model(\n"
     ]
    },
    {
     "name": "stdout",
     "output_type": "stream",
     "text": [
      "Model saved as OHLC_365_90.h5\n",
      "--------------------------------------------------\n",
      "Predicting 5 days ahead using ColoredOHLC images with 14 days timeframe.\n",
      "1/1 [==============================] - 3s 3s/step - loss: 0.6823 - accuracy: 0.8125\n",
      "2/2 [==============================] - 1s 207ms/step - loss: 1.2916 - accuracy: 0.6364\n",
      "2/2 [==============================] - 1s 403ms/step - loss: 0.6423 - accuracy: 0.6600\n",
      "3/3 [==============================] - 1s 345ms/step - loss: 0.6012 - accuracy: 0.7761\n",
      "3/3 [==============================] - 1s 459ms/step - loss: 0.5057 - accuracy: 0.8095\n",
      "4/4 [==============================] - 2s 415ms/step - loss: 0.4836 - accuracy: 0.7300\n",
      "4/4 [==============================] - 2s 502ms/step - loss: 0.4834 - accuracy: 0.7778\n",
      "5/5 [==============================] - 2s 478ms/step - loss: 0.4318 - accuracy: 0.8134\n",
      "5/5 [==============================] - 3s 512ms/step - loss: 0.4324 - accuracy: 0.7616\n",
      "6/6 [==============================] - 3s 497ms/step - loss: 0.3574 - accuracy: 0.8452\n",
      "3/3 [==============================] - 0s 90ms/step\n",
      "Evaluation Metrics:\n",
      "Accuracy: 0.7222222222222222\n",
      "Precision: 0.95\n",
      "Recall: 0.6785714285714286\n",
      "F1 Score: 0.7916666666666667\n",
      "Hit Rate: 0.7222222222222222\n",
      "Average RoR: 0.011492027359999997\n"
     ]
    },
    {
     "name": "stderr",
     "output_type": "stream",
     "text": [
      "/Users/constantinernstberger/opt/anaconda3/envs/aiss/lib/python3.8/site-packages/keras/src/engine/training.py:3000: UserWarning: You are saving your model as an HDF5 file via `model.save()`. This file format is considered legacy. We recommend using instead the native Keras format, e.g. `model.save('my_model.keras')`.\n",
      "  saving_api.save_model(\n"
     ]
    },
    {
     "name": "stdout",
     "output_type": "stream",
     "text": [
      "Model saved as ColoredOHLC_14_5.h5\n",
      "--------------------------------------------------\n",
      "Predicting 5 days ahead using ColoredOHLC images with 30 days timeframe.\n",
      "1/1 [==============================] - 4s 4s/step - loss: 0.6818 - accuracy: 0.9375\n",
      "1/1 [==============================] - 2s 2s/step - loss: 3.1894 - accuracy: 0.6875\n",
      "2/2 [==============================] - 2s 980ms/step - loss: 0.7167 - accuracy: 0.5625\n",
      "2/2 [==============================] - 3s 2s/step - loss: 0.6659 - accuracy: 0.6719\n",
      "3/3 [==============================] - 5s 2s/step - loss: 0.6430 - accuracy: 0.6296\n",
      "4/4 [==============================] - 5s 1s/step - loss: 0.6373 - accuracy: 0.6289\n",
      "4/4 [==============================] - 7s 2s/step - loss: 0.5526 - accuracy: 0.6903\n",
      "5/5 [==============================] - 7s 1s/step - loss: 0.5444 - accuracy: 0.7597\n",
      "5/5 [==============================] - 8s 2s/step - loss: 0.5126 - accuracy: 0.7586\n",
      "6/6 [==============================] - 11s 2s/step - loss: 0.5101 - accuracy: 0.7654\n",
      "3/3 [==============================] - 1s 282ms/step\n",
      "Evaluation Metrics:\n",
      "Accuracy: 0.6714285714285714\n",
      "Precision: 0.8181818181818182\n",
      "Recall: 0.7058823529411765\n",
      "F1 Score: 0.7578947368421053\n",
      "Hit Rate: 0.6714285714285714\n",
      "Average RoR: 0.010997937347095874\n"
     ]
    },
    {
     "name": "stderr",
     "output_type": "stream",
     "text": [
      "/Users/constantinernstberger/opt/anaconda3/envs/aiss/lib/python3.8/site-packages/keras/src/engine/training.py:3000: UserWarning: You are saving your model as an HDF5 file via `model.save()`. This file format is considered legacy. We recommend using instead the native Keras format, e.g. `model.save('my_model.keras')`.\n",
      "  saving_api.save_model(\n"
     ]
    },
    {
     "name": "stdout",
     "output_type": "stream",
     "text": [
      "Model saved as ColoredOHLC_30_5.h5\n",
      "--------------------------------------------------\n",
      "Predicting 5 days ahead using ColoredOHLC images with 90 days timeframe.\n",
      "1/1 [==============================] - 3s 3s/step - loss: 0.6927 - accuracy: 0.6000\n",
      "1/1 [==============================] - 3s 3s/step - loss: 3.1185 - accuracy: 0.7097\n",
      "2/2 [==============================] - 5s 2s/step - loss: 0.6393 - accuracy: 0.6957\n",
      "2/2 [==============================] - 6s 3s/step - loss: 0.6742 - accuracy: 0.5484\n",
      "3/3 [==============================] - 7s 2s/step - loss: 0.6892 - accuracy: 0.5769\n",
      "3/3 [==============================] - 8s 3s/step - loss: 0.6121 - accuracy: 0.7097\n",
      "4/4 [==============================] - 9s 2s/step - loss: 0.5736 - accuracy: 0.6789\n",
      "4/4 [==============================] - 10s 3s/step - loss: 0.5485 - accuracy: 0.7097\n",
      "5/5 [==============================] - 19s 4s/step - loss: 0.6123 - accuracy: 0.6714\n",
      "5/5 [==============================] - 16s 3s/step - loss: 0.6184 - accuracy: 0.6987\n",
      "3/3 [==============================] - 2s 382ms/step\n",
      "Evaluation Metrics:\n",
      "Accuracy: 0.7794117647058824\n",
      "Precision: 0.9\n",
      "Recall: 0.7659574468085106\n",
      "F1 Score: 0.8275862068965516\n",
      "Hit Rate: 0.7794117647058824\n",
      "Average RoR: 0.010929760158341077\n"
     ]
    },
    {
     "name": "stderr",
     "output_type": "stream",
     "text": [
      "/Users/constantinernstberger/opt/anaconda3/envs/aiss/lib/python3.8/site-packages/keras/src/engine/training.py:3000: UserWarning: You are saving your model as an HDF5 file via `model.save()`. This file format is considered legacy. We recommend using instead the native Keras format, e.g. `model.save('my_model.keras')`.\n",
      "  saving_api.save_model(\n"
     ]
    },
    {
     "name": "stdout",
     "output_type": "stream",
     "text": [
      "Model saved as ColoredOHLC_90_5.h5\n",
      "--------------------------------------------------\n",
      "Predicting 30 days ahead using ColoredOHLC images with 90 days timeframe.\n",
      "1/1 [==============================] - 3s 3s/step - loss: 0.6947 - accuracy: 0.3333\n",
      "1/1 [==============================] - 3s 3s/step - loss: 3.3233 - accuracy: 0.7419\n",
      "2/2 [==============================] - 4s 1s/step - loss: 0.6515 - accuracy: 0.6087\n",
      "2/2 [==============================] - 6s 3s/step - loss: 0.6032 - accuracy: 0.7581\n",
      "3/3 [==============================] - 8s 2s/step - loss: 0.5237 - accuracy: 0.7692\n",
      "3/3 [==============================] - 8s 3s/step - loss: 0.3659 - accuracy: 0.8172\n",
      "4/4 [==============================] - 9s 2s/step - loss: 0.3141 - accuracy: 0.8624\n",
      "4/4 [==============================] - 10s 3s/step - loss: 0.2862 - accuracy: 0.8710\n",
      "5/5 [==============================] - 12s 2s/step - loss: 0.2522 - accuracy: 0.9143\n",
      "5/5 [==============================] - 13s 3s/step - loss: 0.2972 - accuracy: 0.8846\n",
      "WARNING:tensorflow:5 out of the last 14 calls to <function Model.make_predict_function.<locals>.predict_function at 0x7fc80c1e8f70> triggered tf.function retracing. Tracing is expensive and the excessive number of tracings could be due to (1) creating @tf.function repeatedly in a loop, (2) passing tensors with different shapes, (3) passing Python objects instead of tensors. For (1), please define your @tf.function outside of the loop. For (2), @tf.function has reduce_retracing=True option that can avoid unnecessary retracing. For (3), please refer to https://www.tensorflow.org/guide/function#controlling_retracing and https://www.tensorflow.org/api_docs/python/tf/function for  more details.\n",
      "3/3 [==============================] - 2s 389ms/step\n",
      "Evaluation Metrics:\n",
      "Accuracy: 0.8676470588235294\n",
      "Precision: 0.86\n",
      "Recall: 0.9555555555555556\n",
      "F1 Score: 0.9052631578947369\n",
      "Hit Rate: 0.8676470588235294\n",
      "Average RoR: 0.012140858235687321\n"
     ]
    },
    {
     "name": "stderr",
     "output_type": "stream",
     "text": [
      "/Users/constantinernstberger/opt/anaconda3/envs/aiss/lib/python3.8/site-packages/keras/src/engine/training.py:3000: UserWarning: You are saving your model as an HDF5 file via `model.save()`. This file format is considered legacy. We recommend using instead the native Keras format, e.g. `model.save('my_model.keras')`.\n",
      "  saving_api.save_model(\n"
     ]
    },
    {
     "name": "stdout",
     "output_type": "stream",
     "text": [
      "Model saved as ColoredOHLC_90_30.h5\n",
      "--------------------------------------------------\n",
      "Predicting 5 days ahead using ColoredOHLC images with 180 days timeframe.\n",
      "1/1 [==============================] - 10s 10s/step - loss: 0.6950 - accuracy: 0.4000\n",
      "1/1 [==============================] - 12s 12s/step - loss: 5.8218 - accuracy: 0.7333\n",
      "2/2 [==============================] - 16s 4s/step - loss: 0.7002 - accuracy: 0.5333\n",
      "2/2 [==============================] - 22s 11s/step - loss: 0.6883 - accuracy: 0.5833\n",
      "3/3 [==============================] - 27s 7s/step - loss: 0.6923 - accuracy: 0.5067\n",
      "3/3 [==============================] - 43s 14s/step - loss: 0.6816 - accuracy: 0.5444\n",
      "4/4 [==============================] - 39s 9s/step - loss: 0.6997 - accuracy: 0.4667\n",
      "4/4 [==============================] - 57s 12s/step - loss: 0.6816 - accuracy: 0.5917\n",
      "5/5 [==============================] - 48s 9s/step - loss: 0.6329 - accuracy: 0.6593\n",
      "5/5 [==============================] - 46s 9s/step - loss: 0.6973 - accuracy: 0.6755\n",
      "WARNING:tensorflow:5 out of the last 13 calls to <function Model.make_predict_function.<locals>.predict_function at 0x7fc211c401f0> triggered tf.function retracing. Tracing is expensive and the excessive number of tracings could be due to (1) creating @tf.function repeatedly in a loop, (2) passing tensors with different shapes, (3) passing Python objects instead of tensors. For (1), please define your @tf.function outside of the loop. For (2), @tf.function has reduce_retracing=True option that can avoid unnecessary retracing. For (3), please refer to https://www.tensorflow.org/guide/function#controlling_retracing and https://www.tensorflow.org/api_docs/python/tf/function for  more details.\n",
      "3/3 [==============================] - 5s 1s/step\n",
      "Evaluation Metrics:\n",
      "Accuracy: 0.5692307692307692\n",
      "Precision: 0.625\n",
      "Recall: 0.8333333333333334\n",
      "F1 Score: 0.7142857142857143\n",
      "Hit Rate: 0.5692307692307692\n",
      "Average RoR: 0.007900970443083374\n"
     ]
    },
    {
     "name": "stderr",
     "output_type": "stream",
     "text": [
      "/Users/constantinernstberger/opt/anaconda3/envs/aiss/lib/python3.8/site-packages/keras/src/engine/training.py:3000: UserWarning: You are saving your model as an HDF5 file via `model.save()`. This file format is considered legacy. We recommend using instead the native Keras format, e.g. `model.save('my_model.keras')`.\n",
      "  saving_api.save_model(\n"
     ]
    },
    {
     "name": "stdout",
     "output_type": "stream",
     "text": [
      "Model saved as ColoredOHLC_180_5.h5\n",
      "--------------------------------------------------\n",
      "Predicting 30 days ahead using ColoredOHLC images with 180 days timeframe.\n",
      "1/1 [==============================] - 10s 10s/step - loss: 0.6864 - accuracy: 0.8667\n",
      "1/1 [==============================] - 12s 12s/step - loss: 17.1570 - accuracy: 0.7667\n",
      "2/2 [==============================] - 14s 4s/step - loss: 1.1839 - accuracy: 0.2889\n",
      "2/2 [==============================] - 21s 11s/step - loss: 1.2250 - accuracy: 0.7000\n",
      "3/3 [==============================] - 27s 7s/step - loss: 0.6086 - accuracy: 0.8133\n",
      "3/3 [==============================] - 30s 9s/step - loss: 0.5096 - accuracy: 0.7556\n",
      "4/4 [==============================] - 34s 8s/step - loss: 0.5354 - accuracy: 0.8000\n",
      "4/4 [==============================] - 56s 15s/step - loss: 0.5199 - accuracy: 0.8167\n",
      "5/5 [==============================] - 44s 8s/step - loss: 0.3904 - accuracy: 0.8296\n",
      "5/5 [==============================] - 46s 9s/step - loss: 0.6228 - accuracy: 0.7815\n",
      "3/3 [==============================] - 5s 1s/step\n",
      "Evaluation Metrics:\n",
      "Accuracy: 0.5846153846153846\n",
      "Precision: 0.6363636363636364\n",
      "Recall: 0.717948717948718\n",
      "F1 Score: 0.674698795180723\n",
      "Hit Rate: 0.5846153846153846\n",
      "Average RoR: 0.01150961685661354\n"
     ]
    },
    {
     "name": "stderr",
     "output_type": "stream",
     "text": [
      "/Users/constantinernstberger/opt/anaconda3/envs/aiss/lib/python3.8/site-packages/keras/src/engine/training.py:3000: UserWarning: You are saving your model as an HDF5 file via `model.save()`. This file format is considered legacy. We recommend using instead the native Keras format, e.g. `model.save('my_model.keras')`.\n",
      "  saving_api.save_model(\n"
     ]
    },
    {
     "name": "stdout",
     "output_type": "stream",
     "text": [
      "Model saved as ColoredOHLC_180_30.h5\n",
      "--------------------------------------------------\n",
      "Predicting 90 days ahead using ColoredOHLC images with 180 days timeframe.\n",
      "1/1 [==============================] - 16s 16s/step - loss: 0.6989 - accuracy: 0.1333\n",
      "1/1 [==============================] - 12s 12s/step - loss: 2.9838 - accuracy: 0.8667\n",
      "2/2 [==============================] - 14s 4s/step - loss: 0.6779 - accuracy: 0.5778\n",
      "2/2 [==============================] - 20s 9s/step - loss: 0.6516 - accuracy: 0.6667\n",
      "3/3 [==============================] - 23s 6s/step - loss: 0.5600 - accuracy: 0.7200\n",
      "3/3 [==============================] - 27s 8s/step - loss: 0.3494 - accuracy: 0.8111\n",
      "4/4 [==============================] - 30s 7s/step - loss: 0.1857 - accuracy: 0.9238\n",
      "4/4 [==============================] - 38s 9s/step - loss: 0.1951 - accuracy: 0.9167\n",
      "5/5 [==============================] - 62s 13s/step - loss: 0.1269 - accuracy: 0.9630\n",
      "5/5 [==============================] - 47s 9s/step - loss: 0.1375 - accuracy: 0.9470\n",
      "3/3 [==============================] - 5s 1s/step\n",
      "Evaluation Metrics:\n",
      "Accuracy: 0.8769230769230769\n",
      "Precision: 0.9024390243902439\n",
      "Recall: 0.9024390243902439\n",
      "F1 Score: 0.9024390243902439\n",
      "Hit Rate: 0.8769230769230769\n",
      "Average RoR: 0.01483491280607999\n"
     ]
    },
    {
     "name": "stderr",
     "output_type": "stream",
     "text": [
      "/Users/constantinernstberger/opt/anaconda3/envs/aiss/lib/python3.8/site-packages/keras/src/engine/training.py:3000: UserWarning: You are saving your model as an HDF5 file via `model.save()`. This file format is considered legacy. We recommend using instead the native Keras format, e.g. `model.save('my_model.keras')`.\n",
      "  saving_api.save_model(\n"
     ]
    },
    {
     "name": "stdout",
     "output_type": "stream",
     "text": [
      "Model saved as ColoredOHLC_180_90.h5\n",
      "--------------------------------------------------\n",
      "Predicting 5 days ahead using ColoredOHLC images with 365 days timeframe.\n",
      "1/1 [==============================] - 19s 19s/step - loss: 0.6924 - accuracy: 0.6154\n",
      "1/1 [==============================] - 18s 18s/step - loss: 6.8102 - accuracy: 0.8462\n",
      "2/2 [==============================] - 27s 6s/step - loss: 0.5976 - accuracy: 0.6750\n",
      "2/2 [==============================] - 34s 15s/step - loss: 0.6875 - accuracy: 0.4906\n",
      "3/3 [==============================] - 56s 15s/step - loss: 0.6650 - accuracy: 0.6716\n",
      "3/3 [==============================] - 76s 27s/step - loss: 0.5964 - accuracy: 0.6875\n",
      "3/3 [==============================] - 81s 23s/step - loss: 0.6607 - accuracy: 0.6882\n",
      "4/4 [==============================] - 71s 17s/step - loss: 0.8203 - accuracy: 0.5981\n",
      "4/4 [==============================] - 81s 20s/step - loss: 0.6438 - accuracy: 0.6833\n",
      "5/5 [==============================] - 99s 18s/step - loss: 0.6416 - accuracy: 0.6940\n",
      "2/2 [==============================] - 9s 5s/step\n",
      "Evaluation Metrics:\n",
      "Accuracy: 0.3620689655172414\n",
      "Precision: 0.3409090909090909\n",
      "Recall: 0.6521739130434783\n",
      "F1 Score: 0.44776119402985076\n",
      "Hit Rate: 0.3620689655172414\n",
      "Average RoR: -0.0029026247221197953\n"
     ]
    },
    {
     "name": "stderr",
     "output_type": "stream",
     "text": [
      "/Users/constantinernstberger/opt/anaconda3/envs/aiss/lib/python3.8/site-packages/keras/src/engine/training.py:3000: UserWarning: You are saving your model as an HDF5 file via `model.save()`. This file format is considered legacy. We recommend using instead the native Keras format, e.g. `model.save('my_model.keras')`.\n",
      "  saving_api.save_model(\n"
     ]
    },
    {
     "name": "stdout",
     "output_type": "stream",
     "text": [
      "Model saved as ColoredOHLC_365_5.h5\n",
      "--------------------------------------------------\n",
      "Predicting 30 days ahead using ColoredOHLC images with 365 days timeframe.\n",
      "1/1 [==============================] - 15s 15s/step - loss: 0.6936 - accuracy: 0.5385\n",
      "1/1 [==============================] - 20s 20s/step - loss: 6.5763 - accuracy: 0.8846\n",
      "2/2 [==============================] - 46s 12s/step - loss: 0.5184 - accuracy: 0.7000\n",
      "2/2 [==============================] - 35s 14s/step - loss: 0.6917 - accuracy: 0.4528\n",
      "3/3 [==============================] - 48s 12s/step - loss: 1.0847 - accuracy: 0.7313\n",
      "3/3 [==============================] - 54s 17s/step - loss: 0.5449 - accuracy: 0.7750\n",
      "3/3 [==============================] - 64s 22s/step - loss: 0.5614 - accuracy: 0.7957\n",
      "4/4 [==============================] - 101s 24s/step - loss: 0.4726 - accuracy: 0.7944\n",
      "4/4 [==============================] - 81s 20s/step - loss: 0.4706 - accuracy: 0.8083\n",
      "5/5 [==============================] - 89s 17s/step - loss: 0.3754 - accuracy: 0.8582\n",
      "2/2 [==============================] - 7s 3s/step\n",
      "Evaluation Metrics:\n",
      "Accuracy: 0.39655172413793105\n",
      "Precision: 0.35185185185185186\n",
      "Recall: 1.0\n",
      "F1 Score: 0.5205479452054794\n",
      "Hit Rate: 0.39655172413793105\n",
      "Average RoR: -0.01633733295140135\n"
     ]
    },
    {
     "name": "stderr",
     "output_type": "stream",
     "text": [
      "/Users/constantinernstberger/opt/anaconda3/envs/aiss/lib/python3.8/site-packages/keras/src/engine/training.py:3000: UserWarning: You are saving your model as an HDF5 file via `model.save()`. This file format is considered legacy. We recommend using instead the native Keras format, e.g. `model.save('my_model.keras')`.\n",
      "  saving_api.save_model(\n"
     ]
    },
    {
     "name": "stdout",
     "output_type": "stream",
     "text": [
      "Model saved as ColoredOHLC_365_30.h5\n",
      "--------------------------------------------------\n",
      "Predicting 90 days ahead using ColoredOHLC images with 365 days timeframe.\n",
      "1/1 [==============================] - 16s 16s/step - loss: 0.6979 - accuracy: 0.3846\n",
      "1/1 [==============================] - 20s 20s/step - loss: 5.0618 - accuracy: 0.8462\n",
      "2/2 [==============================] - 32s 10s/step - loss: 0.4558 - accuracy: 0.9000\n",
      "2/2 [==============================] - 51s 18s/step - loss: 0.6541 - accuracy: 0.6792\n",
      "3/3 [==============================] - 55s 15s/step - loss: 0.6091 - accuracy: 0.7015\n",
      "3/3 [==============================] - 58s 17s/step - loss: 0.5878 - accuracy: 0.7375\n",
      "3/3 [==============================] - 69s 21s/step - loss: 0.5140 - accuracy: 0.7742\n",
      "4/4 [==============================] - 111s 30s/step - loss: 0.4743 - accuracy: 0.7850\n",
      "4/4 [==============================] - 87s 21s/step - loss: 0.3979 - accuracy: 0.8500\n",
      "5/5 [==============================] - 95s 18s/step - loss: 0.2832 - accuracy: 0.8955\n",
      "2/2 [==============================] - 7s 3s/step\n",
      "Evaluation Metrics:\n",
      "Accuracy: 0.39655172413793105\n",
      "Precision: 0.375\n",
      "Recall: 1.0\n",
      "F1 Score: 0.5454545454545454\n",
      "Hit Rate: 0.39655172413793105\n",
      "Average RoR: -0.03241503116509543\n"
     ]
    },
    {
     "name": "stderr",
     "output_type": "stream",
     "text": [
      "/Users/constantinernstberger/opt/anaconda3/envs/aiss/lib/python3.8/site-packages/keras/src/engine/training.py:3000: UserWarning: You are saving your model as an HDF5 file via `model.save()`. This file format is considered legacy. We recommend using instead the native Keras format, e.g. `model.save('my_model.keras')`.\n",
      "  saving_api.save_model(\n"
     ]
    },
    {
     "name": "stdout",
     "output_type": "stream",
     "text": [
      "Model saved as ColoredOHLC_365_90.h5\n",
      "--------------------------------------------------\n",
      "Predicting 5 days ahead using Line images with 14 days timeframe.\n",
      "1/1 [==============================] - 2s 2s/step - loss: 0.6854 - accuracy: 0.8125\n",
      "2/2 [==============================] - 1s 186ms/step - loss: 1.6325 - accuracy: 0.6667\n",
      "2/2 [==============================] - 1s 391ms/step - loss: 0.6227 - accuracy: 0.6000\n",
      "3/3 [==============================] - 1s 338ms/step - loss: 0.5954 - accuracy: 0.7164\n",
      "3/3 [==============================] - 1s 456ms/step - loss: 0.5389 - accuracy: 0.6905\n",
      "4/4 [==============================] - 2s 410ms/step - loss: 0.5198 - accuracy: 0.7200\n",
      "4/4 [==============================] - 2s 528ms/step - loss: 0.5743 - accuracy: 0.7009\n",
      "5/5 [==============================] - 3s 557ms/step - loss: 0.4618 - accuracy: 0.8060\n",
      "5/5 [==============================] - 3s 638ms/step - loss: 0.3621 - accuracy: 0.8477\n",
      "6/6 [==============================] - 3s 495ms/step - loss: 0.2740 - accuracy: 0.8929\n",
      "3/3 [==============================] - 0s 95ms/step\n",
      "Evaluation Metrics:\n",
      "Accuracy: 0.875\n",
      "Precision: 0.9607843137254902\n",
      "Recall: 0.875\n",
      "F1 Score: 0.9158878504672897\n",
      "Hit Rate: 0.875\n",
      "Average RoR: 0.011492027359999997\n"
     ]
    },
    {
     "name": "stderr",
     "output_type": "stream",
     "text": [
      "/Users/constantinernstberger/opt/anaconda3/envs/aiss/lib/python3.8/site-packages/keras/src/engine/training.py:3000: UserWarning: You are saving your model as an HDF5 file via `model.save()`. This file format is considered legacy. We recommend using instead the native Keras format, e.g. `model.save('my_model.keras')`.\n",
      "  saving_api.save_model(\n"
     ]
    },
    {
     "name": "stdout",
     "output_type": "stream",
     "text": [
      "Model saved as Line_14_5.h5\n",
      "--------------------------------------------------\n",
      "Predicting 5 days ahead using Line images with 30 days timeframe.\n",
      "1/1 [==============================] - 3s 3s/step - loss: 0.6881 - accuracy: 0.7500\n",
      "1/1 [==============================] - 1s 1s/step - loss: 3.2902 - accuracy: 0.6875\n",
      "2/2 [==============================] - 2s 979ms/step - loss: 0.7251 - accuracy: 0.5208\n",
      "2/2 [==============================] - 3s 2s/step - loss: 0.6729 - accuracy: 0.6562\n",
      "3/3 [==============================] - 4s 1s/step - loss: 0.6674 - accuracy: 0.6296\n",
      "4/4 [==============================] - 6s 1s/step - loss: 0.5745 - accuracy: 0.7526\n",
      "4/4 [==============================] - 7s 1s/step - loss: 0.6197 - accuracy: 0.6991\n",
      "5/5 [==============================] - 7s 1s/step - loss: 0.5589 - accuracy: 0.7442\n",
      "5/5 [==============================] - 7s 1s/step - loss: 0.5408 - accuracy: 0.7379\n",
      "6/6 [==============================] - 8s 1s/step - loss: 0.4851 - accuracy: 0.7901\n",
      "3/3 [==============================] - 1s 239ms/step\n",
      "Evaluation Metrics:\n",
      "Accuracy: 0.6857142857142857\n",
      "Precision: 0.9166666666666666\n",
      "Recall: 0.6346153846153846\n",
      "F1 Score: 0.75\n",
      "Hit Rate: 0.6857142857142857\n",
      "Average RoR: 0.011793101932310339\n"
     ]
    },
    {
     "name": "stderr",
     "output_type": "stream",
     "text": [
      "/Users/constantinernstberger/opt/anaconda3/envs/aiss/lib/python3.8/site-packages/keras/src/engine/training.py:3000: UserWarning: You are saving your model as an HDF5 file via `model.save()`. This file format is considered legacy. We recommend using instead the native Keras format, e.g. `model.save('my_model.keras')`.\n",
      "  saving_api.save_model(\n"
     ]
    },
    {
     "name": "stdout",
     "output_type": "stream",
     "text": [
      "Model saved as Line_30_5.h5\n",
      "--------------------------------------------------\n",
      "Predicting 5 days ahead using Line images with 90 days timeframe.\n",
      "1/1 [==============================] - 4s 4s/step - loss: 0.6934 - accuracy: 0.6000\n",
      "1/1 [==============================] - 6s 6s/step - loss: 3.3109 - accuracy: 0.7097\n",
      "2/2 [==============================] - 5s 2s/step - loss: 0.6723 - accuracy: 0.5652\n",
      "2/2 [==============================] - 5s 3s/step - loss: 0.7374 - accuracy: 0.5323\n",
      "3/3 [==============================] - 7s 2s/step - loss: 0.6879 - accuracy: 0.5128\n",
      "3/3 [==============================] - 16s 6s/step - loss: 0.6872 - accuracy: 0.5591\n",
      "4/4 [==============================] - 11s 2s/step - loss: 0.6752 - accuracy: 0.5780\n",
      "4/4 [==============================] - 10s 3s/step - loss: 0.6311 - accuracy: 0.6855\n",
      "5/5 [==============================] - 12s 2s/step - loss: 0.6451 - accuracy: 0.6286\n",
      "5/5 [==============================] - 13s 3s/step - loss: 0.5984 - accuracy: 0.6154\n",
      "3/3 [==============================] - 2s 405ms/step\n",
      "Evaluation Metrics:\n",
      "Accuracy: 0.6764705882352942\n",
      "Precision: 0.8157894736842105\n",
      "Recall: 0.6739130434782609\n",
      "F1 Score: 0.7380952380952381\n",
      "Hit Rate: 0.6764705882352942\n",
      "Average RoR: 0.010372807192088364\n"
     ]
    },
    {
     "name": "stderr",
     "output_type": "stream",
     "text": [
      "/Users/constantinernstberger/opt/anaconda3/envs/aiss/lib/python3.8/site-packages/keras/src/engine/training.py:3000: UserWarning: You are saving your model as an HDF5 file via `model.save()`. This file format is considered legacy. We recommend using instead the native Keras format, e.g. `model.save('my_model.keras')`.\n",
      "  saving_api.save_model(\n"
     ]
    },
    {
     "name": "stdout",
     "output_type": "stream",
     "text": [
      "Model saved as Line_90_5.h5\n",
      "--------------------------------------------------\n",
      "Predicting 30 days ahead using Line images with 90 days timeframe.\n",
      "1/1 [==============================] - 9s 9s/step - loss: 0.6886 - accuracy: 0.6667\n",
      "1/1 [==============================] - 3s 3s/step - loss: 4.2855 - accuracy: 0.7419\n",
      "2/2 [==============================] - 5s 2s/step - loss: 0.5266 - accuracy: 0.7826\n",
      "2/2 [==============================] - 5s 2s/step - loss: 0.6066 - accuracy: 0.7097\n",
      "3/3 [==============================] - 7s 2s/step - loss: 0.5412 - accuracy: 0.7692\n",
      "3/3 [==============================] - 8s 3s/step - loss: 0.4694 - accuracy: 0.8280\n",
      "4/4 [==============================] - 9s 2s/step - loss: 0.3848 - accuracy: 0.8532\n",
      "4/4 [==============================] - 10s 3s/step - loss: 0.2581 - accuracy: 0.8871\n",
      "5/5 [==============================] - 12s 2s/step - loss: 0.3041 - accuracy: 0.8857\n",
      "5/5 [==============================] - 13s 3s/step - loss: 0.3046 - accuracy: 0.8526\n",
      "3/3 [==============================] - 2s 382ms/step\n",
      "Evaluation Metrics:\n",
      "Accuracy: 0.75\n",
      "Precision: 0.8461538461538461\n",
      "Recall: 0.75\n",
      "F1 Score: 0.7951807228915662\n",
      "Hit Rate: 0.75\n",
      "Average RoR: 0.011541999111647444\n"
     ]
    },
    {
     "name": "stderr",
     "output_type": "stream",
     "text": [
      "/Users/constantinernstberger/opt/anaconda3/envs/aiss/lib/python3.8/site-packages/keras/src/engine/training.py:3000: UserWarning: You are saving your model as an HDF5 file via `model.save()`. This file format is considered legacy. We recommend using instead the native Keras format, e.g. `model.save('my_model.keras')`.\n",
      "  saving_api.save_model(\n"
     ]
    },
    {
     "name": "stdout",
     "output_type": "stream",
     "text": [
      "Model saved as Line_90_30.h5\n",
      "--------------------------------------------------\n",
      "Predicting 5 days ahead using Line images with 180 days timeframe.\n",
      "1/1 [==============================] - 9s 9s/step - loss: 0.6946 - accuracy: 0.4667\n",
      "1/1 [==============================] - 12s 12s/step - loss: 8.5527 - accuracy: 0.7333\n",
      "2/2 [==============================] - 15s 5s/step - loss: 0.6990 - accuracy: 0.4889\n",
      "2/2 [==============================] - 21s 9s/step - loss: 0.6844 - accuracy: 0.5333\n",
      "3/3 [==============================] - 25s 7s/step - loss: 0.7131 - accuracy: 0.5600\n",
      "3/3 [==============================] - 29s 9s/step - loss: 0.7230 - accuracy: 0.5000\n",
      "4/4 [==============================] - 56s 15s/step - loss: 0.6790 - accuracy: 0.5714\n",
      "4/4 [==============================] - 40s 10s/step - loss: 0.6570 - accuracy: 0.6083\n",
      "5/5 [==============================] - 48s 9s/step - loss: 0.6555 - accuracy: 0.6296\n",
      "5/5 [==============================] - 48s 9s/step - loss: 0.6801 - accuracy: 0.5828\n",
      "3/3 [==============================] - 5s 1s/step\n",
      "Evaluation Metrics:\n",
      "Accuracy: 0.47692307692307695\n",
      "Precision: 0.5952380952380952\n",
      "Recall: 0.5952380952380952\n",
      "F1 Score: 0.5952380952380952\n",
      "Hit Rate: 0.47692307692307695\n",
      "Average RoR: 0.007514036864494548\n"
     ]
    },
    {
     "name": "stderr",
     "output_type": "stream",
     "text": [
      "/Users/constantinernstberger/opt/anaconda3/envs/aiss/lib/python3.8/site-packages/keras/src/engine/training.py:3000: UserWarning: You are saving your model as an HDF5 file via `model.save()`. This file format is considered legacy. We recommend using instead the native Keras format, e.g. `model.save('my_model.keras')`.\n",
      "  saving_api.save_model(\n"
     ]
    },
    {
     "name": "stdout",
     "output_type": "stream",
     "text": [
      "Model saved as Line_180_5.h5\n",
      "--------------------------------------------------\n",
      "Predicting 30 days ahead using Line images with 180 days timeframe.\n",
      "1/1 [==============================] - 10s 10s/step - loss: 0.6967 - accuracy: 0.2000\n",
      "1/1 [==============================] - 12s 12s/step - loss: 6.2325 - accuracy: 0.7667\n",
      "2/2 [==============================] - 13s 4s/step - loss: 0.7295 - accuracy: 0.3333\n",
      "2/2 [==============================] - 21s 9s/step - loss: 0.7043 - accuracy: 0.4000\n",
      "3/3 [==============================] - 24s 7s/step - loss: 0.6115 - accuracy: 0.7600\n",
      "3/3 [==============================] - 32s 10s/step - loss: 0.5105 - accuracy: 0.7889\n",
      "4/4 [==============================] - 32s 7s/step - loss: 0.5301 - accuracy: 0.8095\n",
      "4/4 [==============================] - 43s 11s/step - loss: 0.5157 - accuracy: 0.7917\n",
      "5/5 [==============================] - 55s 9s/step - loss: 0.4891 - accuracy: 0.8000\n",
      "5/5 [==============================] - 46s 9s/step - loss: 0.5882 - accuracy: 0.7815\n",
      "3/3 [==============================] - 5s 1s/step\n",
      "Evaluation Metrics:\n",
      "Accuracy: 0.6461538461538462\n",
      "Precision: 0.66\n",
      "Recall: 0.8461538461538461\n",
      "F1 Score: 0.7415730337078651\n",
      "Hit Rate: 0.6461538461538462\n",
      "Average RoR: 0.011245496535023968\n"
     ]
    },
    {
     "name": "stderr",
     "output_type": "stream",
     "text": [
      "/Users/constantinernstberger/opt/anaconda3/envs/aiss/lib/python3.8/site-packages/keras/src/engine/training.py:3000: UserWarning: You are saving your model as an HDF5 file via `model.save()`. This file format is considered legacy. We recommend using instead the native Keras format, e.g. `model.save('my_model.keras')`.\n",
      "  saving_api.save_model(\n"
     ]
    },
    {
     "name": "stdout",
     "output_type": "stream",
     "text": [
      "Model saved as Line_180_30.h5\n",
      "--------------------------------------------------\n",
      "Predicting 90 days ahead using Line images with 180 days timeframe.\n",
      "1/1 [==============================] - 11s 11s/step - loss: 0.6907 - accuracy: 0.7333\n",
      "1/1 [==============================] - 10s 10s/step - loss: 6.9931 - accuracy: 0.8667\n",
      "2/2 [==============================] - 14s 4s/step - loss: 0.6496 - accuracy: 0.7111\n",
      "2/2 [==============================] - 19s 9s/step - loss: 0.8125 - accuracy: 0.6667\n",
      "3/3 [==============================] - 23s 6s/step - loss: 0.5965 - accuracy: 0.7067\n",
      "3/3 [==============================] - 26s 8s/step - loss: 0.4271 - accuracy: 0.8222\n",
      "4/4 [==============================] - 31s 7s/step - loss: 0.4860 - accuracy: 0.8190\n",
      "4/4 [==============================] - 36s 9s/step - loss: 0.3995 - accuracy: 0.8333\n",
      "5/5 [==============================] - 64s 11s/step - loss: 0.1813 - accuracy: 0.9481\n",
      "5/5 [==============================] - 46s 9s/step - loss: 0.1215 - accuracy: 0.9536\n",
      "3/3 [==============================] - 5s 1s/step\n",
      "Evaluation Metrics:\n",
      "Accuracy: 0.8769230769230769\n",
      "Precision: 0.9024390243902439\n",
      "Recall: 0.9024390243902439\n",
      "F1 Score: 0.9024390243902439\n",
      "Hit Rate: 0.8769230769230769\n",
      "Average RoR: 0.01600471594096922\n"
     ]
    },
    {
     "name": "stderr",
     "output_type": "stream",
     "text": [
      "/Users/constantinernstberger/opt/anaconda3/envs/aiss/lib/python3.8/site-packages/keras/src/engine/training.py:3000: UserWarning: You are saving your model as an HDF5 file via `model.save()`. This file format is considered legacy. We recommend using instead the native Keras format, e.g. `model.save('my_model.keras')`.\n",
      "  saving_api.save_model(\n"
     ]
    },
    {
     "name": "stdout",
     "output_type": "stream",
     "text": [
      "Model saved as Line_180_90.h5\n",
      "--------------------------------------------------\n",
      "Predicting 5 days ahead using Line images with 365 days timeframe.\n",
      "1/1 [==============================] - 15s 15s/step - loss: 0.6942 - accuracy: 0.3846\n",
      "1/1 [==============================] - 18s 18s/step - loss: 6.9674 - accuracy: 0.8462\n",
      "2/2 [==============================] - 27s 6s/step - loss: 0.6773 - accuracy: 0.7750\n",
      "2/2 [==============================] - 36s 17s/step - loss: 0.7205 - accuracy: 0.5094\n",
      "3/3 [==============================] - 44s 12s/step - loss: 0.6599 - accuracy: 0.6119\n",
      "3/3 [==============================] - 64s 22s/step - loss: 1.3443 - accuracy: 0.5375\n",
      "3/3 [==============================] - 77s 23s/step - loss: 0.6716 - accuracy: 0.5699\n",
      "4/4 [==============================] - 81s 20s/step - loss: 0.6889 - accuracy: 0.5794\n",
      "4/4 [==============================] - 78s 19s/step - loss: 0.6382 - accuracy: 0.6583\n",
      "5/5 [==============================] - 90s 17s/step - loss: 0.6206 - accuracy: 0.6642\n",
      "2/2 [==============================] - 10s 4s/step\n",
      "Evaluation Metrics:\n",
      "Accuracy: 0.41379310344827586\n",
      "Precision: 0.4\n",
      "Recall: 0.9565217391304348\n",
      "F1 Score: 0.5641025641025641\n",
      "Hit Rate: 0.41379310344827586\n",
      "Average RoR: -0.00292423359258412\n"
     ]
    },
    {
     "name": "stderr",
     "output_type": "stream",
     "text": [
      "/Users/constantinernstberger/opt/anaconda3/envs/aiss/lib/python3.8/site-packages/keras/src/engine/training.py:3000: UserWarning: You are saving your model as an HDF5 file via `model.save()`. This file format is considered legacy. We recommend using instead the native Keras format, e.g. `model.save('my_model.keras')`.\n",
      "  saving_api.save_model(\n"
     ]
    },
    {
     "name": "stdout",
     "output_type": "stream",
     "text": [
      "Model saved as Line_365_5.h5\n",
      "--------------------------------------------------\n",
      "Predicting 30 days ahead using Line images with 365 days timeframe.\n",
      "1/1 [==============================] - 16s 16s/step - loss: 0.7035 - accuracy: 0.1538\n",
      "1/1 [==============================] - 25s 25s/step - loss: 4.4469 - accuracy: 0.8846\n",
      "2/2 [==============================] - 62s 19s/step - loss: 0.5638 - accuracy: 0.8000\n",
      "2/2 [==============================] - 64s 31s/step - loss: 1.2504 - accuracy: 0.7170\n",
      "3/3 [==============================] - 64s 18s/step - loss: 0.6342 - accuracy: 0.7313\n",
      "3/3 [==============================] - 64s 21s/step - loss: 0.5170 - accuracy: 0.8000\n",
      "3/3 [==============================] - 71s 23s/step - loss: 0.4548 - accuracy: 0.8387\n",
      "4/4 [==============================] - 106s 25s/step - loss: 0.4103 - accuracy: 0.8505\n",
      "4/4 [==============================] - 91s 22s/step - loss: 0.3741 - accuracy: 0.8500\n",
      "5/5 [==============================] - 102s 19s/step - loss: 0.2846 - accuracy: 0.9030\n",
      "2/2 [==============================] - 10s 5s/step\n",
      "Evaluation Metrics:\n",
      "Accuracy: 0.25862068965517243\n",
      "Precision: 0.2727272727272727\n",
      "Recall: 0.8333333333333334\n",
      "F1 Score: 0.4109589041095891\n",
      "Hit Rate: 0.25862068965517243\n",
      "Average RoR: -0.017273287091736842\n"
     ]
    },
    {
     "name": "stderr",
     "output_type": "stream",
     "text": [
      "/Users/constantinernstberger/opt/anaconda3/envs/aiss/lib/python3.8/site-packages/keras/src/engine/training.py:3000: UserWarning: You are saving your model as an HDF5 file via `model.save()`. This file format is considered legacy. We recommend using instead the native Keras format, e.g. `model.save('my_model.keras')`.\n",
      "  saving_api.save_model(\n"
     ]
    },
    {
     "name": "stdout",
     "output_type": "stream",
     "text": [
      "Model saved as Line_365_30.h5\n",
      "--------------------------------------------------\n",
      "Predicting 90 days ahead using Line images with 365 days timeframe.\n",
      "1/1 [==============================] - 19s 19s/step - loss: 0.6949 - accuracy: 0.3077\n",
      "1/1 [==============================] - 20s 20s/step - loss: 8.7813 - accuracy: 0.8462\n",
      "2/2 [==============================] - 43s 11s/step - loss: 0.4549 - accuracy: 0.9000\n",
      "2/2 [==============================] - 55s 19s/step - loss: 0.6282 - accuracy: 0.6792\n",
      "3/3 [==============================] - 58s 16s/step - loss: 0.6461 - accuracy: 0.7164\n",
      "3/3 [==============================] - 63s 20s/step - loss: 0.5433 - accuracy: 0.7250\n",
      "3/3 [==============================] - 77s 27s/step - loss: 0.5083 - accuracy: 0.7634\n",
      "4/4 [==============================] - 89s 19s/step - loss: 0.3842 - accuracy: 0.8505\n",
      "4/4 [==============================] - 85s 21s/step - loss: 0.3107 - accuracy: 0.9000\n",
      "5/5 [==============================] - 92s 18s/step - loss: 0.2694 - accuracy: 0.9179\n",
      "2/2 [==============================] - 8s 4s/step\n",
      "Evaluation Metrics:\n",
      "Accuracy: 0.6896551724137931\n",
      "Precision: 0.5517241379310345\n",
      "Recall: 0.7619047619047619\n",
      "F1 Score: 0.64\n",
      "Hit Rate: 0.6896551724137931\n",
      "Average RoR: -0.03309965395855883\n"
     ]
    },
    {
     "name": "stderr",
     "output_type": "stream",
     "text": [
      "/Users/constantinernstberger/opt/anaconda3/envs/aiss/lib/python3.8/site-packages/keras/src/engine/training.py:3000: UserWarning: You are saving your model as an HDF5 file via `model.save()`. This file format is considered legacy. We recommend using instead the native Keras format, e.g. `model.save('my_model.keras')`.\n",
      "  saving_api.save_model(\n"
     ]
    },
    {
     "name": "stdout",
     "output_type": "stream",
     "text": [
      "Model saved as Line_365_90.h5\n",
      "--------------------------------------------------\n",
      "Predicting 5 days ahead using AlgoTrading images with 14 days timeframe.\n",
      "1/1 [==============================] - 3s 3s/step - loss: 0.6816 - accuracy: 0.7500\n",
      "2/2 [==============================] - 1s 193ms/step - loss: 1.2385 - accuracy: 0.6667\n",
      "2/2 [==============================] - 1s 449ms/step - loss: 0.6698 - accuracy: 0.6600\n",
      "3/3 [==============================] - 1s 370ms/step - loss: 0.5870 - accuracy: 0.7313\n",
      "3/3 [==============================] - 2s 554ms/step - loss: 0.4935 - accuracy: 0.7976\n",
      "4/4 [==============================] - 3s 613ms/step - loss: 0.3269 - accuracy: 0.8600\n",
      "4/4 [==============================] - 3s 627ms/step - loss: 0.2273 - accuracy: 0.9060\n",
      "5/5 [==============================] - 3s 584ms/step - loss: 0.2104 - accuracy: 0.9030\n",
      "5/5 [==============================] - 3s 680ms/step - loss: 0.2102 - accuracy: 0.9272\n",
      "6/6 [==============================] - 3s 558ms/step - loss: 0.2003 - accuracy: 0.9286\n",
      "3/3 [==============================] - 0s 93ms/step\n",
      "Evaluation Metrics:\n",
      "Accuracy: 0.8194444444444444\n",
      "Precision: 0.9387755102040817\n",
      "Recall: 0.8214285714285714\n",
      "F1 Score: 0.8761904761904763\n",
      "Hit Rate: 0.8194444444444444\n",
      "Average RoR: 0.011492027359999994\n"
     ]
    },
    {
     "name": "stderr",
     "output_type": "stream",
     "text": [
      "/Users/constantinernstberger/opt/anaconda3/envs/aiss/lib/python3.8/site-packages/keras/src/engine/training.py:3000: UserWarning: You are saving your model as an HDF5 file via `model.save()`. This file format is considered legacy. We recommend using instead the native Keras format, e.g. `model.save('my_model.keras')`.\n",
      "  saving_api.save_model(\n"
     ]
    },
    {
     "name": "stdout",
     "output_type": "stream",
     "text": [
      "Model saved as AlgoTrading_14_5.h5\n",
      "--------------------------------------------------\n",
      "Predicting 5 days ahead using AlgoTrading images with 30 days timeframe.\n",
      "1/1 [==============================] - 4s 4s/step - loss: 0.6967 - accuracy: 0.2500\n",
      "1/1 [==============================] - 2s 2s/step - loss: 1.4714 - accuracy: 0.6875\n",
      "2/2 [==============================] - 3s 1s/step - loss: 0.6615 - accuracy: 0.5625\n",
      "2/2 [==============================] - 4s 2s/step - loss: 0.6786 - accuracy: 0.5625\n",
      "3/3 [==============================] - 9s 3s/step - loss: 0.6696 - accuracy: 0.5185\n",
      "4/4 [==============================] - 7s 2s/step - loss: 0.6558 - accuracy: 0.6495\n",
      "4/4 [==============================] - 6s 1s/step - loss: 0.5986 - accuracy: 0.6991\n",
      "5/5 [==============================] - 7s 1s/step - loss: 0.5052 - accuracy: 0.7287\n",
      "5/5 [==============================] - 8s 1s/step - loss: 0.4451 - accuracy: 0.8414\n",
      "6/6 [==============================] - 8s 1s/step - loss: 0.3391 - accuracy: 0.8519\n",
      "3/3 [==============================] - 1s 236ms/step\n",
      "Evaluation Metrics:\n",
      "Accuracy: 0.7285714285714285\n",
      "Precision: 0.9696969696969697\n",
      "Recall: 0.64\n",
      "F1 Score: 0.7710843373493975\n",
      "Hit Rate: 0.7285714285714285\n",
      "Average RoR: 0.010493673635674302\n"
     ]
    },
    {
     "name": "stderr",
     "output_type": "stream",
     "text": [
      "/Users/constantinernstberger/opt/anaconda3/envs/aiss/lib/python3.8/site-packages/keras/src/engine/training.py:3000: UserWarning: You are saving your model as an HDF5 file via `model.save()`. This file format is considered legacy. We recommend using instead the native Keras format, e.g. `model.save('my_model.keras')`.\n",
      "  saving_api.save_model(\n"
     ]
    },
    {
     "name": "stdout",
     "output_type": "stream",
     "text": [
      "Model saved as AlgoTrading_30_5.h5\n",
      "--------------------------------------------------\n",
      "Predicting 5 days ahead using AlgoTrading images with 90 days timeframe.\n",
      "1/1 [==============================] - 5s 5s/step - loss: 0.6928 - accuracy: 0.4667\n",
      "1/1 [==============================] - 3s 3s/step - loss: 2.9086 - accuracy: 0.7097\n",
      "2/2 [==============================] - 4s 1s/step - loss: 0.5910 - accuracy: 0.7609\n",
      "2/2 [==============================] - 5s 3s/step - loss: 0.6483 - accuracy: 0.7097\n",
      "3/3 [==============================] - 7s 2s/step - loss: 0.6878 - accuracy: 0.6795\n",
      "3/3 [==============================] - 9s 3s/step - loss: 0.8449 - accuracy: 0.5591\n",
      "4/4 [==============================] - 10s 2s/step - loss: 0.6639 - accuracy: 0.5596\n",
      "4/4 [==============================] - 11s 3s/step - loss: 0.7183 - accuracy: 0.4919\n",
      "5/5 [==============================] - 12s 2s/step - loss: 0.6362 - accuracy: 0.6643\n",
      "5/5 [==============================] - 13s 3s/step - loss: 0.6238 - accuracy: 0.6218\n",
      "3/3 [==============================] - 2s 417ms/step\n",
      "Evaluation Metrics:\n",
      "Accuracy: 0.6470588235294118\n",
      "Precision: 0.7169811320754716\n",
      "Recall: 0.8085106382978723\n",
      "F1 Score: 0.76\n",
      "Hit Rate: 0.6470588235294118\n",
      "Average RoR: 0.011151480207671276\n"
     ]
    },
    {
     "name": "stderr",
     "output_type": "stream",
     "text": [
      "/Users/constantinernstberger/opt/anaconda3/envs/aiss/lib/python3.8/site-packages/keras/src/engine/training.py:3000: UserWarning: You are saving your model as an HDF5 file via `model.save()`. This file format is considered legacy. We recommend using instead the native Keras format, e.g. `model.save('my_model.keras')`.\n",
      "  saving_api.save_model(\n"
     ]
    },
    {
     "name": "stdout",
     "output_type": "stream",
     "text": [
      "Model saved as AlgoTrading_90_5.h5\n",
      "--------------------------------------------------\n",
      "Predicting 30 days ahead using AlgoTrading images with 90 days timeframe.\n",
      "1/1 [==============================] - 3s 3s/step - loss: 0.6844 - accuracy: 0.7333\n",
      "1/1 [==============================] - 3s 3s/step - loss: 4.3328 - accuracy: 0.7419\n",
      "2/2 [==============================] - 4s 2s/step - loss: 0.5823 - accuracy: 0.6522\n",
      "2/2 [==============================] - 5s 2s/step - loss: 0.6650 - accuracy: 0.7742\n",
      "3/3 [==============================] - 7s 2s/step - loss: 0.5130 - accuracy: 0.7692\n",
      "3/3 [==============================] - 8s 3s/step - loss: 0.5802 - accuracy: 0.7957\n",
      "4/4 [==============================] - 9s 2s/step - loss: 0.4571 - accuracy: 0.7982\n",
      "4/4 [==============================] - 11s 3s/step - loss: 0.4084 - accuracy: 0.8306\n",
      "5/5 [==============================] - 12s 2s/step - loss: 0.3373 - accuracy: 0.8571\n",
      "5/5 [==============================] - 13s 3s/step - loss: 0.4304 - accuracy: 0.8269\n",
      "3/3 [==============================] - 2s 385ms/step\n",
      "Evaluation Metrics:\n",
      "Accuracy: 0.7352941176470589\n",
      "Precision: 0.9354838709677419\n",
      "Recall: 0.6444444444444445\n",
      "F1 Score: 0.763157894736842\n",
      "Hit Rate: 0.7352941176470589\n",
      "Average RoR: 0.012832535901444167\n"
     ]
    },
    {
     "name": "stderr",
     "output_type": "stream",
     "text": [
      "/Users/constantinernstberger/opt/anaconda3/envs/aiss/lib/python3.8/site-packages/keras/src/engine/training.py:3000: UserWarning: You are saving your model as an HDF5 file via `model.save()`. This file format is considered legacy. We recommend using instead the native Keras format, e.g. `model.save('my_model.keras')`.\n",
      "  saving_api.save_model(\n"
     ]
    },
    {
     "name": "stdout",
     "output_type": "stream",
     "text": [
      "Model saved as AlgoTrading_90_30.h5\n",
      "--------------------------------------------------\n",
      "Predicting 5 days ahead using AlgoTrading images with 180 days timeframe.\n",
      "1/1 [==============================] - 19s 19s/step - loss: 0.6876 - accuracy: 0.8667\n",
      "1/1 [==============================] - 11s 11s/step - loss: 12.2095 - accuracy: 0.7333\n",
      "2/2 [==============================] - 17s 4s/step - loss: 0.6674 - accuracy: 0.6667\n",
      "2/2 [==============================] - 28s 16s/step - loss: 0.7194 - accuracy: 0.4667\n",
      "3/3 [==============================] - 43s 11s/step - loss: 0.7077 - accuracy: 0.4933\n",
      "3/3 [==============================] - 31s 10s/step - loss: 0.7053 - accuracy: 0.4444\n",
      "4/4 [==============================] - 38s 8s/step - loss: 0.6963 - accuracy: 0.4762\n",
      "4/4 [==============================] - 39s 9s/step - loss: 0.6967 - accuracy: 0.4667\n",
      "5/5 [==============================] - 45s 9s/step - loss: 0.6792 - accuracy: 0.5704\n",
      "5/5 [==============================] - 47s 9s/step - loss: 0.6970 - accuracy: 0.5430\n",
      "3/3 [==============================] - 5s 1s/step\n",
      "Evaluation Metrics:\n",
      "Accuracy: 0.6461538461538462\n",
      "Precision: 0.6461538461538462\n",
      "Recall: 1.0\n",
      "F1 Score: 0.7850467289719627\n",
      "Hit Rate: 0.6461538461538462\n",
      "Average RoR: 0.007900970443083376\n"
     ]
    },
    {
     "name": "stderr",
     "output_type": "stream",
     "text": [
      "/Users/constantinernstberger/opt/anaconda3/envs/aiss/lib/python3.8/site-packages/keras/src/engine/training.py:3000: UserWarning: You are saving your model as an HDF5 file via `model.save()`. This file format is considered legacy. We recommend using instead the native Keras format, e.g. `model.save('my_model.keras')`.\n",
      "  saving_api.save_model(\n"
     ]
    },
    {
     "name": "stdout",
     "output_type": "stream",
     "text": [
      "Model saved as AlgoTrading_180_5.h5\n",
      "--------------------------------------------------\n",
      "Predicting 30 days ahead using AlgoTrading images with 180 days timeframe.\n",
      "1/1 [==============================] - 10s 10s/step - loss: 0.7002 - accuracy: 0.1333\n",
      "1/1 [==============================] - 12s 12s/step - loss: 4.4888 - accuracy: 0.7667\n",
      "2/2 [==============================] - 16s 4s/step - loss: 0.7186 - accuracy: 0.5111\n",
      "2/2 [==============================] - 25s 11s/step - loss: 0.6708 - accuracy: 0.5333\n",
      "3/3 [==============================] - 65s 9s/step - loss: 0.5455 - accuracy: 0.7600\n",
      "3/3 [==============================] - 40s 12s/step - loss: 0.5227 - accuracy: 0.7889\n",
      "4/4 [==============================] - 46s 11s/step - loss: 0.5130 - accuracy: 0.7905\n",
      "4/4 [==============================] - 54s 13s/step - loss: 0.5062 - accuracy: 0.7917\n",
      "5/5 [==============================] - 60s 11s/step - loss: 0.5192 - accuracy: 0.8000\n",
      "5/5 [==============================] - 81s 17s/step - loss: 0.5766 - accuracy: 0.7285\n",
      "3/3 [==============================] - 14s 4s/step\n",
      "Evaluation Metrics:\n",
      "Accuracy: 0.6\n",
      "Precision: 0.6\n",
      "Recall: 1.0\n",
      "F1 Score: 0.7499999999999999\n",
      "Hit Rate: 0.6\n",
      "Average RoR: 0.01143695703607293\n"
     ]
    },
    {
     "name": "stderr",
     "output_type": "stream",
     "text": [
      "/Users/constantinernstberger/opt/anaconda3/envs/aiss/lib/python3.8/site-packages/keras/src/engine/training.py:3000: UserWarning: You are saving your model as an HDF5 file via `model.save()`. This file format is considered legacy. We recommend using instead the native Keras format, e.g. `model.save('my_model.keras')`.\n",
      "  saving_api.save_model(\n"
     ]
    },
    {
     "name": "stdout",
     "output_type": "stream",
     "text": [
      "Model saved as AlgoTrading_180_30.h5\n",
      "--------------------------------------------------\n",
      "Predicting 90 days ahead using AlgoTrading images with 180 days timeframe.\n",
      "1/1 [==============================] - 11s 11s/step - loss: 0.6933 - accuracy: 0.5333\n",
      "1/1 [==============================] - 15s 15s/step - loss: 4.7558 - accuracy: 0.8667\n",
      "2/2 [==============================] - 16s 4s/step - loss: 0.5710 - accuracy: 0.8000\n",
      "2/2 [==============================] - 21s 9s/step - loss: 0.7110 - accuracy: 0.6667\n",
      "3/3 [==============================] - 22s 7s/step - loss: 0.6019 - accuracy: 0.7467\n",
      "3/3 [==============================] - 27s 9s/step - loss: 0.4307 - accuracy: 0.8222\n",
      "4/4 [==============================] - 32s 8s/step - loss: 0.3258 - accuracy: 0.8952\n",
      "4/4 [==============================] - 44s 9s/step - loss: 0.1890 - accuracy: 0.9250\n",
      "5/5 [==============================] - 42s 8s/step - loss: 0.1716 - accuracy: 0.9333\n",
      "5/5 [==============================] - 68s 15s/step - loss: 0.1582 - accuracy: 0.9603\n",
      "3/3 [==============================] - 6s 1s/step\n",
      "Evaluation Metrics:\n",
      "Accuracy: 0.8769230769230769\n",
      "Precision: 0.9024390243902439\n",
      "Recall: 0.9024390243902439\n",
      "F1 Score: 0.9024390243902439\n",
      "Hit Rate: 0.8769230769230769\n",
      "Average RoR: 0.014834912806079991\n"
     ]
    },
    {
     "name": "stderr",
     "output_type": "stream",
     "text": [
      "/Users/constantinernstberger/opt/anaconda3/envs/aiss/lib/python3.8/site-packages/keras/src/engine/training.py:3000: UserWarning: You are saving your model as an HDF5 file via `model.save()`. This file format is considered legacy. We recommend using instead the native Keras format, e.g. `model.save('my_model.keras')`.\n",
      "  saving_api.save_model(\n"
     ]
    },
    {
     "name": "stdout",
     "output_type": "stream",
     "text": [
      "Model saved as AlgoTrading_180_90.h5\n",
      "--------------------------------------------------\n",
      "Predicting 5 days ahead using AlgoTrading images with 365 days timeframe.\n",
      "1/1 [==============================] - 15s 15s/step - loss: 0.6898 - accuracy: 0.7692\n",
      "1/1 [==============================] - 21s 21s/step - loss: 10.8315 - accuracy: 0.8462\n",
      "2/2 [==============================] - 34s 11s/step - loss: 0.6432 - accuracy: 0.6500\n",
      "2/2 [==============================] - 36s 16s/step - loss: 0.6877 - accuracy: 0.6038\n",
      "3/3 [==============================] - 44s 11s/step - loss: 1.0821 - accuracy: 0.5224\n",
      "3/3 [==============================] - 54s 17s/step - loss: 0.6816 - accuracy: 0.6125\n",
      "3/3 [==============================] - 69s 23s/step - loss: 0.7222 - accuracy: 0.4301\n",
      "4/4 [==============================] - 104s 26s/step - loss: 0.6997 - accuracy: 0.5047\n",
      "4/4 [==============================] - 87s 22s/step - loss: 0.6831 - accuracy: 0.5833\n",
      "5/5 [==============================] - 100s 19s/step - loss: 0.6756 - accuracy: 0.6194\n",
      "2/2 [==============================] - 8s 3s/step\n",
      "Evaluation Metrics:\n",
      "Accuracy: 0.4482758620689655\n",
      "Precision: 0.41509433962264153\n",
      "Recall: 0.9565217391304348\n",
      "F1 Score: 0.5789473684210527\n",
      "Hit Rate: 0.4482758620689655\n",
      "Average RoR: -0.002815080789779799\n"
     ]
    },
    {
     "name": "stderr",
     "output_type": "stream",
     "text": [
      "/Users/constantinernstberger/opt/anaconda3/envs/aiss/lib/python3.8/site-packages/keras/src/engine/training.py:3000: UserWarning: You are saving your model as an HDF5 file via `model.save()`. This file format is considered legacy. We recommend using instead the native Keras format, e.g. `model.save('my_model.keras')`.\n",
      "  saving_api.save_model(\n"
     ]
    },
    {
     "name": "stdout",
     "output_type": "stream",
     "text": [
      "Model saved as AlgoTrading_365_5.h5\n",
      "--------------------------------------------------\n",
      "Predicting 30 days ahead using AlgoTrading images with 365 days timeframe.\n",
      "1/1 [==============================] - 47s 47s/step - loss: 0.6893 - accuracy: 0.8462\n",
      "1/1 [==============================] - 21s 21s/step - loss: 7.6031 - accuracy: 0.8846\n",
      "2/2 [==============================] - 34s 11s/step - loss: 0.5795 - accuracy: 0.7000\n",
      "2/2 [==============================] - 36s 16s/step - loss: 0.6881 - accuracy: 0.5472\n",
      "3/3 [==============================] - 49s 15s/step - loss: 0.6108 - accuracy: 0.7313\n",
      "3/3 [==============================] - 57s 17s/step - loss: 2.1423 - accuracy: 0.7750\n",
      "3/3 [==============================] - 74s 22s/step - loss: 0.5550 - accuracy: 0.7849\n",
      "4/4 [==============================] - 80s 20s/step - loss: 0.5812 - accuracy: 0.7850\n",
      "4/4 [==============================] - 96s 26s/step - loss: 0.5542 - accuracy: 0.7917\n",
      "5/5 [==============================] - 92s 18s/step - loss: 0.5141 - accuracy: 0.7985\n",
      "2/2 [==============================] - 7s 3s/step\n",
      "Evaluation Metrics:\n",
      "Accuracy: 0.3275862068965517\n",
      "Precision: 0.3275862068965517\n",
      "Recall: 1.0\n",
      "F1 Score: 0.49350649350649356\n",
      "Hit Rate: 0.3275862068965517\n",
      "Average RoR: -0.016095763437278768\n"
     ]
    },
    {
     "name": "stderr",
     "output_type": "stream",
     "text": [
      "/Users/constantinernstberger/opt/anaconda3/envs/aiss/lib/python3.8/site-packages/keras/src/engine/training.py:3000: UserWarning: You are saving your model as an HDF5 file via `model.save()`. This file format is considered legacy. We recommend using instead the native Keras format, e.g. `model.save('my_model.keras')`.\n",
      "  saving_api.save_model(\n"
     ]
    },
    {
     "name": "stdout",
     "output_type": "stream",
     "text": [
      "Model saved as AlgoTrading_365_30.h5\n",
      "--------------------------------------------------\n",
      "Predicting 90 days ahead using AlgoTrading images with 365 days timeframe.\n",
      "1/1 [==============================] - 27s 27s/step - loss: 0.6912 - accuracy: 0.6923\n",
      "1/1 [==============================] - 21s 21s/step - loss: 5.1994 - accuracy: 0.8462\n",
      "2/2 [==============================] - 30s 9s/step - loss: 0.3978 - accuracy: 0.8750\n",
      "2/2 [==============================] - 53s 21s/step - loss: 0.7721 - accuracy: 0.6792\n",
      "3/3 [==============================] - 59s 17s/step - loss: 0.6353 - accuracy: 0.7015\n",
      "3/3 [==============================] - 61s 18s/step - loss: 0.6505 - accuracy: 0.8000\n",
      "3/3 [==============================] - 76s 25s/step - loss: 0.5500 - accuracy: 0.7742\n",
      "4/4 [==============================] - 73s 17s/step - loss: 0.4883 - accuracy: 0.7850\n",
      "4/4 [==============================] - 110s 30s/step - loss: 0.5112 - accuracy: 0.8000\n",
      "5/5 [==============================] - 106s 19s/step - loss: 0.4411 - accuracy: 0.7836\n",
      "2/2 [==============================] - 7s 3s/step\n",
      "Evaluation Metrics:\n",
      "Accuracy: 0.3793103448275862\n",
      "Precision: 0.3793103448275862\n",
      "Recall: 1.0\n",
      "F1 Score: 0.5499999999999999\n",
      "Hit Rate: 0.3793103448275862\n",
      "Average RoR: -0.030515262990759927\n"
     ]
    },
    {
     "name": "stderr",
     "output_type": "stream",
     "text": [
      "/Users/constantinernstberger/opt/anaconda3/envs/aiss/lib/python3.8/site-packages/keras/src/engine/training.py:3000: UserWarning: You are saving your model as an HDF5 file via `model.save()`. This file format is considered legacy. We recommend using instead the native Keras format, e.g. `model.save('my_model.keras')`.\n",
      "  saving_api.save_model(\n"
     ]
    },
    {
     "name": "stdout",
     "output_type": "stream",
     "text": [
      "Model saved as AlgoTrading_365_90.h5\n",
      "--------------------------------------------------\n",
      "Evaluation scores saved to 'evaluation_scores.csv'.\n"
     ]
    }
   ],
   "source": [
    "# Train and evaluate the model for each img_type, timeframe, and prediction\n",
    "\n",
    "evaluation_df = pd.DataFrame(columns=['Image_Type', 'Timeframe', 'Prediction', 'Accuracy', 'Precision', 'Recall', 'F1_Score', 'Hit_Rate', 'Average_RoR'])\n",
    "\n",
    "for img_type in IMG_TYPES:\n",
    "    for timeframe in TIMEFRAMES:\n",
    "        for prediction in PREDICTIONS:\n",
    "            if prediction < timeframe:\n",
    "                print(f\"Predicting {prediction} days ahead using {img_type} images with {timeframe} days timeframe.\")\n",
    "                \n",
    "                # Filter your data based on prediction, img_type, and timeframe\n",
    "                data = labels[(labels['TimePrediction'] == prediction) & (labels['Image'].str.contains(img_type)) & (labels['Image'].str.contains(f'_{timeframe}_'))]\n",
    "                data = data.reset_index(drop=True)  # Reset the index to maintain temporal order\n",
    "                \n",
    "                # Create and compile your CNN model based on timeframe\n",
    "                if timeframe == 14:\n",
    "                    model = create_cnn_model(2, input_shape=(120, 85, 1))\n",
    "                elif timeframe == 30:\n",
    "                    model = create_cnn_model(3, input_shape=(120, 132, 1))\n",
    "                elif timeframe == 90:\n",
    "                    model = create_cnn_model(3, input_shape=(120, 226, 1))\n",
    "                elif timeframe == 180:\n",
    "                    model = create_cnn_model(4, input_shape=(120, 414, 1))\n",
    "                elif timeframe == 365:\n",
    "                    model = create_cnn_model(4, input_shape=(120, 602, 1))\n",
    "                \n",
    "                X = np.array(data['Image_Array'].tolist()) / 255.0\n",
    "                lastPrice = np.array(data['LastPrice'].tolist())\n",
    "                futurePrice = np.array(data['FuturePrice'].tolist())\n",
    "                y = data['Label']\n",
    "                # Split the data into training and validation sets in temporal order\n",
    "                split_index = int(len(X) * 0.7)\n",
    "                X_train, X_test = X[:split_index], X[split_index:]\n",
    "                y_train, y_test = y[:split_index], y[split_index:]\n",
    "                lastPrice_test = lastPrice[split_index:]\n",
    "                futurePrice_test = futurePrice[split_index:]\n",
    "\n",
    "                # Shuffle test data\n",
    "                X_test, y_test, lastPrice_test, futurePrice_test = shuffle(X_test, y_test, lastPrice_test, futurePrice_test, random_state=0)\n",
    "                \n",
    "                # Train the model on 10 windows of data\n",
    "                window_size = len(X_train)/10\n",
    "                num_windows = 10\n",
    "\n",
    "                for epoch in range(10):  # 10 epochs\n",
    "                    start = 0\n",
    "                    end = int(window_size * (epoch + 1))\n",
    "                    X_temp = X_train[start:end]\n",
    "                    y_temp = y_train[start:end]\n",
    "                    split_index = int(len(X) * 0.9)\n",
    "                    X_train_temp, X_val_temp = X_temp[:split_index], X_temp[split_index:]\n",
    "                    y_train_temp, y_val_temp = y_temp[:split_index], y_temp[split_index:]\n",
    "                    model.fit(X_train_temp, y_train_temp, batch_size=32, epochs=1, validation_data=(X_val_temp, y_val_temp))            \n",
    "                \n",
    "                # Evaluate the model on test data\n",
    "                y_pred = model.predict(X_test)\n",
    "                # Convert predictions to binary: if > 0.5 then 1 else 0\n",
    "                y_pred_binary = np.where(y_pred > 0.5, 1, 0)\n",
    "                \n",
    "                accuracy = accuracy_score(y_test, y_pred_binary)\n",
    "                precision = precision_score(y_test, y_pred_binary)\n",
    "                recall = recall_score(y_test, y_pred_binary)\n",
    "                f1_score = fbeta_score(y_test, y_pred_binary, beta=1)\n",
    "\n",
    "                y_test_array = y_test.values.ravel()  # Convert y_test to a 1D NumPy array if it's a pandas Series\n",
    "                correct_predictions = np.sum(y_pred_binary.ravel() == y_test_array)\n",
    "                hit_rate = correct_predictions / len(y_test_array)\n",
    "\n",
    "                # Calculate Rate of Return RoR\n",
    "                ror = np.where(y_pred_binary == 1, ((futurePrice_test - lastPrice_test)/lastPrice_test), 0)\n",
    "                # Drop all 0s from the array\n",
    "                ror = ror[ror != 0]\n",
    "                # Calculate average RoR\n",
    "                avg_ror = np.mean(ror)\n",
    "                \n",
    "                print(\"Evaluation Metrics:\")\n",
    "                print(f\"Accuracy: {accuracy}\")\n",
    "                print(f\"Precision: {precision}\")\n",
    "                print(f\"Recall: {recall}\")\n",
    "                print(f\"F1 Score: {f1_score}\")\n",
    "                print(f\"Hit Rate: {hit_rate}\")\n",
    "                print(f\"Average RoR: {avg_ror}\")\n",
    "                \n",
    "                # Add the evaluation metrics to the DataFrame\n",
    "                evaluation_df = evaluation_df.append({\n",
    "                    'Image_Type': img_type,\n",
    "                    'Timeframe': timeframe,\n",
    "                    'Prediction': prediction,\n",
    "                    'Accuracy': accuracy,\n",
    "                    'Precision': precision,\n",
    "                    'Recall': recall,\n",
    "                    'F1_Score': f1_score,\n",
    "                    'Hit_Rate': hit_rate,\n",
    "                    'Average_RoR': avg_ror\n",
    "                }, ignore_index=True)\n",
    "                \n",
    "                # Save the model\n",
    "                model.save(f\"models/{img_type}_{timeframe}_{prediction}.h5\")\n",
    "                print(f\"Model saved as {img_type}_{timeframe}_{prediction}.h5\")\n",
    "                print(\"--------------------------------------------------\")\n",
    "\n",
    "# Save the evaluation DataFrame to a CSV file\n",
    "evaluation_df.to_csv('evaluation_scores.csv', index=False)\n",
    "print(\"Evaluation scores saved to 'evaluation_scores.csv'.\")"
   ]
  },
  {
   "attachments": {},
   "cell_type": "markdown",
   "metadata": {},
   "source": []
  },
  {
   "cell_type": "code",
   "execution_count": null,
   "metadata": {},
   "outputs": [],
   "source": [
    "# Train models on all images types and evaluate them based on timeframe and prediction\n",
    "\n",
    "evaluation_df = pd.DataFrame(columns=['Timeframe', 'Prediction', 'Accuracy', 'Precision', 'Recall', 'F1_Score', 'Hit_Rate', 'Average_RoR'])\n",
    "\n",
    "for timeframe in TIMEFRAMES:\n",
    "    for prediction in PREDICTIONS:\n",
    "        if prediction < timeframe:\n",
    "            print(f\"Predicting {prediction} days ahead with {timeframe} days timeframe.\")\n",
    "            \n",
    "            # Filter your data based on prediction, img_type, and timeframe\n",
    "            data = labels[(labels['TimePrediction'] == prediction) & (labels['Image'].str.contains(f'_{timeframe}_'))]\n",
    "            data = data.reset_index(drop=True)  # Reset the index to maintain temporal order\n",
    "            \n",
    "            # Create and compile your CNN model based on timeframe\n",
    "            if timeframe == 14:\n",
    "                model = create_cnn_model(2, input_shape=(120, 85, 1))\n",
    "            elif timeframe == 30:\n",
    "                model = create_cnn_model(3, input_shape=(120, 132, 1))\n",
    "            elif timeframe == 90:\n",
    "                model = create_cnn_model(3, input_shape=(120, 226, 1))\n",
    "            elif timeframe == 180:\n",
    "                model = create_cnn_model(4, input_shape=(120, 414, 1))\n",
    "            elif timeframe == 365:\n",
    "                model = create_cnn_model(4, input_shape=(120, 602, 1))\n",
    "            \n",
    "            X = np.array(data['Image_Array'].tolist()) / 255.0\n",
    "            lastPrice = np.array(data['LastPrice'].tolist())\n",
    "            futurePrice = np.array(data['FuturePrice'].tolist())\n",
    "            y = data['Label']\n",
    "            # Split the data into training and validation sets in temporal order\n",
    "            split_index = int(len(X) * 0.7)\n",
    "            X_train, X_test = X[:split_index], X[split_index:]\n",
    "            y_train, y_test = y[:split_index], y[split_index:]\n",
    "            lastPrice_test = lastPrice[split_index:]\n",
    "            futurePrice_test = futurePrice[split_index:]\n",
    "            \n",
    "            window_size = len(X_train)/10\n",
    "            num_windows = 10\n",
    "\n",
    "            for epoch in range(10):  # 10 epochs\n",
    "                start = 0\n",
    "                end = int(window_size * (epoch + 1))\n",
    "                X_temp = X_train[start:end]\n",
    "                y_temp = y_train[start:end]\n",
    "                split_index = int(len(X) * 0.9)\n",
    "                X_train_temp, X_val_temp = X_temp[:split_index], X_temp[split_index:]\n",
    "                y_train_temp, y_val_temp = y_temp[:split_index], y_temp[split_index:]\n",
    "                model.fit(X_train_temp, y_train_temp, batch_size=32, epochs=1, validation_data=(X_val_temp, y_val_temp))            \n",
    "            \n",
    "            # Evaluate the model\n",
    "            y_pred = model.predict(X_test)\n",
    "            # Convert predictions to binary: if > 0.5 then 1 else 0\n",
    "            y_pred_binary = np.where(y_pred > 0.5, 1, 0)\n",
    "            \n",
    "            accuracy = accuracy_score(y_test, y_pred_binary)\n",
    "            precision = precision_score(y_test, y_pred_binary)\n",
    "            recall = recall_score(y_test, y_pred_binary)\n",
    "            f1_score = fbeta_score(y_test, y_pred_binary, beta=1)\n",
    "\n",
    "            y_test_array = y_test.values.ravel()  # Convert y_test to a 1D NumPy array if it's a pandas Series\n",
    "            correct_predictions = np.sum(y_pred_binary.ravel() == y_test_array)\n",
    "            hit_rate = correct_predictions / len(y_test_array)\n",
    "\n",
    "            # Calculate Rate of Return RoR\n",
    "            ror = np.where(y_pred_binary == 1, ((futurePrice_test - lastPrice_test)/lastPrice_test), 0)\n",
    "            # Drop all 0s from the array\n",
    "            ror = ror[ror != 0]\n",
    "            # Calculate average RoR\n",
    "            avg_ror = np.mean(ror)\n",
    "            \n",
    "            print(\"Evaluation Metrics:\")\n",
    "            print(f\"Accuracy: {accuracy}\")\n",
    "            print(f\"Precision: {precision}\")\n",
    "            print(f\"Recall: {recall}\")\n",
    "            print(f\"F1 Score: {f1_score}\")\n",
    "            print(f\"Hit Rate: {hit_rate}\")\n",
    "            print(f\"Average RoR: {avg_ror}\")\n",
    "            \n",
    "            # Add the evaluation metrics to the DataFrame\n",
    "            evaluation_df = evaluation_df.append({\n",
    "                'Timeframe': timeframe,\n",
    "                'Prediction': prediction,\n",
    "                'Accuracy': accuracy,\n",
    "                'Precision': precision,\n",
    "                'Recall': recall,\n",
    "                'F1_Score': f1_score,\n",
    "                'Hit_Rate': hit_rate,\n",
    "                'Average_RoR': avg_ror\n",
    "            }, ignore_index=True)\n",
    "            \n",
    "            # Save the model\n",
    "            model.save(f\"models/combined_{timeframe}_{prediction}.h5\")\n",
    "            print(f\"Model saved as combined_{timeframe}_{prediction}.h5\")\n",
    "            print(\"--------------------------------------------------\")\n",
    "\n",
    "# Save the evaluation DataFrame to a CSV file\n",
    "evaluation_df.to_csv('combined_model_evaluation_scores.csv', index=False)\n",
    "print(\"Evaluation scores saved to 'combined_model_evaluation_scores.csv'.\")"
   ]
  }
 ],
 "metadata": {
  "kernelspec": {
   "display_name": "aiss",
   "language": "python",
   "name": "aiss"
  },
  "language_info": {
   "codemirror_mode": {
    "name": "ipython",
    "version": 3
   },
   "file_extension": ".py",
   "mimetype": "text/x-python",
   "name": "python",
   "nbconvert_exporter": "python",
   "pygments_lexer": "ipython3",
   "version": "3.8.12"
  },
  "orig_nbformat": 4
 },
 "nbformat": 4,
 "nbformat_minor": 2
}

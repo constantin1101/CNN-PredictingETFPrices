{
 "cells": [
  {
   "cell_type": "code",
   "execution_count": 1,
   "metadata": {},
   "outputs": [
    {
     "name": "stderr",
     "output_type": "stream",
     "text": [
      "/Users/constantinernstberger/opt/anaconda3/envs/aiss/lib/python3.8/site-packages/scipy/__init__.py:146: UserWarning: A NumPy version >=1.16.5 and <1.23.0 is required for this version of SciPy (detected version 1.24.3\n",
      "  warnings.warn(f\"A NumPy version >={np_minversion} and <{np_maxversion}\"\n",
      "2024-01-06 12:40:43.224333: I tensorflow/core/platform/cpu_feature_guard.cc:182] This TensorFlow binary is optimized to use available CPU instructions in performance-critical operations.\n",
      "To enable the following instructions: AVX2 FMA, in other operations, rebuild TensorFlow with the appropriate compiler flags.\n"
     ]
    }
   ],
   "source": [
    "import cv2\n",
    "import pandas as pd\n",
    "import re\n",
    "import numpy as np\n",
    "from sklearn.utils import shuffle\n",
    "from sklearn.metrics import accuracy_score, precision_score, recall_score, fbeta_score\n",
    "from keras.models import Sequential\n",
    "from keras.layers import Conv2D, LeakyReLU, MaxPooling2D, Flatten, Dense, Dropout"
   ]
  },
  {
   "cell_type": "code",
   "execution_count": 2,
   "metadata": {},
   "outputs": [],
   "source": [
    "TIMEFRAMES = [14, 30, 90, 180, 365]\n",
    "PREDICTIONS = [5, 30, 90]\n",
    "IMG_TYPES = ['OHLC', 'ColoredOHLC', 'Line', 'AlgoTrading']\n",
    "\n",
    "labels = pd.read_csv('labels.csv')"
   ]
  },
  {
   "cell_type": "code",
   "execution_count": null,
   "metadata": {},
   "outputs": [],
   "source": [
    "# Find bounding boxes of all 4 image sizes\n",
    "def find_bounding_box(img_path):\n",
    "    # Load the image\n",
    "    img = cv2.imread(img_path)\n",
    "    gray = cv2.cvtColor(img, cv2.COLOR_BGR2GRAY)\n",
    "\n",
    "    # Find all non-black pixels\n",
    "    coords = cv2.findNonZero(gray)\n",
    "    \n",
    "    # Find the bounding box of those pixels\n",
    "    x, y, w, h = cv2.boundingRect(coords)\n",
    "    print(x, y, w, h)\n",
    "\n",
    "# Define the paths to your images\n",
    "image_paths = [\n",
    "    'images/Line/AI&Robotics_2019-01-15 00:00:00_14.png',\n",
    "    'images/Line/AI&Robotics_2019-01-24 00:00:00_30.png',\n",
    "    'images/Line/AI&Robotics_2019-03-28 00:00:00_90.png',\n",
    "    'images/Line/AI&Robotics_2019-06-20 00:00:00_180.png', \n",
    "    'images/Line/AI&Robotics_2019-12-26 00:00:00_365.png'   \n",
    "]\n",
    "\n",
    "# Crop each image and save the result\n",
    "for path in image_paths:\n",
    "    cropped_image = find_bounding_box(path)"
   ]
  },
  {
   "cell_type": "code",
   "execution_count": null,
   "metadata": {},
   "outputs": [],
   "source": [
    "# Crop the images using the bounding boxes\n",
    "def crop_image(img_path):\n",
    "    # Load the image in grayscale\n",
    "    img = cv2.imread(img_path, 0)\n",
    "\n",
    "    # Check if the image was loaded correctly\n",
    "    if img is None:\n",
    "        raise ValueError(f\"Image at {img_path} not found. Please check the path.\")\n",
    "\n",
    "    # Use regular expression to match numbers followed by \".png\" at the end of the filename\n",
    "    match = re.search(r'(\\d+)(?=\\.png$)', img_path)\n",
    "    \n",
    "    # Check if we found a match\n",
    "    if match:\n",
    "        # Extract the number from the matched group\n",
    "        number = int(match.group(1))\n",
    "        \n",
    "        # Check if the number is one of the specified values\n",
    "        if number == 14:\n",
    "            # Crop the image using the bounding rectangle\n",
    "            crop = img[100:100+120, 80:80+85]\n",
    "        elif number == 30:\n",
    "            # Crop the image using the bounding rectangle\n",
    "            crop = img[100:100+120, 80:80+132]\n",
    "        elif number == 90:\n",
    "            # Crop the image using the bounding rectangle\n",
    "            crop = img[100:100+120, 80:80+226]\n",
    "        elif number == 180:\n",
    "            # Crop the image using the bounding rectangle\n",
    "            crop = img[100:100+120, 80:80+414]\n",
    "        elif number == 365:\n",
    "            # Crop the image using the bounding rectangle\n",
    "            crop = img[100:100+120, 80:80+602]\n",
    "    return crop\n",
    "\n",
    "# Example usage:\n",
    "filenames = labels['Image'].values.tolist()\n",
    "\n",
    "# Testing the function with the provided list of filenames\n",
    "for name in filenames:\n",
    "    try:\n",
    "        cropped_image = crop_image(name)\n",
    "        # Construct the new path for the cropped image\n",
    "        new_path = name.replace('.png', '_cropped.png')\n",
    "        # Save the cropped image\n",
    "        cv2.imwrite(new_path, cropped_image)\n",
    "    except ValueError as e:\n",
    "        print(e)\n"
   ]
  },
  {
   "cell_type": "code",
   "execution_count": 3,
   "metadata": {},
   "outputs": [
    {
     "name": "stderr",
     "output_type": "stream",
     "text": [
      "/var/folders/jx/r9zzxsjd7wxgmmn32r0l8cz40000gn/T/ipykernel_8688/666818149.py:2: FutureWarning: The default value of regex will change from True to False in a future version.\n",
      "  labels['Image'] = labels['Image'].str.replace('.png', '_cropped.png')\n"
     ]
    }
   ],
   "source": [
    "# Create a new column called 'Image' that contains the path to the cropped image but only if they \n",
    "labels['Image'] = labels['Image'].str.replace('.png', '_cropped.png')"
   ]
  },
  {
   "cell_type": "code",
   "execution_count": 4,
   "metadata": {},
   "outputs": [],
   "source": [
    "# Function to load and convert an image to grayscale\n",
    "def load_image(image_path):\n",
    "    # Load image in grayscale\n",
    "    image = cv2.imread(str(image_path), cv2.IMREAD_GRAYSCALE)\n",
    "    if image is None:\n",
    "        raise ValueError(f\"Unable to load image at path: {image_path}\")\n",
    "    return image\n",
    "\n",
    "filenames = labels['Image'].values.tolist()\n",
    "\n",
    "images = []\n",
    "\n",
    "for name in filenames:\n",
    "    try:\n",
    "        img = load_image(name)\n",
    "        images.append(img)\n",
    "    except ValueError as e:\n",
    "        print(e)\n",
    "\n",
    "# Add a new column to the labels DataFrame to store the image arrays\n",
    "labels['Image_Array'] = images"
   ]
  },
  {
   "cell_type": "code",
   "execution_count": 5,
   "metadata": {},
   "outputs": [
    {
     "name": "stdout",
     "output_type": "stream",
     "text": [
      "                                                  Image  TimePrediction  \\\n",
      "0     images/OHLC/S&P500_2019-02-01 00:00:00_14_crop...               5   \n",
      "1149  images/OHLC/DAX_2019-02-01 00:00:00_180_croppe...              90   \n",
      "6531  images/Line/EmergingMarkets_2019-02-01 00:00:0...              30   \n",
      "6530  images/Line/EmergingMarkets_2019-02-01 00:00:0...               5   \n",
      "6500  images/Line/EmergingMarkets_2019-02-01 00:00:0...               5   \n",
      "\n",
      "       LastPrice  FuturePrice  Label  \\\n",
      "0     270.059998   270.140015      1   \n",
      "1149   25.042000    27.209999      1   \n",
      "6531   42.759998    42.549999      0   \n",
      "6530   42.759998    42.400002      0   \n",
      "6500   42.759998    42.400002      0   \n",
      "\n",
      "                                            Image_Array       Date  \n",
      "0     [[0, 0, 0, 0, 0, 0, 0, 0, 0, 0, 0, 0, 0, 0, 0,... 2019-02-01  \n",
      "1149  [[0, 0, 0, 0, 0, 0, 0, 0, 0, 0, 0, 0, 0, 0, 0,... 2019-02-01  \n",
      "6531  [[0, 0, 0, 0, 0, 0, 0, 0, 0, 0, 0, 0, 0, 0, 13... 2019-02-01  \n",
      "6530  [[0, 0, 0, 0, 0, 0, 0, 0, 0, 0, 0, 0, 0, 0, 13... 2019-02-01  \n",
      "6500  [[0, 0, 0, 0, 0, 0, 0, 0, 0, 0, 0, 0, 0, 0, 0,... 2019-02-01  \n"
     ]
    }
   ],
   "source": [
    "# Sort the DataFrame by date\n",
    "labels['Date'] = labels['Image'].str.extract(r'(\\d{4}-\\d{2}-\\d{2})')\n",
    "labels['Date'] = pd.to_datetime(labels['Date'])\n",
    "labels = labels.sort_values(by='Date') \n",
    "print(labels.head())"
   ]
  },
  {
   "cell_type": "code",
   "execution_count": 6,
   "metadata": {},
   "outputs": [
    {
     "name": "stdout",
     "output_type": "stream",
     "text": [
      "1    6620\n",
      "0    3780\n",
      "Name: Label, dtype: int64\n"
     ]
    }
   ],
   "source": [
    "# Show the number of 1s and 0s in the dataset\n",
    "print(labels['Label'].value_counts())"
   ]
  },
  {
   "cell_type": "code",
   "execution_count": null,
   "metadata": {},
   "outputs": [],
   "source": [
    "'''def create_cnn_model(num_blocks, initial_filters=64, input_shape=()):\n",
    "    model = Sequential()\n",
    "\n",
    "    for i in range(num_blocks):\n",
    "        # Adjust the number of filters\n",
    "        filters = initial_filters * (2 ** i)\n",
    "\n",
    "        # Set dilation rate and strides\n",
    "        strides = (1, 3)\n",
    "\n",
    "        # Add Convolutional layer\n",
    "        model.add(Conv2D(filters, kernel_size=(5, 3), strides=strides, padding='same',\n",
    "                         input_shape=input_shape if i == 0 else model.output_shape[1:]))\n",
    "\n",
    "        # Add LeakyReLU layer\n",
    "        model.add(LeakyReLU(alpha=0.01))\n",
    "\n",
    "        # Add MaxPooling layer only if dimensions allow\n",
    "        if model.output_shape[1] >= 2 and model.output_shape[2] >= 2:\n",
    "            model.add(MaxPooling2D(pool_size=(2, 2)))\n",
    "\n",
    "    # Add Flatten and Dense layers for final prediction\n",
    "    model.add(Flatten())\n",
    "    model.add(Dense(64, activation='relu'))\n",
    "    model.add(Dropout(0.5))\n",
    "    model.add(Dense(1, activation='softmax')) \n",
    "\n",
    "    # Compile the model with binary cross-entropy loss and Adam optimizer\n",
    "    model.compile(optimizer=Adam(learning_rate=1e-5), loss='binary_crossentropy', metrics=['accuracy'])\n",
    "\n",
    "    return model'''"
   ]
  },
  {
   "cell_type": "code",
   "execution_count": 7,
   "metadata": {},
   "outputs": [],
   "source": [
    "def create_cnn_model(num_blocks, initial_filters=64, input_shape=()):\n",
    "    # Determine the number of blocks based on the input image size\n",
    "    if num_blocks == 2:\n",
    "        dilation_rate = (1, 1)\n",
    "    elif num_blocks == 3:\n",
    "        dilation_rate = (1, 2)\n",
    "    else:\n",
    "        dilation_rate = (1, 3)\n",
    "\n",
    "    model = Sequential()\n",
    "\n",
    "    for i in range(num_blocks):\n",
    "        # Adjust the number of filters\n",
    "        filters = initial_filters * (2 ** i)\n",
    "\n",
    "        # Add Convolutional layer\n",
    "        if i == 0:  # Apply specific strides and dilation rate only for the first layer\n",
    "            model.add(Conv2D(filters, kernel_size=(5, 3), strides=(1, 3), padding='same', \n",
    "                             input_shape=input_shape if i == 0 else None))\n",
    "            model.add(Conv2D(filters, kernel_size=(5, 3), strides=(1, 1), dilation_rate=dilation_rate, padding='same', \n",
    "                             input_shape=input_shape if i == 0 else None))\n",
    "        else:\n",
    "            model.add(Conv2D(filters, kernel_size=(5, 3), padding='same'))\n",
    "\n",
    "        # Add LeakyReLU layer\n",
    "        model.add(LeakyReLU(alpha=0.01))\n",
    "\n",
    "        # Add MaxPooling layer\n",
    "        model.add(MaxPooling2D(pool_size=(2, 1)))\n",
    "\n",
    "    # Add Flatten and Dense layers for final prediction\n",
    "    dense_units = {2: 64, 3: 128, 4: 264}.get(num_blocks, 64) \n",
    "    model.add(Flatten())\n",
    "    model.add(Dense(dense_units, activation='relu'))\n",
    "    model.add(Dropout(0.5))\n",
    "    model.add(Dense(1, activation='sigmoid'))\n",
    "\n",
    "    # Compile the model\n",
    "    model.compile(optimizer='adam', loss='binary_crossentropy', metrics=['accuracy'])\n",
    "\n",
    "    return model"
   ]
  },
  {
   "cell_type": "code",
   "execution_count": 8,
   "metadata": {},
   "outputs": [],
   "source": [
    "def get_investment_return(y_pred_binary, lastPrice, futurePrice):\n",
    "    # Calculate Rate of Return RoR for each trade independently\n",
    "    # Long positions\n",
    "    long_ror = []\n",
    "    long_trades = []\n",
    "    long_investment = 0\n",
    "    # Short positions\n",
    "    short_ror = []\n",
    "    short_trades = []\n",
    "    short_investment = 0\n",
    "\n",
    "    y_pred_binary = y_pred_binary.tolist()\n",
    "    for i in range(len(y_pred_binary)):\n",
    "        # Long position\n",
    "        if y_pred_binary[i][0] == 1:\n",
    "            long_return_i = ((futurePrice[i] - lastPrice[i])/lastPrice[i])\n",
    "            long_ror.append(long_return_i)\n",
    "            long_trades.append(100*(long_return_i))\n",
    "            long_investment += 100\n",
    "        # Short position\n",
    "        else:\n",
    "            short_return_i = ((lastPrice[i] - futurePrice[i])/lastPrice[i])\n",
    "            short_ror.append(short_return_i)\n",
    "            short_trades.append(100*(short_return_i))\n",
    "            short_investment += 100\n",
    "    \n",
    "    # Calculate average long RoR\n",
    "    long_avg_ror = np.mean(long_ror)\n",
    "    # Sum all long trades\n",
    "    long_trades = np.sum(long_trades)\n",
    "    # Calculate average short RoR\n",
    "    short_avg_ror = np.mean(short_ror)\n",
    "    # Sum all short trades\n",
    "    short_trades = np.sum(short_trades)\n",
    "\n",
    "    return long_avg_ror, long_trades, long_investment, short_avg_ror, short_trades, short_investment"
   ]
  },
  {
   "cell_type": "code",
   "execution_count": null,
   "metadata": {},
   "outputs": [],
   "source": [
    "# Train and evaluate the model for each img_type, timeframe, and prediction\n",
    "\n",
    "evaluation_df = pd.DataFrame(columns=['Image_Type', 'Timeframe', 'Prediction', 'Accuracy', 'Precision', 'Recall', 'F1_Score', 'Hit_Rate', 'Long_Average_RoR', 'Long_Investment', 'Long_Return', 'Short_Average_RoR', 'Short_Investment', 'Short_Return', 'Total_Investment', 'Total_Return'])\n",
    "\n",
    "for img_type in IMG_TYPES:\n",
    "    for timeframe in TIMEFRAMES:\n",
    "        for prediction in PREDICTIONS:\n",
    "            if prediction < timeframe:\n",
    "                print(f\"Predicting {prediction} days ahead using {img_type} images with {timeframe} days timeframe.\")\n",
    "                \n",
    "                # Filter your data based on prediction, img_type, and timeframe\n",
    "                data = labels[(labels['TimePrediction'] == prediction) & (labels['Image'].str.contains(img_type)) & (labels['Image'].str.contains(f'_{timeframe}_'))]\n",
    "                data = data.reset_index(drop=True)  # Reset the index to maintain temporal order\n",
    "                \n",
    "                # Create and compile your CNN model based on timeframe\n",
    "                if timeframe == 14:\n",
    "                    model = create_cnn_model(2, input_shape=(120, 85, 1))\n",
    "                elif timeframe == 30:\n",
    "                    model = create_cnn_model(3, input_shape=(120, 132, 1))\n",
    "                elif timeframe == 90:\n",
    "                    model = create_cnn_model(3, input_shape=(120, 226, 1))\n",
    "                elif timeframe == 180:\n",
    "                    model = create_cnn_model(4, input_shape=(120, 414, 1))\n",
    "                elif timeframe == 365:\n",
    "                    model = create_cnn_model(4, input_shape=(120, 602, 1))\n",
    "                \n",
    "                X = np.array(data['Image_Array'].tolist()) / 255.0\n",
    "                lastPrice = data['LastPrice'].tolist()\n",
    "                futurePrice = data['FuturePrice'].tolist()\n",
    "                y = data['Label'].values\n",
    "                # Split the data into training and validation sets in temporal order\n",
    "                split_index = int(len(X) * 0.7)\n",
    "                X_train, X_test = X[:split_index], X[split_index:]\n",
    "                y_train, y_test = y[:split_index], y[split_index:]\n",
    "                lastPrice_test = lastPrice[split_index:]\n",
    "                futurePrice_test = futurePrice[split_index:]\n",
    "\n",
    "                # Shuffle test data\n",
    "                X_test, y_test, lastPrice_test, futurePrice_test = shuffle(X_test, y_test, lastPrice_test, futurePrice_test, random_state=0)\n",
    "                \n",
    "                # Train the model on 10 windows of data\n",
    "                window_size = len(X_train)/10\n",
    "                num_windows = 10\n",
    "\n",
    "                for epoch in range(10):  # 10 epochs\n",
    "                    start = 0\n",
    "                    end = int(window_size * (epoch + 1))\n",
    "                    X_temp = X_train[start:end]\n",
    "                    y_temp = y_train[start:end]\n",
    "                    split_index = int(len(X) * 0.9)\n",
    "                    X_train_temp, X_val_temp = X_temp[:split_index], X_temp[split_index:]\n",
    "                    y_train_temp, y_val_temp = y_temp[:split_index], y_temp[split_index:]\n",
    "                    model.fit(X_train_temp, y_train_temp, batch_size=32, epochs=1, validation_data=(X_val_temp, y_val_temp))            \n",
    "                \n",
    "                # Evaluate the model on test data\n",
    "                y_pred = model.predict(X_test)\n",
    "                # Convert predictions to binary: if > 0.5 then 1 else 0\n",
    "                y_pred_binary = np.where(y_pred > 0.5, 1, 0)\n",
    "                \n",
    "                accuracy = accuracy_score(y_test, y_pred_binary)\n",
    "                precision = precision_score(y_test, y_pred_binary)\n",
    "                recall = recall_score(y_test, y_pred_binary)\n",
    "                f1_score = fbeta_score(y_test, y_pred_binary, beta=1)\n",
    "\n",
    "                y_test_array = y_test.ravel()  # Convert y_test to a 1D NumPy array if it's a pandas Series\n",
    "                correct_predictions = np.sum(y_pred_binary.ravel() == y_test_array)\n",
    "                hit_rate = correct_predictions / len(y_test_array)\n",
    "\n",
    "                long_avg_ror, long_trades, long_investment, short_avg_ror, short_trades, short_investment = get_investment_return(y_pred_binary, lastPrice_test, futurePrice_test)\n",
    "                # Total investment\n",
    "                total_investment = long_investment + short_investment\n",
    "                total_returns = long_trades + short_trades\n",
    "                \n",
    "                \n",
    "                print(\"Evaluation Metrics:\")\n",
    "                print(f\"Accuracy: {accuracy}\")\n",
    "                print(f\"Precision: {precision}\")\n",
    "                print(f\"Recall: {recall}\")\n",
    "                print(f\"F1 Score: {f1_score}\")\n",
    "                print(f\"Hit Rate: {hit_rate}\")\n",
    "                print(f\"Average Long RoR: {long_avg_ror}\")\n",
    "                print(f\"Long Investment: {long_investment}\")\n",
    "                print(f\"Long Return: {long_trades}\")\n",
    "                print(f\"Average Short RoR: {short_avg_ror}\")\n",
    "                print(f\"Short Investment: {short_investment}\")\n",
    "                print(f\"Short Return: {short_trades}\")\n",
    "                print(f\"Total Investment: {total_investment}\")\n",
    "                print(f\"Total Return: {total_returns}\")\n",
    "\n",
    "                \n",
    "                # Add the evaluation metrics to the DataFrame\n",
    "                evaluation_df = evaluation_df.append({\n",
    "                    'Image_Type': img_type,\n",
    "                    'Timeframe': timeframe,\n",
    "                    'Prediction': prediction,\n",
    "                    'Accuracy': accuracy,\n",
    "                    'Precision': precision,\n",
    "                    'Recall': recall,\n",
    "                    'F1_Score': f1_score,\n",
    "                    'Hit_Rate': hit_rate,\n",
    "                    'Long_Average_RoR': long_avg_ror,\n",
    "                    'Long_Investment': long_investment,\n",
    "                    'Long_Return': long_trades,\n",
    "                    'Short_Average_RoR': short_avg_ror,\n",
    "                    'Short_Investment': short_investment,\n",
    "                    'Short_Return': short_trades, \n",
    "                    'Total_Investment': total_investment,\n",
    "                    'Total_Return': total_returns\n",
    "                }, ignore_index=True)\n",
    "                \n",
    "                # Save the model\n",
    "                model.save(f\"models/{img_type}_{timeframe}_{prediction}.h5\")\n",
    "                print(f\"Model saved as {img_type}_{timeframe}_{prediction}.h5\")\n",
    "                print(\"--------------------------------------------------\")\n",
    "\n",
    "# Save the evaluation DataFrame to a CSV file\n",
    "evaluation_df.to_csv('evaluation_scores.csv', index=False)\n",
    "print(\"Evaluation scores saved to 'evaluation_scores.csv'.\")"
   ]
  },
  {
   "attachments": {},
   "cell_type": "markdown",
   "metadata": {},
   "source": []
  },
  {
   "cell_type": "code",
   "execution_count": null,
   "metadata": {},
   "outputs": [],
   "source": [
    "# Train models on all images types and evaluate them based on timeframe and prediction\n",
    "\n",
    "evaluation_df = pd.DataFrame(columns=['Timeframe', 'Prediction', 'Accuracy', 'Precision', 'Recall', 'F1_Score', 'Hit_Rate', 'Average_RoR'])\n",
    "\n",
    "for timeframe in TIMEFRAMES:\n",
    "    for prediction in PREDICTIONS:\n",
    "        if prediction < timeframe:\n",
    "            print(f\"Predicting {prediction} days ahead with {timeframe} days timeframe.\")\n",
    "            \n",
    "            # Filter your data based on prediction, img_type, and timeframe\n",
    "            data = labels[(labels['TimePrediction'] == prediction) & (labels['Image'].str.contains(f'_{timeframe}_'))]\n",
    "            data = data.reset_index(drop=True)  # Reset the index to maintain temporal order\n",
    "            \n",
    "            # Create and compile your CNN model based on timeframe\n",
    "            if timeframe == 14:\n",
    "                model = create_cnn_model(2, input_shape=(120, 85, 1))\n",
    "            elif timeframe == 30:\n",
    "                model = create_cnn_model(3, input_shape=(120, 132, 1))\n",
    "            elif timeframe == 90:\n",
    "                model = create_cnn_model(3, input_shape=(120, 226, 1))\n",
    "            elif timeframe == 180:\n",
    "                model = create_cnn_model(4, input_shape=(120, 414, 1))\n",
    "            elif timeframe == 365:\n",
    "                model = create_cnn_model(4, input_shape=(120, 602, 1))\n",
    "            \n",
    "            X = np.array(data['Image_Array'].tolist()) / 255.0\n",
    "            lastPrice = data['LastPrice'].tolist()\n",
    "            futurePrice = data['FuturePrice'].tolist()\n",
    "            y = data['Label'].values\n",
    "            # Split the data into training and validation sets in temporal order\n",
    "            split_index = int(len(X) * 0.75)\n",
    "            X_train, X_test = X[:split_index], X[split_index:]\n",
    "            y_train, y_test = y[:split_index], y[split_index:]\n",
    "            lastPrice_test = lastPrice[split_index:]\n",
    "            futurePrice_test = futurePrice[split_index:]\n",
    "            \n",
    "            window_size = len(X_train)/20\n",
    "\n",
    "            for epoch in range(10):  # 10 epochs\n",
    "                start = 0\n",
    "                if epoch == 0:\n",
    "                    end = int(len(X_train) * 0.5)\n",
    "                else:\n",
    "                    end += int(window_size * epoch)\n",
    "                X_temp = X_train[start:end]\n",
    "                y_temp = y_train[start:end]\n",
    "                split_index = int(len(X) * 0.8)\n",
    "                X_train_temp, X_val_temp = X_temp[:split_index], X_temp[split_index:]\n",
    "                y_train_temp, y_val_temp = y_temp[:split_index], y_temp[split_index:]\n",
    "                #model.fit(X_train_temp, y_train_temp, batch_size=32, epochs=1, validation_data=(X_val_temp, y_val_temp)) \n",
    "                model.fit(X_train_temp, y_train_temp, batch_size=32, epochs=1, validation_split=0.9)    \n",
    "            \n",
    "            # Evaluate the model\n",
    "            y_pred = model.predict(X_test)\n",
    "            # Convert predictions to binary: if > 0.5 then 1 else 0\n",
    "            y_pred_binary = np.where(y_pred > 0.5, 1, 0)\n",
    "            \n",
    "            accuracy = accuracy_score(y_test, y_pred_binary)\n",
    "            precision = precision_score(y_test, y_pred_binary)\n",
    "            recall = recall_score(y_test, y_pred_binary)\n",
    "            f1_score = fbeta_score(y_test, y_pred_binary, beta=1)\n",
    "\n",
    "            y_test_array = y_test.ravel()  # Convert y_test to a 1D NumPy array if it's a pandas Series\n",
    "            correct_predictions = np.sum(y_pred_binary.ravel() == y_test_array)\n",
    "            hit_rate = correct_predictions / len(y_test_array)\n",
    "\n",
    "            long_avg_ror, long_trades, long_investment, short_avg_ror, short_trades, short_investment = get_investment_return(y_pred_binary, lastPrice_test, futurePrice_test)\n",
    "            # Total investment\n",
    "            total_investment = long_investment + short_investment\n",
    "            total_returns = long_trades + short_trades\n",
    "            \n",
    "            \n",
    "            print(\"Evaluation Metrics:\")\n",
    "            print(f\"Accuracy: {accuracy}\")\n",
    "            print(f\"Precision: {precision}\")\n",
    "            print(f\"Recall: {recall}\")\n",
    "            print(f\"F1 Score: {f1_score}\")\n",
    "            print(f\"Hit Rate: {hit_rate}\")\n",
    "            print(f\"Average Long RoR: {long_avg_ror}\")\n",
    "            print(f\"Long Investment: {long_investment}\")\n",
    "            print(f\"Long Return: {long_trades}\")\n",
    "            print(f\"Average Short RoR: {short_avg_ror}\")\n",
    "            print(f\"Short Investment: {short_investment}\")\n",
    "            print(f\"Short Return: {short_trades}\")\n",
    "            print(f\"Total Investment: {total_investment}\")\n",
    "            print(f\"Total Return: {total_returns}\")\n",
    "\n",
    "            \n",
    "            # Add the evaluation metrics to the DataFrame\n",
    "            evaluation_df = evaluation_df.append({\n",
    "                'Timeframe': timeframe,\n",
    "                'Prediction': prediction,\n",
    "                'Accuracy': accuracy,\n",
    "                'Precision': precision,\n",
    "                'Recall': recall,\n",
    "                'F1_Score': f1_score,\n",
    "                'Hit_Rate': hit_rate,\n",
    "                'Long_Average_RoR': long_avg_ror,\n",
    "                'Long_Investment': long_investment,\n",
    "                'Long_Return': long_trades,\n",
    "                'Short_Average_RoR': short_avg_ror,\n",
    "                'Short_Investment': short_investment,\n",
    "                'Short_Return': short_trades, \n",
    "                'Total_Investment': total_investment,\n",
    "                'Total_Return': total_returns\n",
    "            }, ignore_index=True)\n",
    "\n",
    "            # Save the model\n",
    "            model.save(f\"models/combined_{timeframe}_{prediction}.h5\")\n",
    "            print(f\"Model saved as combined_{timeframe}_{prediction}.h5\")\n",
    "            print(\"--------------------------------------------------\")\n",
    "\n",
    "# Save the evaluation DataFrame to a CSV file\n",
    "evaluation_df.to_csv('combined_model_evaluation_scores.csv', index=False)\n",
    "print(\"Evaluation scores saved to 'combined_model_evaluation_scores.csv'.\")"
   ]
  },
  {
   "cell_type": "code",
   "execution_count": 10,
   "metadata": {},
   "outputs": [
    {
     "name": "stdout",
     "output_type": "stream",
     "text": [
      "Predicting 5 days ahead with 14 days timeframe.\n",
      "9/9 [==============================] - 6s 498ms/step - loss: 0.6413 - accuracy: 0.6268 - val_loss: 0.5960 - val_accuracy: 0.7419\n",
      "1/1 [==============================] - 0s 154ms/step\n",
      "2/2 [==============================] - 1s 207ms/step - loss: 0.7126 - accuracy: 0.7353 - val_loss: 0.4200 - val_accuracy: 1.0000\n",
      "2/2 [==============================] - 0s 30ms/step\n",
      "2/2 [==============================] - 1s 195ms/step - loss: 0.5225 - accuracy: 0.7353 - val_loss: 0.5268 - val_accuracy: 0.7500\n",
      "2/2 [==============================] - 0s 28ms/step\n",
      "2/2 [==============================] - 1s 192ms/step - loss: 0.7126 - accuracy: 0.4118 - val_loss: 0.5854 - val_accuracy: 0.7500\n",
      "2/2 [==============================] - 0s 34ms/step\n",
      "2/2 [==============================] - 1s 174ms/step - loss: 0.6176 - accuracy: 0.7647 - val_loss: 0.5077 - val_accuracy: 1.0000\n",
      "2/2 [==============================] - 0s 31ms/step\n",
      "2/2 [==============================] - 1s 178ms/step - loss: 0.5930 - accuracy: 0.7059 - val_loss: 0.2405 - val_accuracy: 1.0000\n",
      "2/2 [==============================] - 0s 31ms/step\n",
      "2/2 [==============================] - 1s 184ms/step - loss: 0.5134 - accuracy: 0.5882 - val_loss: 0.6500 - val_accuracy: 0.2500\n",
      "2/2 [==============================] - 0s 30ms/step\n",
      "2/2 [==============================] - 1s 296ms/step - loss: 0.6064 - accuracy: 0.7059 - val_loss: 0.3840 - val_accuracy: 1.0000\n",
      "2/2 [==============================] - 0s 29ms/step\n",
      "2/2 [==============================] - 1s 187ms/step - loss: 0.4466 - accuracy: 0.7941 - val_loss: 0.3598 - val_accuracy: 0.7500\n",
      "2/2 [==============================] - 0s 31ms/step\n",
      "2/2 [==============================] - 1s 186ms/step - loss: 0.6381 - accuracy: 0.6765 - val_loss: 1.0471 - val_accuracy: 0.7500\n",
      "4/4 [==============================] - 1s 119ms/step\n",
      "Evaluation Metrics:\n",
      "Accuracy: 0.7208237986270023\n",
      "Precision: 0.729448838298619\n",
      "Recall: 0.7420081378679767\n",
      "F1 Score: 0.6610602308004682\n",
      "Hit Rate: 0.0\n",
      "Average Long RoR: 0.007872782717975207\n",
      "Long Investment: 2240.0\n",
      "Long Return: 26.144312033650046\n",
      "Average Short RoR: 0.004417660606942838\n",
      "Short Investment: 2130.0\n",
      "Short Return: 18.123467104911335\n",
      "Model saved as combined_14_5.h5\n",
      "--------------------------------------------------\n",
      "Predicting 5 days ahead with 30 days timeframe.\n"
     ]
    },
    {
     "name": "stderr",
     "output_type": "stream",
     "text": [
      "/Users/constantinernstberger/opt/anaconda3/envs/aiss/lib/python3.8/site-packages/keras/src/engine/training.py:3000: UserWarning: You are saving your model as an HDF5 file via `model.save()`. This file format is considered legacy. We recommend using instead the native Keras format, e.g. `model.save('my_model.keras')`.\n",
      "  saving_api.save_model(\n"
     ]
    },
    {
     "name": "stdout",
     "output_type": "stream",
     "text": [
      "9/9 [==============================] - 17s 2s/step - loss: 0.7954 - accuracy: 0.4586 - val_loss: 0.7266 - val_accuracy: 0.1667\n",
      "1/1 [==============================] - 0s 400ms/step\n"
     ]
    },
    {
     "name": "stderr",
     "output_type": "stream",
     "text": [
      "/Users/constantinernstberger/opt/anaconda3/envs/aiss/lib/python3.8/site-packages/sklearn/metrics/_classification.py:1308: UndefinedMetricWarning: Precision is ill-defined and being set to 0.0 due to no predicted samples. Use `zero_division` parameter to control this behavior.\n",
      "  _warn_prf(average, modifier, msg_start, len(result))\n",
      "/Users/constantinernstberger/opt/anaconda3/envs/aiss/lib/python3.8/site-packages/numpy/core/fromnumeric.py:3464: RuntimeWarning: Mean of empty slice.\n",
      "  return _methods._mean(a, axis=axis, dtype=dtype,\n",
      "/Users/constantinernstberger/opt/anaconda3/envs/aiss/lib/python3.8/site-packages/numpy/core/_methods.py:192: RuntimeWarning: invalid value encountered in scalar divide\n",
      "  ret = ret.dtype.type(ret / rcount)\n"
     ]
    },
    {
     "name": "stdout",
     "output_type": "stream",
     "text": [
      "2/2 [==============================] - 2s 427ms/step - loss: 0.6924 - accuracy: 0.5455 - val_loss: 0.7274 - val_accuracy: 0.0000e+00\n",
      "2/2 [==============================] - 0s 66ms/step\n"
     ]
    },
    {
     "name": "stderr",
     "output_type": "stream",
     "text": [
      "/Users/constantinernstberger/opt/anaconda3/envs/aiss/lib/python3.8/site-packages/sklearn/metrics/_classification.py:1308: UndefinedMetricWarning: Precision is ill-defined and being set to 0.0 due to no predicted samples. Use `zero_division` parameter to control this behavior.\n",
      "  _warn_prf(average, modifier, msg_start, len(result))\n",
      "/Users/constantinernstberger/opt/anaconda3/envs/aiss/lib/python3.8/site-packages/numpy/core/fromnumeric.py:3464: RuntimeWarning: Mean of empty slice.\n",
      "  return _methods._mean(a, axis=axis, dtype=dtype,\n",
      "/Users/constantinernstberger/opt/anaconda3/envs/aiss/lib/python3.8/site-packages/numpy/core/_methods.py:192: RuntimeWarning: invalid value encountered in scalar divide\n",
      "  ret = ret.dtype.type(ret / rcount)\n"
     ]
    },
    {
     "name": "stdout",
     "output_type": "stream",
     "text": [
      "2/2 [==============================] - 2s 423ms/step - loss: 0.7247 - accuracy: 0.1818 - val_loss: 0.6557 - val_accuracy: 1.0000\n",
      "2/2 [==============================] - 0s 65ms/step\n"
     ]
    },
    {
     "name": "stderr",
     "output_type": "stream",
     "text": [
      "/Users/constantinernstberger/opt/anaconda3/envs/aiss/lib/python3.8/site-packages/numpy/core/fromnumeric.py:3464: RuntimeWarning: Mean of empty slice.\n",
      "  return _methods._mean(a, axis=axis, dtype=dtype,\n",
      "/Users/constantinernstberger/opt/anaconda3/envs/aiss/lib/python3.8/site-packages/numpy/core/_methods.py:192: RuntimeWarning: invalid value encountered in scalar divide\n",
      "  ret = ret.dtype.type(ret / rcount)\n"
     ]
    },
    {
     "name": "stdout",
     "output_type": "stream",
     "text": [
      "2/2 [==============================] - 2s 422ms/step - loss: 0.6945 - accuracy: 0.4545 - val_loss: 0.7793 - val_accuracy: 0.0000e+00\n",
      "2/2 [==============================] - 1s 72ms/step\n"
     ]
    },
    {
     "name": "stderr",
     "output_type": "stream",
     "text": [
      "/Users/constantinernstberger/opt/anaconda3/envs/aiss/lib/python3.8/site-packages/numpy/core/fromnumeric.py:3464: RuntimeWarning: Mean of empty slice.\n",
      "  return _methods._mean(a, axis=axis, dtype=dtype,\n",
      "/Users/constantinernstberger/opt/anaconda3/envs/aiss/lib/python3.8/site-packages/numpy/core/_methods.py:192: RuntimeWarning: invalid value encountered in scalar divide\n",
      "  ret = ret.dtype.type(ret / rcount)\n"
     ]
    },
    {
     "name": "stdout",
     "output_type": "stream",
     "text": [
      "2/2 [==============================] - 2s 429ms/step - loss: 0.7202 - accuracy: 0.3636 - val_loss: 0.6890 - val_accuracy: 0.5000\n",
      "2/2 [==============================] - 0s 69ms/step\n"
     ]
    },
    {
     "name": "stderr",
     "output_type": "stream",
     "text": [
      "/Users/constantinernstberger/opt/anaconda3/envs/aiss/lib/python3.8/site-packages/numpy/core/fromnumeric.py:3464: RuntimeWarning: Mean of empty slice.\n",
      "  return _methods._mean(a, axis=axis, dtype=dtype,\n",
      "/Users/constantinernstberger/opt/anaconda3/envs/aiss/lib/python3.8/site-packages/numpy/core/_methods.py:192: RuntimeWarning: invalid value encountered in scalar divide\n",
      "  ret = ret.dtype.type(ret / rcount)\n"
     ]
    },
    {
     "name": "stdout",
     "output_type": "stream",
     "text": [
      "2/2 [==============================] - 2s 420ms/step - loss: 0.6456 - accuracy: 0.8182 - val_loss: 0.6591 - val_accuracy: 0.7500\n",
      "2/2 [==============================] - 1s 97ms/step\n"
     ]
    },
    {
     "name": "stderr",
     "output_type": "stream",
     "text": [
      "/Users/constantinernstberger/opt/anaconda3/envs/aiss/lib/python3.8/site-packages/numpy/core/fromnumeric.py:3464: RuntimeWarning: Mean of empty slice.\n",
      "  return _methods._mean(a, axis=axis, dtype=dtype,\n",
      "/Users/constantinernstberger/opt/anaconda3/envs/aiss/lib/python3.8/site-packages/numpy/core/_methods.py:192: RuntimeWarning: invalid value encountered in scalar divide\n",
      "  ret = ret.dtype.type(ret / rcount)\n"
     ]
    },
    {
     "name": "stdout",
     "output_type": "stream",
     "text": [
      "2/2 [==============================] - 2s 432ms/step - loss: 0.6163 - accuracy: 0.9091 - val_loss: 0.5587 - val_accuracy: 1.0000\n",
      "2/2 [==============================] - 1s 77ms/step\n"
     ]
    },
    {
     "name": "stderr",
     "output_type": "stream",
     "text": [
      "/Users/constantinernstberger/opt/anaconda3/envs/aiss/lib/python3.8/site-packages/numpy/core/fromnumeric.py:3464: RuntimeWarning: Mean of empty slice.\n",
      "  return _methods._mean(a, axis=axis, dtype=dtype,\n",
      "/Users/constantinernstberger/opt/anaconda3/envs/aiss/lib/python3.8/site-packages/numpy/core/_methods.py:192: RuntimeWarning: invalid value encountered in scalar divide\n",
      "  ret = ret.dtype.type(ret / rcount)\n"
     ]
    },
    {
     "name": "stdout",
     "output_type": "stream",
     "text": [
      "2/2 [==============================] - 2s 433ms/step - loss: 0.5886 - accuracy: 0.8485 - val_loss: 1.1756 - val_accuracy: 0.0000e+00\n",
      "2/2 [==============================] - 1s 76ms/step\n"
     ]
    },
    {
     "name": "stderr",
     "output_type": "stream",
     "text": [
      "/Users/constantinernstberger/opt/anaconda3/envs/aiss/lib/python3.8/site-packages/numpy/core/fromnumeric.py:3464: RuntimeWarning: Mean of empty slice.\n",
      "  return _methods._mean(a, axis=axis, dtype=dtype,\n",
      "/Users/constantinernstberger/opt/anaconda3/envs/aiss/lib/python3.8/site-packages/numpy/core/_methods.py:192: RuntimeWarning: invalid value encountered in scalar divide\n",
      "  ret = ret.dtype.type(ret / rcount)\n"
     ]
    },
    {
     "name": "stdout",
     "output_type": "stream",
     "text": [
      "2/2 [==============================] - 2s 463ms/step - loss: 1.1077 - accuracy: 0.0606 - val_loss: 0.9378 - val_accuracy: 0.0000e+00\n",
      "2/2 [==============================] - 1s 72ms/step\n"
     ]
    },
    {
     "name": "stderr",
     "output_type": "stream",
     "text": [
      "/Users/constantinernstberger/opt/anaconda3/envs/aiss/lib/python3.8/site-packages/numpy/core/fromnumeric.py:3464: RuntimeWarning: Mean of empty slice.\n",
      "  return _methods._mean(a, axis=axis, dtype=dtype,\n",
      "/Users/constantinernstberger/opt/anaconda3/envs/aiss/lib/python3.8/site-packages/numpy/core/_methods.py:192: RuntimeWarning: invalid value encountered in scalar divide\n",
      "  ret = ret.dtype.type(ret / rcount)\n"
     ]
    },
    {
     "name": "stdout",
     "output_type": "stream",
     "text": [
      "2/2 [==============================] - 2s 441ms/step - loss: 0.7973 - accuracy: 0.3333 - val_loss: 0.7037 - val_accuracy: 0.5000\n",
      "4/4 [==============================] - 1s 345ms/step\n",
      "Evaluation Metrics:\n",
      "Accuracy: 0.458628841607565\n",
      "Precision: 0.43498817966903075\n",
      "Recall: 0.8605200945626478\n",
      "F1 Score: 0.5468888576098595\n",
      "Hit Rate: 0.0\n",
      "Average Long RoR: -0.0012094254912480126\n",
      "Long Investment: 3640.0\n",
      "Long Return: 1.5889205474668244\n",
      "Average Short RoR: -0.0025905736149197433\n",
      "Short Investment: 590.0\n",
      "Short Return: -7.843230491161663\n"
     ]
    },
    {
     "name": "stderr",
     "output_type": "stream",
     "text": [
      "/Users/constantinernstberger/opt/anaconda3/envs/aiss/lib/python3.8/site-packages/numpy/core/fromnumeric.py:3464: RuntimeWarning: Mean of empty slice.\n",
      "  return _methods._mean(a, axis=axis, dtype=dtype,\n",
      "/Users/constantinernstberger/opt/anaconda3/envs/aiss/lib/python3.8/site-packages/numpy/core/_methods.py:192: RuntimeWarning: invalid value encountered in scalar divide\n",
      "  ret = ret.dtype.type(ret / rcount)\n",
      "/Users/constantinernstberger/opt/anaconda3/envs/aiss/lib/python3.8/site-packages/keras/src/engine/training.py:3000: UserWarning: You are saving your model as an HDF5 file via `model.save()`. This file format is considered legacy. We recommend using instead the native Keras format, e.g. `model.save('my_model.keras')`.\n",
      "  saving_api.save_model(\n"
     ]
    },
    {
     "name": "stdout",
     "output_type": "stream",
     "text": [
      "Model saved as combined_30_5.h5\n",
      "--------------------------------------------------\n",
      "Predicting 5 days ahead with 90 days timeframe.\n",
      "9/9 [==============================] - 26s 3s/step - loss: 0.8035 - accuracy: 0.5136 - val_loss: 0.7483 - val_accuracy: 0.5862\n",
      "1/1 [==============================] - 1s 538ms/step\n",
      "1/1 [==============================] - 3s 3s/step - loss: 1.0804 - accuracy: 0.3226 - val_loss: 1.0072 - val_accuracy: 0.2500\n",
      "2/2 [==============================] - 1s 70ms/step\n"
     ]
    },
    {
     "name": "stderr",
     "output_type": "stream",
     "text": [
      "/Users/constantinernstberger/opt/anaconda3/envs/aiss/lib/python3.8/site-packages/sklearn/metrics/_classification.py:1308: UndefinedMetricWarning: Precision is ill-defined and being set to 0.0 due to no predicted samples. Use `zero_division` parameter to control this behavior.\n",
      "  _warn_prf(average, modifier, msg_start, len(result))\n",
      "/Users/constantinernstberger/opt/anaconda3/envs/aiss/lib/python3.8/site-packages/numpy/core/fromnumeric.py:3464: RuntimeWarning: Mean of empty slice.\n",
      "  return _methods._mean(a, axis=axis, dtype=dtype,\n",
      "/Users/constantinernstberger/opt/anaconda3/envs/aiss/lib/python3.8/site-packages/numpy/core/_methods.py:192: RuntimeWarning: invalid value encountered in scalar divide\n",
      "  ret = ret.dtype.type(ret / rcount)\n"
     ]
    },
    {
     "name": "stdout",
     "output_type": "stream",
     "text": [
      "1/1 [==============================] - 3s 3s/step - loss: 1.8673 - accuracy: 0.0323 - val_loss: 0.9216 - val_accuracy: 0.2500\n",
      "2/2 [==============================] - 1s 78ms/step\n",
      "1/1 [==============================] - 3s 3s/step - loss: 0.9754 - accuracy: 0.2581 - val_loss: 0.7732 - val_accuracy: 0.7500\n",
      "2/2 [==============================] - 1s 70ms/step\n",
      "1/1 [==============================] - 3s 3s/step - loss: 0.7838 - accuracy: 0.4839 - val_loss: 0.5942 - val_accuracy: 1.0000\n",
      "2/2 [==============================] - 1s 71ms/step\n",
      "1/1 [==============================] - 3s 3s/step - loss: 0.7443 - accuracy: 0.4516 - val_loss: 0.6703 - val_accuracy: 1.0000\n",
      "2/2 [==============================] - 1s 71ms/step\n",
      "1/1 [==============================] - 3s 3s/step - loss: 0.6690 - accuracy: 0.7097 - val_loss: 0.6699 - val_accuracy: 1.0000\n",
      "2/2 [==============================] - 1s 69ms/step\n",
      "1/1 [==============================] - 3s 3s/step - loss: 0.6738 - accuracy: 0.7097 - val_loss: 0.6749 - val_accuracy: 1.0000\n",
      "2/2 [==============================] - 1s 72ms/step\n"
     ]
    },
    {
     "name": "stderr",
     "output_type": "stream",
     "text": [
      "/Users/constantinernstberger/opt/anaconda3/envs/aiss/lib/python3.8/site-packages/numpy/core/fromnumeric.py:3464: RuntimeWarning: Mean of empty slice.\n",
      "  return _methods._mean(a, axis=axis, dtype=dtype,\n",
      "/Users/constantinernstberger/opt/anaconda3/envs/aiss/lib/python3.8/site-packages/numpy/core/_methods.py:192: RuntimeWarning: invalid value encountered in scalar divide\n",
      "  ret = ret.dtype.type(ret / rcount)\n"
     ]
    },
    {
     "name": "stdout",
     "output_type": "stream",
     "text": [
      "1/1 [==============================] - 3s 3s/step - loss: 0.6864 - accuracy: 0.5484 - val_loss: 0.7119 - val_accuracy: 0.0000e+00\n",
      "2/2 [==============================] - 1s 68ms/step\n"
     ]
    },
    {
     "name": "stderr",
     "output_type": "stream",
     "text": [
      "/Users/constantinernstberger/opt/anaconda3/envs/aiss/lib/python3.8/site-packages/numpy/core/fromnumeric.py:3464: RuntimeWarning: Mean of empty slice.\n",
      "  return _methods._mean(a, axis=axis, dtype=dtype,\n",
      "/Users/constantinernstberger/opt/anaconda3/envs/aiss/lib/python3.8/site-packages/numpy/core/_methods.py:192: RuntimeWarning: invalid value encountered in scalar divide\n",
      "  ret = ret.dtype.type(ret / rcount)\n"
     ]
    },
    {
     "name": "stdout",
     "output_type": "stream",
     "text": [
      "1/1 [==============================] - 3s 3s/step - loss: 0.7261 - accuracy: 0.0000e+00 - val_loss: 0.7371 - val_accuracy: 0.0000e+00\n",
      "4/4 [==============================] - 3s 586ms/step\n",
      "Evaluation Metrics:\n",
      "Accuracy: 0.4692874692874693\n",
      "Precision: 0.4780626649541457\n",
      "Recall: 0.8022119380815033\n",
      "F1 Score: 0.5457163679092043\n",
      "Hit Rate: 0.0\n",
      "Average Long RoR: -0.0013349722743779748\n",
      "Long Investment: 3160.0\n",
      "Long Return: 6.035663758873463\n",
      "Average Short RoR: -0.0033842191299002606\n",
      "Short Investment: 910.0\n",
      "Short Return: -6.639293362860997\n"
     ]
    },
    {
     "name": "stderr",
     "output_type": "stream",
     "text": [
      "/Users/constantinernstberger/opt/anaconda3/envs/aiss/lib/python3.8/site-packages/numpy/core/fromnumeric.py:3464: RuntimeWarning: Mean of empty slice.\n",
      "  return _methods._mean(a, axis=axis, dtype=dtype,\n",
      "/Users/constantinernstberger/opt/anaconda3/envs/aiss/lib/python3.8/site-packages/numpy/core/_methods.py:192: RuntimeWarning: invalid value encountered in scalar divide\n",
      "  ret = ret.dtype.type(ret / rcount)\n",
      "/Users/constantinernstberger/opt/anaconda3/envs/aiss/lib/python3.8/site-packages/keras/src/engine/training.py:3000: UserWarning: You are saving your model as an HDF5 file via `model.save()`. This file format is considered legacy. We recommend using instead the native Keras format, e.g. `model.save('my_model.keras')`.\n",
      "  saving_api.save_model(\n"
     ]
    },
    {
     "name": "stdout",
     "output_type": "stream",
     "text": [
      "Model saved as combined_90_5.h5\n",
      "--------------------------------------------------\n",
      "Predicting 30 days ahead with 90 days timeframe.\n",
      "9/9 [==============================] - 25s 3s/step - loss: 0.7064 - accuracy: 0.6848 - val_loss: 0.3465 - val_accuracy: 1.0000\n",
      "1/1 [==============================] - 1s 505ms/step\n",
      "1/1 [==============================] - 3s 3s/step - loss: 0.3989 - accuracy: 0.9032 - val_loss: 0.1772 - val_accuracy: 1.0000\n",
      "2/2 [==============================] - 1s 69ms/step\n"
     ]
    },
    {
     "name": "stderr",
     "output_type": "stream",
     "text": [
      "/Users/constantinernstberger/opt/anaconda3/envs/aiss/lib/python3.8/site-packages/numpy/core/fromnumeric.py:3464: RuntimeWarning: Mean of empty slice.\n",
      "  return _methods._mean(a, axis=axis, dtype=dtype,\n",
      "/Users/constantinernstberger/opt/anaconda3/envs/aiss/lib/python3.8/site-packages/numpy/core/_methods.py:192: RuntimeWarning: invalid value encountered in scalar divide\n",
      "  ret = ret.dtype.type(ret / rcount)\n"
     ]
    },
    {
     "name": "stdout",
     "output_type": "stream",
     "text": [
      "1/1 [==============================] - 3s 3s/step - loss: 0.3453 - accuracy: 0.8710 - val_loss: 0.0532 - val_accuracy: 1.0000\n",
      "2/2 [==============================] - 1s 67ms/step\n"
     ]
    },
    {
     "name": "stderr",
     "output_type": "stream",
     "text": [
      "/Users/constantinernstberger/opt/anaconda3/envs/aiss/lib/python3.8/site-packages/numpy/core/fromnumeric.py:3464: RuntimeWarning: Mean of empty slice.\n",
      "  return _methods._mean(a, axis=axis, dtype=dtype,\n",
      "/Users/constantinernstberger/opt/anaconda3/envs/aiss/lib/python3.8/site-packages/numpy/core/_methods.py:192: RuntimeWarning: invalid value encountered in scalar divide\n",
      "  ret = ret.dtype.type(ret / rcount)\n"
     ]
    },
    {
     "name": "stdout",
     "output_type": "stream",
     "text": [
      "1/1 [==============================] - 3s 3s/step - loss: 0.2215 - accuracy: 0.9355 - val_loss: 0.5544 - val_accuracy: 0.7500\n",
      "2/2 [==============================] - 1s 72ms/step\n"
     ]
    },
    {
     "name": "stderr",
     "output_type": "stream",
     "text": [
      "/Users/constantinernstberger/opt/anaconda3/envs/aiss/lib/python3.8/site-packages/numpy/core/fromnumeric.py:3464: RuntimeWarning: Mean of empty slice.\n",
      "  return _methods._mean(a, axis=axis, dtype=dtype,\n",
      "/Users/constantinernstberger/opt/anaconda3/envs/aiss/lib/python3.8/site-packages/numpy/core/_methods.py:192: RuntimeWarning: invalid value encountered in scalar divide\n",
      "  ret = ret.dtype.type(ret / rcount)\n"
     ]
    },
    {
     "name": "stdout",
     "output_type": "stream",
     "text": [
      "1/1 [==============================] - 3s 3s/step - loss: 0.6654 - accuracy: 0.7419 - val_loss: 0.0078 - val_accuracy: 1.0000\n",
      "2/2 [==============================] - 1s 66ms/step\n",
      "1/1 [==============================] - 3s 3s/step - loss: 0.9268 - accuracy: 0.8065 - val_loss: 0.6504 - val_accuracy: 0.7500\n",
      "2/2 [==============================] - 1s 73ms/step\n",
      "1/1 [==============================] - 3s 3s/step - loss: 0.5299 - accuracy: 0.7419 - val_loss: 0.3987 - val_accuracy: 0.7500\n",
      "2/2 [==============================] - 1s 67ms/step\n",
      "1/1 [==============================] - 3s 3s/step - loss: 0.3387 - accuracy: 0.9355 - val_loss: 0.3501 - val_accuracy: 1.0000\n",
      "2/2 [==============================] - 1s 70ms/step\n",
      "1/1 [==============================] - 3s 3s/step - loss: 0.7138 - accuracy: 0.4194 - val_loss: 0.7116 - val_accuracy: 0.2500\n",
      "2/2 [==============================] - 1s 76ms/step\n",
      "1/1 [==============================] - 3s 3s/step - loss: 0.7771 - accuracy: 0.3548 - val_loss: 0.5147 - val_accuracy: 1.0000\n",
      "4/4 [==============================] - 2s 578ms/step\n",
      "Evaluation Metrics:\n",
      "Accuracy: 0.7248157248157249\n",
      "Precision: 0.6582953077907365\n",
      "Recall: 0.7579167454167455\n",
      "F1 Score: 0.689662852015282\n",
      "Hit Rate: 0.0\n",
      "Average Long RoR: 0.018287772278517998\n",
      "Long Investment: 2990.0\n",
      "Long Return: 59.97293591405008\n",
      "Average Short RoR: -0.00031233717930619006\n",
      "Short Investment: 1080.0\n",
      "Short Return: 19.93372205101434\n"
     ]
    },
    {
     "name": "stderr",
     "output_type": "stream",
     "text": [
      "/Users/constantinernstberger/opt/anaconda3/envs/aiss/lib/python3.8/site-packages/keras/src/engine/training.py:3000: UserWarning: You are saving your model as an HDF5 file via `model.save()`. This file format is considered legacy. We recommend using instead the native Keras format, e.g. `model.save('my_model.keras')`.\n",
      "  saving_api.save_model(\n"
     ]
    },
    {
     "name": "stdout",
     "output_type": "stream",
     "text": [
      "Model saved as combined_90_30.h5\n",
      "--------------------------------------------------\n",
      "Predicting 5 days ahead with 180 days timeframe.\n",
      "8/8 [==============================] - 90s 11s/step - loss: 0.9422 - accuracy: 0.4879 - val_loss: 0.6564 - val_accuracy: 0.8214\n",
      "1/1 [==============================] - 2s 2s/step\n"
     ]
    },
    {
     "name": "stderr",
     "output_type": "stream",
     "text": [
      "/Users/constantinernstberger/opt/anaconda3/envs/aiss/lib/python3.8/site-packages/numpy/core/fromnumeric.py:3464: RuntimeWarning: Mean of empty slice.\n",
      "  return _methods._mean(a, axis=axis, dtype=dtype,\n",
      "/Users/constantinernstberger/opt/anaconda3/envs/aiss/lib/python3.8/site-packages/numpy/core/_methods.py:192: RuntimeWarning: invalid value encountered in scalar divide\n",
      "  ret = ret.dtype.type(ret / rcount)\n"
     ]
    },
    {
     "name": "stdout",
     "output_type": "stream",
     "text": [
      "1/1 [==============================] - 11s 11s/step - loss: 0.7030 - accuracy: 0.4333 - val_loss: 0.6924 - val_accuracy: 0.5000\n",
      "2/2 [==============================] - 2s 130ms/step\n"
     ]
    },
    {
     "name": "stderr",
     "output_type": "stream",
     "text": [
      "/Users/constantinernstberger/opt/anaconda3/envs/aiss/lib/python3.8/site-packages/numpy/core/fromnumeric.py:3464: RuntimeWarning: Mean of empty slice.\n",
      "  return _methods._mean(a, axis=axis, dtype=dtype,\n",
      "/Users/constantinernstberger/opt/anaconda3/envs/aiss/lib/python3.8/site-packages/numpy/core/_methods.py:192: RuntimeWarning: invalid value encountered in scalar divide\n",
      "  ret = ret.dtype.type(ret / rcount)\n"
     ]
    },
    {
     "name": "stdout",
     "output_type": "stream",
     "text": [
      "1/1 [==============================] - 13s 13s/step - loss: 0.6864 - accuracy: 0.5000 - val_loss: 0.6297 - val_accuracy: 1.0000\n",
      "2/2 [==============================] - 2s 129ms/step\n"
     ]
    },
    {
     "name": "stderr",
     "output_type": "stream",
     "text": [
      "/Users/constantinernstberger/opt/anaconda3/envs/aiss/lib/python3.8/site-packages/numpy/core/fromnumeric.py:3464: RuntimeWarning: Mean of empty slice.\n",
      "  return _methods._mean(a, axis=axis, dtype=dtype,\n",
      "/Users/constantinernstberger/opt/anaconda3/envs/aiss/lib/python3.8/site-packages/numpy/core/_methods.py:192: RuntimeWarning: invalid value encountered in scalar divide\n",
      "  ret = ret.dtype.type(ret / rcount)\n"
     ]
    },
    {
     "name": "stdout",
     "output_type": "stream",
     "text": [
      "1/1 [==============================] - 13s 13s/step - loss: 0.6401 - accuracy: 0.9000 - val_loss: 0.6238 - val_accuracy: 0.7500\n",
      "2/2 [==============================] - 3s 145ms/step\n"
     ]
    },
    {
     "name": "stderr",
     "output_type": "stream",
     "text": [
      "/Users/constantinernstberger/opt/anaconda3/envs/aiss/lib/python3.8/site-packages/numpy/core/fromnumeric.py:3464: RuntimeWarning: Mean of empty slice.\n",
      "  return _methods._mean(a, axis=axis, dtype=dtype,\n",
      "/Users/constantinernstberger/opt/anaconda3/envs/aiss/lib/python3.8/site-packages/numpy/core/_methods.py:192: RuntimeWarning: invalid value encountered in scalar divide\n",
      "  ret = ret.dtype.type(ret / rcount)\n"
     ]
    },
    {
     "name": "stdout",
     "output_type": "stream",
     "text": [
      "1/1 [==============================] - 14s 14s/step - loss: 0.8268 - accuracy: 0.2000 - val_loss: 0.8566 - val_accuracy: 0.0000e+00\n",
      "2/2 [==============================] - 3s 131ms/step\n"
     ]
    },
    {
     "name": "stderr",
     "output_type": "stream",
     "text": [
      "/Users/constantinernstberger/opt/anaconda3/envs/aiss/lib/python3.8/site-packages/numpy/core/fromnumeric.py:3464: RuntimeWarning: Mean of empty slice.\n",
      "  return _methods._mean(a, axis=axis, dtype=dtype,\n",
      "/Users/constantinernstberger/opt/anaconda3/envs/aiss/lib/python3.8/site-packages/numpy/core/_methods.py:192: RuntimeWarning: invalid value encountered in scalar divide\n",
      "  ret = ret.dtype.type(ret / rcount)\n"
     ]
    },
    {
     "name": "stdout",
     "output_type": "stream",
     "text": [
      "1/1 [==============================] - 13s 13s/step - loss: 0.7370 - accuracy: 0.4333 - val_loss: 0.7024 - val_accuracy: 0.5000\n",
      "2/2 [==============================] - 3s 125ms/step\n"
     ]
    },
    {
     "name": "stderr",
     "output_type": "stream",
     "text": [
      "/Users/constantinernstberger/opt/anaconda3/envs/aiss/lib/python3.8/site-packages/numpy/core/fromnumeric.py:3464: RuntimeWarning: Mean of empty slice.\n",
      "  return _methods._mean(a, axis=axis, dtype=dtype,\n",
      "/Users/constantinernstberger/opt/anaconda3/envs/aiss/lib/python3.8/site-packages/numpy/core/_methods.py:192: RuntimeWarning: invalid value encountered in scalar divide\n",
      "  ret = ret.dtype.type(ret / rcount)\n"
     ]
    },
    {
     "name": "stdout",
     "output_type": "stream",
     "text": [
      "1/1 [==============================] - 11s 11s/step - loss: 0.6355 - accuracy: 0.8667 - val_loss: 0.6477 - val_accuracy: 0.7500\n",
      "2/2 [==============================] - 3s 140ms/step\n"
     ]
    },
    {
     "name": "stderr",
     "output_type": "stream",
     "text": [
      "/Users/constantinernstberger/opt/anaconda3/envs/aiss/lib/python3.8/site-packages/numpy/core/fromnumeric.py:3464: RuntimeWarning: Mean of empty slice.\n",
      "  return _methods._mean(a, axis=axis, dtype=dtype,\n",
      "/Users/constantinernstberger/opt/anaconda3/envs/aiss/lib/python3.8/site-packages/numpy/core/_methods.py:192: RuntimeWarning: invalid value encountered in scalar divide\n",
      "  ret = ret.dtype.type(ret / rcount)\n"
     ]
    },
    {
     "name": "stdout",
     "output_type": "stream",
     "text": [
      "1/1 [==============================] - 13s 13s/step - loss: 0.6137 - accuracy: 0.9000 - val_loss: 0.6290 - val_accuracy: 0.7500\n",
      "2/2 [==============================] - 2s 128ms/step\n"
     ]
    },
    {
     "name": "stderr",
     "output_type": "stream",
     "text": [
      "/Users/constantinernstberger/opt/anaconda3/envs/aiss/lib/python3.8/site-packages/numpy/core/fromnumeric.py:3464: RuntimeWarning: Mean of empty slice.\n",
      "  return _methods._mean(a, axis=axis, dtype=dtype,\n",
      "/Users/constantinernstberger/opt/anaconda3/envs/aiss/lib/python3.8/site-packages/numpy/core/_methods.py:192: RuntimeWarning: invalid value encountered in scalar divide\n",
      "  ret = ret.dtype.type(ret / rcount)\n"
     ]
    },
    {
     "name": "stdout",
     "output_type": "stream",
     "text": [
      "1/1 [==============================] - 11s 11s/step - loss: 0.5600 - accuracy: 1.0000 - val_loss: 0.9614 - val_accuracy: 0.0000e+00\n",
      "2/2 [==============================] - 2s 128ms/step\n"
     ]
    },
    {
     "name": "stderr",
     "output_type": "stream",
     "text": [
      "/Users/constantinernstberger/opt/anaconda3/envs/aiss/lib/python3.8/site-packages/numpy/core/fromnumeric.py:3464: RuntimeWarning: Mean of empty slice.\n",
      "  return _methods._mean(a, axis=axis, dtype=dtype,\n",
      "/Users/constantinernstberger/opt/anaconda3/envs/aiss/lib/python3.8/site-packages/numpy/core/_methods.py:192: RuntimeWarning: invalid value encountered in scalar divide\n",
      "  ret = ret.dtype.type(ret / rcount)\n"
     ]
    },
    {
     "name": "stdout",
     "output_type": "stream",
     "text": [
      "1/1 [==============================] - 10s 10s/step - loss: 0.8964 - accuracy: 0.1333 - val_loss: 0.9460 - val_accuracy: 0.0000e+00\n",
      "4/4 [==============================] - 8s 2s/step\n",
      "Evaluation Metrics:\n",
      "Accuracy: 0.5648854961832062\n",
      "Precision: 0.5648854961832062\n",
      "Recall: 1.0\n",
      "F1 Score: 0.6778938239168399\n",
      "Hit Rate: 0.0\n",
      "Average Long RoR: 0.002093283150587267\n",
      "Long Investment: 3930.0\n",
      "Long Return: 8.557012504208378\n",
      "Average Short RoR: 0.0\n",
      "Short Investment: 0.0\n",
      "Short Return: 0.0\n"
     ]
    },
    {
     "name": "stderr",
     "output_type": "stream",
     "text": [
      "/Users/constantinernstberger/opt/anaconda3/envs/aiss/lib/python3.8/site-packages/numpy/core/fromnumeric.py:3464: RuntimeWarning: Mean of empty slice.\n",
      "  return _methods._mean(a, axis=axis, dtype=dtype,\n",
      "/Users/constantinernstberger/opt/anaconda3/envs/aiss/lib/python3.8/site-packages/numpy/core/_methods.py:192: RuntimeWarning: invalid value encountered in scalar divide\n",
      "  ret = ret.dtype.type(ret / rcount)\n",
      "/Users/constantinernstberger/opt/anaconda3/envs/aiss/lib/python3.8/site-packages/keras/src/engine/training.py:3000: UserWarning: You are saving your model as an HDF5 file via `model.save()`. This file format is considered legacy. We recommend using instead the native Keras format, e.g. `model.save('my_model.keras')`.\n",
      "  saving_api.save_model(\n"
     ]
    },
    {
     "name": "stdout",
     "output_type": "stream",
     "text": [
      "Model saved as combined_180_5.h5\n",
      "--------------------------------------------------\n",
      "Predicting 30 days ahead with 180 days timeframe.\n",
      "8/8 [==============================] - 92s 11s/step - loss: 1.9751 - accuracy: 0.6371 - val_loss: 0.4957 - val_accuracy: 1.0000\n",
      "1/1 [==============================] - 1s 1s/step\n"
     ]
    },
    {
     "name": "stderr",
     "output_type": "stream",
     "text": [
      "/Users/constantinernstberger/opt/anaconda3/envs/aiss/lib/python3.8/site-packages/numpy/core/fromnumeric.py:3464: RuntimeWarning: Mean of empty slice.\n",
      "  return _methods._mean(a, axis=axis, dtype=dtype,\n",
      "/Users/constantinernstberger/opt/anaconda3/envs/aiss/lib/python3.8/site-packages/numpy/core/_methods.py:192: RuntimeWarning: invalid value encountered in scalar divide\n",
      "  ret = ret.dtype.type(ret / rcount)\n"
     ]
    },
    {
     "name": "stdout",
     "output_type": "stream",
     "text": [
      "1/1 [==============================] - 10s 10s/step - loss: 0.5050 - accuracy: 1.0000 - val_loss: 0.4523 - val_accuracy: 1.0000\n",
      "2/2 [==============================] - 2s 128ms/step\n"
     ]
    },
    {
     "name": "stderr",
     "output_type": "stream",
     "text": [
      "/Users/constantinernstberger/opt/anaconda3/envs/aiss/lib/python3.8/site-packages/numpy/core/fromnumeric.py:3464: RuntimeWarning: Mean of empty slice.\n",
      "  return _methods._mean(a, axis=axis, dtype=dtype,\n",
      "/Users/constantinernstberger/opt/anaconda3/envs/aiss/lib/python3.8/site-packages/numpy/core/_methods.py:192: RuntimeWarning: invalid value encountered in scalar divide\n",
      "  ret = ret.dtype.type(ret / rcount)\n"
     ]
    },
    {
     "name": "stdout",
     "output_type": "stream",
     "text": [
      "1/1 [==============================] - 11s 11s/step - loss: 0.4449 - accuracy: 1.0000 - val_loss: 0.5798 - val_accuracy: 0.7500\n",
      "2/2 [==============================] - 2s 128ms/step\n"
     ]
    },
    {
     "name": "stderr",
     "output_type": "stream",
     "text": [
      "/Users/constantinernstberger/opt/anaconda3/envs/aiss/lib/python3.8/site-packages/numpy/core/fromnumeric.py:3464: RuntimeWarning: Mean of empty slice.\n",
      "  return _methods._mean(a, axis=axis, dtype=dtype,\n",
      "/Users/constantinernstberger/opt/anaconda3/envs/aiss/lib/python3.8/site-packages/numpy/core/_methods.py:192: RuntimeWarning: invalid value encountered in scalar divide\n",
      "  ret = ret.dtype.type(ret / rcount)\n"
     ]
    },
    {
     "name": "stdout",
     "output_type": "stream",
     "text": [
      "1/1 [==============================] - 12s 12s/step - loss: 0.4335 - accuracy: 0.9000 - val_loss: 0.1981 - val_accuracy: 1.0000\n",
      "2/2 [==============================] - 2s 130ms/step\n"
     ]
    },
    {
     "name": "stderr",
     "output_type": "stream",
     "text": [
      "/Users/constantinernstberger/opt/anaconda3/envs/aiss/lib/python3.8/site-packages/numpy/core/fromnumeric.py:3464: RuntimeWarning: Mean of empty slice.\n",
      "  return _methods._mean(a, axis=axis, dtype=dtype,\n",
      "/Users/constantinernstberger/opt/anaconda3/envs/aiss/lib/python3.8/site-packages/numpy/core/_methods.py:192: RuntimeWarning: invalid value encountered in scalar divide\n",
      "  ret = ret.dtype.type(ret / rcount)\n"
     ]
    },
    {
     "name": "stdout",
     "output_type": "stream",
     "text": [
      "1/1 [==============================] - 10s 10s/step - loss: 0.5849 - accuracy: 0.7333 - val_loss: 1.1179 - val_accuracy: 0.5000\n",
      "2/2 [==============================] - 3s 131ms/step\n"
     ]
    },
    {
     "name": "stderr",
     "output_type": "stream",
     "text": [
      "/Users/constantinernstberger/opt/anaconda3/envs/aiss/lib/python3.8/site-packages/numpy/core/fromnumeric.py:3464: RuntimeWarning: Mean of empty slice.\n",
      "  return _methods._mean(a, axis=axis, dtype=dtype,\n",
      "/Users/constantinernstberger/opt/anaconda3/envs/aiss/lib/python3.8/site-packages/numpy/core/_methods.py:192: RuntimeWarning: invalid value encountered in scalar divide\n",
      "  ret = ret.dtype.type(ret / rcount)\n"
     ]
    },
    {
     "name": "stdout",
     "output_type": "stream",
     "text": [
      "1/1 [==============================] - 11s 11s/step - loss: 0.3461 - accuracy: 0.9000 - val_loss: 1.3542 - val_accuracy: 0.5000\n",
      "2/2 [==============================] - 2s 127ms/step\n"
     ]
    },
    {
     "name": "stderr",
     "output_type": "stream",
     "text": [
      "/Users/constantinernstberger/opt/anaconda3/envs/aiss/lib/python3.8/site-packages/numpy/core/fromnumeric.py:3464: RuntimeWarning: Mean of empty slice.\n",
      "  return _methods._mean(a, axis=axis, dtype=dtype,\n",
      "/Users/constantinernstberger/opt/anaconda3/envs/aiss/lib/python3.8/site-packages/numpy/core/_methods.py:192: RuntimeWarning: invalid value encountered in scalar divide\n",
      "  ret = ret.dtype.type(ret / rcount)\n"
     ]
    },
    {
     "name": "stdout",
     "output_type": "stream",
     "text": [
      "1/1 [==============================] - 12s 12s/step - loss: 0.7234 - accuracy: 0.7667 - val_loss: 1.2051 - val_accuracy: 0.5000\n",
      "2/2 [==============================] - 2s 129ms/step\n"
     ]
    },
    {
     "name": "stderr",
     "output_type": "stream",
     "text": [
      "/Users/constantinernstberger/opt/anaconda3/envs/aiss/lib/python3.8/site-packages/numpy/core/fromnumeric.py:3464: RuntimeWarning: Mean of empty slice.\n",
      "  return _methods._mean(a, axis=axis, dtype=dtype,\n",
      "/Users/constantinernstberger/opt/anaconda3/envs/aiss/lib/python3.8/site-packages/numpy/core/_methods.py:192: RuntimeWarning: invalid value encountered in scalar divide\n",
      "  ret = ret.dtype.type(ret / rcount)\n"
     ]
    },
    {
     "name": "stdout",
     "output_type": "stream",
     "text": [
      "1/1 [==============================] - 10s 10s/step - loss: 0.3244 - accuracy: 0.9000 - val_loss: 0.6854 - val_accuracy: 0.7500\n",
      "2/2 [==============================] - 3s 137ms/step\n"
     ]
    },
    {
     "name": "stderr",
     "output_type": "stream",
     "text": [
      "/Users/constantinernstberger/opt/anaconda3/envs/aiss/lib/python3.8/site-packages/numpy/core/fromnumeric.py:3464: RuntimeWarning: Mean of empty slice.\n",
      "  return _methods._mean(a, axis=axis, dtype=dtype,\n",
      "/Users/constantinernstberger/opt/anaconda3/envs/aiss/lib/python3.8/site-packages/numpy/core/_methods.py:192: RuntimeWarning: invalid value encountered in scalar divide\n",
      "  ret = ret.dtype.type(ret / rcount)\n"
     ]
    },
    {
     "name": "stdout",
     "output_type": "stream",
     "text": [
      "1/1 [==============================] - 14s 14s/step - loss: 0.4181 - accuracy: 0.8667 - val_loss: 2.1187 - val_accuracy: 0.0000e+00\n",
      "2/2 [==============================] - 2s 130ms/step\n"
     ]
    },
    {
     "name": "stderr",
     "output_type": "stream",
     "text": [
      "/Users/constantinernstberger/opt/anaconda3/envs/aiss/lib/python3.8/site-packages/sklearn/metrics/_classification.py:1308: UndefinedMetricWarning: Recall is ill-defined and being set to 0.0 due to no true samples. Use `zero_division` parameter to control this behavior.\n",
      "  _warn_prf(average, modifier, msg_start, len(result))\n",
      "/Users/constantinernstberger/opt/anaconda3/envs/aiss/lib/python3.8/site-packages/numpy/core/fromnumeric.py:3464: RuntimeWarning: Mean of empty slice.\n",
      "  return _methods._mean(a, axis=axis, dtype=dtype,\n",
      "/Users/constantinernstberger/opt/anaconda3/envs/aiss/lib/python3.8/site-packages/numpy/core/_methods.py:192: RuntimeWarning: invalid value encountered in scalar divide\n",
      "  ret = ret.dtype.type(ret / rcount)\n"
     ]
    },
    {
     "name": "stdout",
     "output_type": "stream",
     "text": [
      "1/1 [==============================] - 12s 12s/step - loss: 2.1350 - accuracy: 0.0000e+00 - val_loss: 1.6104 - val_accuracy: 0.0000e+00\n",
      "4/4 [==============================] - 8s 2s/step\n",
      "Evaluation Metrics:\n",
      "Accuracy: 0.6234096692111959\n",
      "Precision: 0.6234096692111959\n",
      "Recall: 0.916030534351145\n",
      "F1 Score: 0.7092125889315639\n",
      "Hit Rate: 0.0\n",
      "Average Long RoR: 0.01679512842576453\n",
      "Long Investment: 3930.0\n",
      "Long Return: 41.49991697218767\n",
      "Average Short RoR: 0.0\n",
      "Short Investment: 0.0\n",
      "Short Return: 0.0\n"
     ]
    },
    {
     "name": "stderr",
     "output_type": "stream",
     "text": [
      "/Users/constantinernstberger/opt/anaconda3/envs/aiss/lib/python3.8/site-packages/numpy/core/fromnumeric.py:3464: RuntimeWarning: Mean of empty slice.\n",
      "  return _methods._mean(a, axis=axis, dtype=dtype,\n",
      "/Users/constantinernstberger/opt/anaconda3/envs/aiss/lib/python3.8/site-packages/numpy/core/_methods.py:192: RuntimeWarning: invalid value encountered in scalar divide\n",
      "  ret = ret.dtype.type(ret / rcount)\n",
      "/Users/constantinernstberger/opt/anaconda3/envs/aiss/lib/python3.8/site-packages/keras/src/engine/training.py:3000: UserWarning: You are saving your model as an HDF5 file via `model.save()`. This file format is considered legacy. We recommend using instead the native Keras format, e.g. `model.save('my_model.keras')`.\n",
      "  saving_api.save_model(\n"
     ]
    },
    {
     "name": "stdout",
     "output_type": "stream",
     "text": [
      "Model saved as combined_180_30.h5\n",
      "--------------------------------------------------\n",
      "Predicting 90 days ahead with 180 days timeframe.\n",
      "8/8 [==============================] - 103s 12s/step - loss: 1.8629 - accuracy: 0.5605 - val_loss: 0.2440 - val_accuracy: 1.0000\n",
      "1/1 [==============================] - 2s 2s/step\n"
     ]
    },
    {
     "name": "stderr",
     "output_type": "stream",
     "text": [
      "/Users/constantinernstberger/opt/anaconda3/envs/aiss/lib/python3.8/site-packages/numpy/core/fromnumeric.py:3464: RuntimeWarning: Mean of empty slice.\n",
      "  return _methods._mean(a, axis=axis, dtype=dtype,\n",
      "/Users/constantinernstberger/opt/anaconda3/envs/aiss/lib/python3.8/site-packages/numpy/core/_methods.py:192: RuntimeWarning: invalid value encountered in scalar divide\n",
      "  ret = ret.dtype.type(ret / rcount)\n"
     ]
    },
    {
     "name": "stdout",
     "output_type": "stream",
     "text": [
      "1/1 [==============================] - 14s 14s/step - loss: 0.4282 - accuracy: 0.8667 - val_loss: 0.0181 - val_accuracy: 1.0000\n",
      "2/2 [==============================] - 2s 129ms/step\n"
     ]
    },
    {
     "name": "stderr",
     "output_type": "stream",
     "text": [
      "/Users/constantinernstberger/opt/anaconda3/envs/aiss/lib/python3.8/site-packages/numpy/core/fromnumeric.py:3464: RuntimeWarning: Mean of empty slice.\n",
      "  return _methods._mean(a, axis=axis, dtype=dtype,\n",
      "/Users/constantinernstberger/opt/anaconda3/envs/aiss/lib/python3.8/site-packages/numpy/core/_methods.py:192: RuntimeWarning: invalid value encountered in scalar divide\n",
      "  ret = ret.dtype.type(ret / rcount)\n"
     ]
    },
    {
     "name": "stdout",
     "output_type": "stream",
     "text": [
      "1/1 [==============================] - 12s 12s/step - loss: 0.0146 - accuracy: 1.0000 - val_loss: 2.1088e-05 - val_accuracy: 1.0000\n",
      "2/2 [==============================] - 3s 154ms/step\n"
     ]
    },
    {
     "name": "stderr",
     "output_type": "stream",
     "text": [
      "/Users/constantinernstberger/opt/anaconda3/envs/aiss/lib/python3.8/site-packages/numpy/core/fromnumeric.py:3464: RuntimeWarning: Mean of empty slice.\n",
      "  return _methods._mean(a, axis=axis, dtype=dtype,\n",
      "/Users/constantinernstberger/opt/anaconda3/envs/aiss/lib/python3.8/site-packages/numpy/core/_methods.py:192: RuntimeWarning: invalid value encountered in scalar divide\n",
      "  ret = ret.dtype.type(ret / rcount)\n"
     ]
    },
    {
     "name": "stdout",
     "output_type": "stream",
     "text": [
      "1/1 [==============================] - 15s 15s/step - loss: 1.6212e-05 - accuracy: 1.0000 - val_loss: 4.2248e-10 - val_accuracy: 1.0000\n",
      "2/2 [==============================] - 2s 126ms/step\n"
     ]
    },
    {
     "name": "stderr",
     "output_type": "stream",
     "text": [
      "/Users/constantinernstberger/opt/anaconda3/envs/aiss/lib/python3.8/site-packages/numpy/core/fromnumeric.py:3464: RuntimeWarning: Mean of empty slice.\n",
      "  return _methods._mean(a, axis=axis, dtype=dtype,\n",
      "/Users/constantinernstberger/opt/anaconda3/envs/aiss/lib/python3.8/site-packages/numpy/core/_methods.py:192: RuntimeWarning: invalid value encountered in scalar divide\n",
      "  ret = ret.dtype.type(ret / rcount)\n"
     ]
    },
    {
     "name": "stdout",
     "output_type": "stream",
     "text": [
      "1/1 [==============================] - 11s 11s/step - loss: 5.1837 - accuracy: 0.8000 - val_loss: 2.6559 - val_accuracy: 0.7500\n",
      "2/2 [==============================] - 2s 128ms/step\n"
     ]
    },
    {
     "name": "stderr",
     "output_type": "stream",
     "text": [
      "/Users/constantinernstberger/opt/anaconda3/envs/aiss/lib/python3.8/site-packages/numpy/core/fromnumeric.py:3464: RuntimeWarning: Mean of empty slice.\n",
      "  return _methods._mean(a, axis=axis, dtype=dtype,\n",
      "/Users/constantinernstberger/opt/anaconda3/envs/aiss/lib/python3.8/site-packages/numpy/core/_methods.py:192: RuntimeWarning: invalid value encountered in scalar divide\n",
      "  ret = ret.dtype.type(ret / rcount)\n"
     ]
    },
    {
     "name": "stdout",
     "output_type": "stream",
     "text": [
      "1/1 [==============================] - 9s 9s/step - loss: 0.5283 - accuracy: 0.9667 - val_loss: 0.0080 - val_accuracy: 1.0000\n",
      "2/2 [==============================] - 3s 135ms/step\n"
     ]
    },
    {
     "name": "stderr",
     "output_type": "stream",
     "text": [
      "/Users/constantinernstberger/opt/anaconda3/envs/aiss/lib/python3.8/site-packages/numpy/core/fromnumeric.py:3464: RuntimeWarning: Mean of empty slice.\n",
      "  return _methods._mean(a, axis=axis, dtype=dtype,\n",
      "/Users/constantinernstberger/opt/anaconda3/envs/aiss/lib/python3.8/site-packages/numpy/core/_methods.py:192: RuntimeWarning: invalid value encountered in scalar divide\n",
      "  ret = ret.dtype.type(ret / rcount)\n"
     ]
    },
    {
     "name": "stdout",
     "output_type": "stream",
     "text": [
      "1/1 [==============================] - 11s 11s/step - loss: 0.9422 - accuracy: 0.8000 - val_loss: 0.9490 - val_accuracy: 0.5000\n",
      "2/2 [==============================] - 3s 162ms/step\n"
     ]
    },
    {
     "name": "stderr",
     "output_type": "stream",
     "text": [
      "/Users/constantinernstberger/opt/anaconda3/envs/aiss/lib/python3.8/site-packages/numpy/core/fromnumeric.py:3464: RuntimeWarning: Mean of empty slice.\n",
      "  return _methods._mean(a, axis=axis, dtype=dtype,\n",
      "/Users/constantinernstberger/opt/anaconda3/envs/aiss/lib/python3.8/site-packages/numpy/core/_methods.py:192: RuntimeWarning: invalid value encountered in scalar divide\n",
      "  ret = ret.dtype.type(ret / rcount)\n"
     ]
    },
    {
     "name": "stdout",
     "output_type": "stream",
     "text": [
      "1/1 [==============================] - 24s 24s/step - loss: 0.3111 - accuracy: 0.9000 - val_loss: 0.9512 - val_accuracy: 0.2500\n",
      "2/2 [==============================] - 5s 185ms/step\n"
     ]
    },
    {
     "name": "stderr",
     "output_type": "stream",
     "text": [
      "/Users/constantinernstberger/opt/anaconda3/envs/aiss/lib/python3.8/site-packages/numpy/core/fromnumeric.py:3464: RuntimeWarning: Mean of empty slice.\n",
      "  return _methods._mean(a, axis=axis, dtype=dtype,\n",
      "/Users/constantinernstberger/opt/anaconda3/envs/aiss/lib/python3.8/site-packages/numpy/core/_methods.py:192: RuntimeWarning: invalid value encountered in scalar divide\n",
      "  ret = ret.dtype.type(ret / rcount)\n"
     ]
    },
    {
     "name": "stdout",
     "output_type": "stream",
     "text": [
      "1/1 [==============================] - 26s 26s/step - loss: 0.6424 - accuracy: 0.6667 - val_loss: 0.9115 - val_accuracy: 0.0000e+00\n",
      "2/2 [==============================] - 3s 139ms/step\n"
     ]
    },
    {
     "name": "stderr",
     "output_type": "stream",
     "text": [
      "/Users/constantinernstberger/opt/anaconda3/envs/aiss/lib/python3.8/site-packages/sklearn/metrics/_classification.py:1308: UndefinedMetricWarning: Recall is ill-defined and being set to 0.0 due to no true samples. Use `zero_division` parameter to control this behavior.\n",
      "  _warn_prf(average, modifier, msg_start, len(result))\n",
      "/Users/constantinernstberger/opt/anaconda3/envs/aiss/lib/python3.8/site-packages/numpy/core/fromnumeric.py:3464: RuntimeWarning: Mean of empty slice.\n",
      "  return _methods._mean(a, axis=axis, dtype=dtype,\n",
      "/Users/constantinernstberger/opt/anaconda3/envs/aiss/lib/python3.8/site-packages/numpy/core/_methods.py:192: RuntimeWarning: invalid value encountered in scalar divide\n",
      "  ret = ret.dtype.type(ret / rcount)\n"
     ]
    },
    {
     "name": "stdout",
     "output_type": "stream",
     "text": [
      "1/1 [==============================] - 20s 20s/step - loss: 0.9047 - accuracy: 0.0000e+00 - val_loss: 0.7338 - val_accuracy: 0.0000e+00\n",
      "4/4 [==============================] - 10s 2s/step\n",
      "Evaluation Metrics:\n",
      "Accuracy: 0.6132315521628499\n",
      "Precision: 0.6132315521628499\n",
      "Recall: 0.916030534351145\n",
      "F1 Score: 0.6969237954553477\n",
      "Hit Rate: 0.0\n",
      "Average Long RoR: 0.031184058891381712\n",
      "Long Investment: 3930.0\n",
      "Long Return: 51.57736725949634\n",
      "Average Short RoR: 0.0\n",
      "Short Investment: 0.0\n",
      "Short Return: 0.0\n"
     ]
    },
    {
     "name": "stderr",
     "output_type": "stream",
     "text": [
      "/Users/constantinernstberger/opt/anaconda3/envs/aiss/lib/python3.8/site-packages/numpy/core/fromnumeric.py:3464: RuntimeWarning: Mean of empty slice.\n",
      "  return _methods._mean(a, axis=axis, dtype=dtype,\n",
      "/Users/constantinernstberger/opt/anaconda3/envs/aiss/lib/python3.8/site-packages/numpy/core/_methods.py:192: RuntimeWarning: invalid value encountered in scalar divide\n",
      "  ret = ret.dtype.type(ret / rcount)\n",
      "/Users/constantinernstberger/opt/anaconda3/envs/aiss/lib/python3.8/site-packages/keras/src/engine/training.py:3000: UserWarning: You are saving your model as an HDF5 file via `model.save()`. This file format is considered legacy. We recommend using instead the native Keras format, e.g. `model.save('my_model.keras')`.\n",
      "  saving_api.save_model(\n"
     ]
    },
    {
     "name": "stdout",
     "output_type": "stream",
     "text": [
      "Model saved as combined_180_90.h5\n",
      "--------------------------------------------------\n",
      "Predicting 5 days ahead with 365 days timeframe.\n",
      "1/7 [===>..........................] - ETA: 5:33 - loss: 0.6970 - accuracy: 0.4062"
     ]
    },
    {
     "ename": "KeyboardInterrupt",
     "evalue": "",
     "output_type": "error",
     "traceback": [
      "\u001b[0;31m---------------------------------------------------------------------------\u001b[0m",
      "\u001b[0;31mKeyboardInterrupt\u001b[0m                         Traceback (most recent call last)",
      "\u001b[0;32m/var/folders/jx/r9zzxsjd7wxgmmn32r0l8cz40000gn/T/ipykernel_8688/1579359406.py\u001b[0m in \u001b[0;36m<module>\u001b[0;34m\u001b[0m\n\u001b[1;32m     84\u001b[0m \u001b[0;34m\u001b[0m\u001b[0m\n\u001b[1;32m     85\u001b[0m                 \u001b[0;31m#model.fit(X_train_temp, y_train_temp, batch_size=32, epochs=1, validation_data=(X_val_temp, y_val_temp))\u001b[0m\u001b[0;34m\u001b[0m\u001b[0;34m\u001b[0m\u001b[0;34m\u001b[0m\u001b[0m\n\u001b[0;32m---> 86\u001b[0;31m                 \u001b[0mmodel\u001b[0m\u001b[0;34m.\u001b[0m\u001b[0mfit\u001b[0m\u001b[0;34m(\u001b[0m\u001b[0mX_train_temp\u001b[0m\u001b[0;34m,\u001b[0m \u001b[0my_train_temp\u001b[0m\u001b[0;34m,\u001b[0m \u001b[0mbatch_size\u001b[0m\u001b[0;34m=\u001b[0m\u001b[0;36m32\u001b[0m\u001b[0;34m,\u001b[0m \u001b[0mepochs\u001b[0m\u001b[0;34m=\u001b[0m\u001b[0;36m1\u001b[0m\u001b[0;34m,\u001b[0m \u001b[0mvalidation_split\u001b[0m\u001b[0;34m=\u001b[0m\u001b[0;36m0.1\u001b[0m\u001b[0;34m)\u001b[0m\u001b[0;34m\u001b[0m\u001b[0;34m\u001b[0m\u001b[0m\n\u001b[0m\u001b[1;32m     87\u001b[0m \u001b[0;34m\u001b[0m\u001b[0m\n\u001b[1;32m     88\u001b[0m                 \u001b[0;31m# Evaluate the model\u001b[0m\u001b[0;34m\u001b[0m\u001b[0;34m\u001b[0m\u001b[0;34m\u001b[0m\u001b[0m\n",
      "\u001b[0;32m~/opt/anaconda3/envs/aiss/lib/python3.8/site-packages/keras/src/utils/traceback_utils.py\u001b[0m in \u001b[0;36merror_handler\u001b[0;34m(*args, **kwargs)\u001b[0m\n\u001b[1;32m     63\u001b[0m         \u001b[0mfiltered_tb\u001b[0m \u001b[0;34m=\u001b[0m \u001b[0;32mNone\u001b[0m\u001b[0;34m\u001b[0m\u001b[0;34m\u001b[0m\u001b[0m\n\u001b[1;32m     64\u001b[0m         \u001b[0;32mtry\u001b[0m\u001b[0;34m:\u001b[0m\u001b[0;34m\u001b[0m\u001b[0;34m\u001b[0m\u001b[0m\n\u001b[0;32m---> 65\u001b[0;31m             \u001b[0;32mreturn\u001b[0m \u001b[0mfn\u001b[0m\u001b[0;34m(\u001b[0m\u001b[0;34m*\u001b[0m\u001b[0margs\u001b[0m\u001b[0;34m,\u001b[0m \u001b[0;34m**\u001b[0m\u001b[0mkwargs\u001b[0m\u001b[0;34m)\u001b[0m\u001b[0;34m\u001b[0m\u001b[0;34m\u001b[0m\u001b[0m\n\u001b[0m\u001b[1;32m     66\u001b[0m         \u001b[0;32mexcept\u001b[0m \u001b[0mException\u001b[0m \u001b[0;32mas\u001b[0m \u001b[0me\u001b[0m\u001b[0;34m:\u001b[0m\u001b[0;34m\u001b[0m\u001b[0;34m\u001b[0m\u001b[0m\n\u001b[1;32m     67\u001b[0m             \u001b[0mfiltered_tb\u001b[0m \u001b[0;34m=\u001b[0m \u001b[0m_process_traceback_frames\u001b[0m\u001b[0;34m(\u001b[0m\u001b[0me\u001b[0m\u001b[0;34m.\u001b[0m\u001b[0m__traceback__\u001b[0m\u001b[0;34m)\u001b[0m\u001b[0;34m\u001b[0m\u001b[0;34m\u001b[0m\u001b[0m\n",
      "\u001b[0;32m~/opt/anaconda3/envs/aiss/lib/python3.8/site-packages/keras/src/engine/training.py\u001b[0m in \u001b[0;36mfit\u001b[0;34m(self, x, y, batch_size, epochs, verbose, callbacks, validation_split, validation_data, shuffle, class_weight, sample_weight, initial_epoch, steps_per_epoch, validation_steps, validation_batch_size, validation_freq, max_queue_size, workers, use_multiprocessing)\u001b[0m\n\u001b[1;32m   1740\u001b[0m                         ):\n\u001b[1;32m   1741\u001b[0m                             \u001b[0mcallbacks\u001b[0m\u001b[0;34m.\u001b[0m\u001b[0mon_train_batch_begin\u001b[0m\u001b[0;34m(\u001b[0m\u001b[0mstep\u001b[0m\u001b[0;34m)\u001b[0m\u001b[0;34m\u001b[0m\u001b[0;34m\u001b[0m\u001b[0m\n\u001b[0;32m-> 1742\u001b[0;31m                             \u001b[0mtmp_logs\u001b[0m \u001b[0;34m=\u001b[0m \u001b[0mself\u001b[0m\u001b[0;34m.\u001b[0m\u001b[0mtrain_function\u001b[0m\u001b[0;34m(\u001b[0m\u001b[0miterator\u001b[0m\u001b[0;34m)\u001b[0m\u001b[0;34m\u001b[0m\u001b[0;34m\u001b[0m\u001b[0m\n\u001b[0m\u001b[1;32m   1743\u001b[0m                             \u001b[0;32mif\u001b[0m \u001b[0mdata_handler\u001b[0m\u001b[0;34m.\u001b[0m\u001b[0mshould_sync\u001b[0m\u001b[0;34m:\u001b[0m\u001b[0;34m\u001b[0m\u001b[0;34m\u001b[0m\u001b[0m\n\u001b[1;32m   1744\u001b[0m                                 \u001b[0mcontext\u001b[0m\u001b[0;34m.\u001b[0m\u001b[0masync_wait\u001b[0m\u001b[0;34m(\u001b[0m\u001b[0;34m)\u001b[0m\u001b[0;34m\u001b[0m\u001b[0;34m\u001b[0m\u001b[0m\n",
      "\u001b[0;32m~/opt/anaconda3/envs/aiss/lib/python3.8/site-packages/tensorflow/python/util/traceback_utils.py\u001b[0m in \u001b[0;36merror_handler\u001b[0;34m(*args, **kwargs)\u001b[0m\n\u001b[1;32m    148\u001b[0m     \u001b[0mfiltered_tb\u001b[0m \u001b[0;34m=\u001b[0m \u001b[0;32mNone\u001b[0m\u001b[0;34m\u001b[0m\u001b[0;34m\u001b[0m\u001b[0m\n\u001b[1;32m    149\u001b[0m     \u001b[0;32mtry\u001b[0m\u001b[0;34m:\u001b[0m\u001b[0;34m\u001b[0m\u001b[0;34m\u001b[0m\u001b[0m\n\u001b[0;32m--> 150\u001b[0;31m       \u001b[0;32mreturn\u001b[0m \u001b[0mfn\u001b[0m\u001b[0;34m(\u001b[0m\u001b[0;34m*\u001b[0m\u001b[0margs\u001b[0m\u001b[0;34m,\u001b[0m \u001b[0;34m**\u001b[0m\u001b[0mkwargs\u001b[0m\u001b[0;34m)\u001b[0m\u001b[0;34m\u001b[0m\u001b[0;34m\u001b[0m\u001b[0m\n\u001b[0m\u001b[1;32m    151\u001b[0m     \u001b[0;32mexcept\u001b[0m \u001b[0mException\u001b[0m \u001b[0;32mas\u001b[0m \u001b[0me\u001b[0m\u001b[0;34m:\u001b[0m\u001b[0;34m\u001b[0m\u001b[0;34m\u001b[0m\u001b[0m\n\u001b[1;32m    152\u001b[0m       \u001b[0mfiltered_tb\u001b[0m \u001b[0;34m=\u001b[0m \u001b[0m_process_traceback_frames\u001b[0m\u001b[0;34m(\u001b[0m\u001b[0me\u001b[0m\u001b[0;34m.\u001b[0m\u001b[0m__traceback__\u001b[0m\u001b[0;34m)\u001b[0m\u001b[0;34m\u001b[0m\u001b[0;34m\u001b[0m\u001b[0m\n",
      "\u001b[0;32m~/opt/anaconda3/envs/aiss/lib/python3.8/site-packages/tensorflow/python/eager/polymorphic_function/polymorphic_function.py\u001b[0m in \u001b[0;36m__call__\u001b[0;34m(self, *args, **kwds)\u001b[0m\n\u001b[1;32m    823\u001b[0m \u001b[0;34m\u001b[0m\u001b[0m\n\u001b[1;32m    824\u001b[0m       \u001b[0;32mwith\u001b[0m \u001b[0mOptionalXlaContext\u001b[0m\u001b[0;34m(\u001b[0m\u001b[0mself\u001b[0m\u001b[0;34m.\u001b[0m\u001b[0m_jit_compile\u001b[0m\u001b[0;34m)\u001b[0m\u001b[0;34m:\u001b[0m\u001b[0;34m\u001b[0m\u001b[0;34m\u001b[0m\u001b[0m\n\u001b[0;32m--> 825\u001b[0;31m         \u001b[0mresult\u001b[0m \u001b[0;34m=\u001b[0m \u001b[0mself\u001b[0m\u001b[0;34m.\u001b[0m\u001b[0m_call\u001b[0m\u001b[0;34m(\u001b[0m\u001b[0;34m*\u001b[0m\u001b[0margs\u001b[0m\u001b[0;34m,\u001b[0m \u001b[0;34m**\u001b[0m\u001b[0mkwds\u001b[0m\u001b[0;34m)\u001b[0m\u001b[0;34m\u001b[0m\u001b[0;34m\u001b[0m\u001b[0m\n\u001b[0m\u001b[1;32m    826\u001b[0m \u001b[0;34m\u001b[0m\u001b[0m\n\u001b[1;32m    827\u001b[0m       \u001b[0mnew_tracing_count\u001b[0m \u001b[0;34m=\u001b[0m \u001b[0mself\u001b[0m\u001b[0;34m.\u001b[0m\u001b[0mexperimental_get_tracing_count\u001b[0m\u001b[0;34m(\u001b[0m\u001b[0;34m)\u001b[0m\u001b[0;34m\u001b[0m\u001b[0;34m\u001b[0m\u001b[0m\n",
      "\u001b[0;32m~/opt/anaconda3/envs/aiss/lib/python3.8/site-packages/tensorflow/python/eager/polymorphic_function/polymorphic_function.py\u001b[0m in \u001b[0;36m_call\u001b[0;34m(self, *args, **kwds)\u001b[0m\n\u001b[1;32m    855\u001b[0m       \u001b[0;31m# In this case we have created variables on the first call, so we run the\u001b[0m\u001b[0;34m\u001b[0m\u001b[0;34m\u001b[0m\u001b[0;34m\u001b[0m\u001b[0m\n\u001b[1;32m    856\u001b[0m       \u001b[0;31m# defunned version which is guaranteed to never create variables.\u001b[0m\u001b[0;34m\u001b[0m\u001b[0;34m\u001b[0m\u001b[0;34m\u001b[0m\u001b[0m\n\u001b[0;32m--> 857\u001b[0;31m       \u001b[0;32mreturn\u001b[0m \u001b[0mself\u001b[0m\u001b[0;34m.\u001b[0m\u001b[0m_no_variable_creation_fn\u001b[0m\u001b[0;34m(\u001b[0m\u001b[0;34m*\u001b[0m\u001b[0margs\u001b[0m\u001b[0;34m,\u001b[0m \u001b[0;34m**\u001b[0m\u001b[0mkwds\u001b[0m\u001b[0;34m)\u001b[0m  \u001b[0;31m# pylint: disable=not-callable\u001b[0m\u001b[0;34m\u001b[0m\u001b[0;34m\u001b[0m\u001b[0m\n\u001b[0m\u001b[1;32m    858\u001b[0m     \u001b[0;32melif\u001b[0m \u001b[0mself\u001b[0m\u001b[0;34m.\u001b[0m\u001b[0m_variable_creation_fn\u001b[0m \u001b[0;32mis\u001b[0m \u001b[0;32mnot\u001b[0m \u001b[0;32mNone\u001b[0m\u001b[0;34m:\u001b[0m\u001b[0;34m\u001b[0m\u001b[0;34m\u001b[0m\u001b[0m\n\u001b[1;32m    859\u001b[0m       \u001b[0;31m# Release the lock early so that multiple threads can perform the call\u001b[0m\u001b[0;34m\u001b[0m\u001b[0;34m\u001b[0m\u001b[0;34m\u001b[0m\u001b[0m\n",
      "\u001b[0;32m~/opt/anaconda3/envs/aiss/lib/python3.8/site-packages/tensorflow/python/eager/polymorphic_function/tracing_compiler.py\u001b[0m in \u001b[0;36m__call__\u001b[0;34m(self, *args, **kwargs)\u001b[0m\n\u001b[1;32m    146\u001b[0m       (concrete_function,\n\u001b[1;32m    147\u001b[0m        filtered_flat_args) = self._maybe_define_function(args, kwargs)\n\u001b[0;32m--> 148\u001b[0;31m     return concrete_function._call_flat(\n\u001b[0m\u001b[1;32m    149\u001b[0m         filtered_flat_args, captured_inputs=concrete_function.captured_inputs)  # pylint: disable=protected-access\n\u001b[1;32m    150\u001b[0m \u001b[0;34m\u001b[0m\u001b[0m\n",
      "\u001b[0;32m~/opt/anaconda3/envs/aiss/lib/python3.8/site-packages/tensorflow/python/eager/polymorphic_function/monomorphic_function.py\u001b[0m in \u001b[0;36m_call_flat\u001b[0;34m(self, args, captured_inputs)\u001b[0m\n\u001b[1;32m   1347\u001b[0m         and executing_eagerly):\n\u001b[1;32m   1348\u001b[0m       \u001b[0;31m# No tape is watching; skip to running the function.\u001b[0m\u001b[0;34m\u001b[0m\u001b[0;34m\u001b[0m\u001b[0;34m\u001b[0m\u001b[0m\n\u001b[0;32m-> 1349\u001b[0;31m       \u001b[0;32mreturn\u001b[0m \u001b[0mself\u001b[0m\u001b[0;34m.\u001b[0m\u001b[0m_build_call_outputs\u001b[0m\u001b[0;34m(\u001b[0m\u001b[0mself\u001b[0m\u001b[0;34m.\u001b[0m\u001b[0m_inference_function\u001b[0m\u001b[0;34m(\u001b[0m\u001b[0;34m*\u001b[0m\u001b[0margs\u001b[0m\u001b[0;34m)\u001b[0m\u001b[0;34m)\u001b[0m\u001b[0;34m\u001b[0m\u001b[0;34m\u001b[0m\u001b[0m\n\u001b[0m\u001b[1;32m   1350\u001b[0m     forward_backward = self._select_forward_and_backward_functions(\n\u001b[1;32m   1351\u001b[0m         \u001b[0margs\u001b[0m\u001b[0;34m,\u001b[0m\u001b[0;34m\u001b[0m\u001b[0;34m\u001b[0m\u001b[0m\n",
      "\u001b[0;32m~/opt/anaconda3/envs/aiss/lib/python3.8/site-packages/tensorflow/python/eager/polymorphic_function/atomic_function.py\u001b[0m in \u001b[0;36m__call__\u001b[0;34m(self, *args)\u001b[0m\n\u001b[1;32m    194\u001b[0m         \u001b[0;32mwith\u001b[0m \u001b[0mrecord\u001b[0m\u001b[0;34m.\u001b[0m\u001b[0mstop_recording\u001b[0m\u001b[0;34m(\u001b[0m\u001b[0;34m)\u001b[0m\u001b[0;34m:\u001b[0m\u001b[0;34m\u001b[0m\u001b[0;34m\u001b[0m\u001b[0m\n\u001b[1;32m    195\u001b[0m           \u001b[0;32mif\u001b[0m \u001b[0mself\u001b[0m\u001b[0;34m.\u001b[0m\u001b[0m_bound_context\u001b[0m\u001b[0;34m.\u001b[0m\u001b[0mexecuting_eagerly\u001b[0m\u001b[0;34m(\u001b[0m\u001b[0;34m)\u001b[0m\u001b[0;34m:\u001b[0m\u001b[0;34m\u001b[0m\u001b[0;34m\u001b[0m\u001b[0m\n\u001b[0;32m--> 196\u001b[0;31m             outputs = self._bound_context.call_function(\n\u001b[0m\u001b[1;32m    197\u001b[0m                 \u001b[0mself\u001b[0m\u001b[0;34m.\u001b[0m\u001b[0mname\u001b[0m\u001b[0;34m,\u001b[0m\u001b[0;34m\u001b[0m\u001b[0;34m\u001b[0m\u001b[0m\n\u001b[1;32m    198\u001b[0m                 \u001b[0mlist\u001b[0m\u001b[0;34m(\u001b[0m\u001b[0margs\u001b[0m\u001b[0;34m)\u001b[0m\u001b[0;34m,\u001b[0m\u001b[0;34m\u001b[0m\u001b[0;34m\u001b[0m\u001b[0m\n",
      "\u001b[0;32m~/opt/anaconda3/envs/aiss/lib/python3.8/site-packages/tensorflow/python/eager/context.py\u001b[0m in \u001b[0;36mcall_function\u001b[0;34m(self, name, tensor_inputs, num_outputs)\u001b[0m\n\u001b[1;32m   1455\u001b[0m     \u001b[0mcancellation_context\u001b[0m \u001b[0;34m=\u001b[0m \u001b[0mcancellation\u001b[0m\u001b[0;34m.\u001b[0m\u001b[0mcontext\u001b[0m\u001b[0;34m(\u001b[0m\u001b[0;34m)\u001b[0m\u001b[0;34m\u001b[0m\u001b[0;34m\u001b[0m\u001b[0m\n\u001b[1;32m   1456\u001b[0m     \u001b[0;32mif\u001b[0m \u001b[0mcancellation_context\u001b[0m \u001b[0;32mis\u001b[0m \u001b[0;32mNone\u001b[0m\u001b[0;34m:\u001b[0m\u001b[0;34m\u001b[0m\u001b[0;34m\u001b[0m\u001b[0m\n\u001b[0;32m-> 1457\u001b[0;31m       outputs = execute.execute(\n\u001b[0m\u001b[1;32m   1458\u001b[0m           \u001b[0mname\u001b[0m\u001b[0;34m.\u001b[0m\u001b[0mdecode\u001b[0m\u001b[0;34m(\u001b[0m\u001b[0;34m\"utf-8\"\u001b[0m\u001b[0;34m)\u001b[0m\u001b[0;34m,\u001b[0m\u001b[0;34m\u001b[0m\u001b[0;34m\u001b[0m\u001b[0m\n\u001b[1;32m   1459\u001b[0m           \u001b[0mnum_outputs\u001b[0m\u001b[0;34m=\u001b[0m\u001b[0mnum_outputs\u001b[0m\u001b[0;34m,\u001b[0m\u001b[0;34m\u001b[0m\u001b[0;34m\u001b[0m\u001b[0m\n",
      "\u001b[0;32m~/opt/anaconda3/envs/aiss/lib/python3.8/site-packages/tensorflow/python/eager/execute.py\u001b[0m in \u001b[0;36mquick_execute\u001b[0;34m(op_name, num_outputs, inputs, attrs, ctx, name)\u001b[0m\n\u001b[1;32m     51\u001b[0m   \u001b[0;32mtry\u001b[0m\u001b[0;34m:\u001b[0m\u001b[0;34m\u001b[0m\u001b[0;34m\u001b[0m\u001b[0m\n\u001b[1;32m     52\u001b[0m     \u001b[0mctx\u001b[0m\u001b[0;34m.\u001b[0m\u001b[0mensure_initialized\u001b[0m\u001b[0;34m(\u001b[0m\u001b[0;34m)\u001b[0m\u001b[0;34m\u001b[0m\u001b[0;34m\u001b[0m\u001b[0m\n\u001b[0;32m---> 53\u001b[0;31m     tensors = pywrap_tfe.TFE_Py_Execute(ctx._handle, device_name, op_name,\n\u001b[0m\u001b[1;32m     54\u001b[0m                                         inputs, attrs, num_outputs)\n\u001b[1;32m     55\u001b[0m   \u001b[0;32mexcept\u001b[0m \u001b[0mcore\u001b[0m\u001b[0;34m.\u001b[0m\u001b[0m_NotOkStatusException\u001b[0m \u001b[0;32mas\u001b[0m \u001b[0me\u001b[0m\u001b[0;34m:\u001b[0m\u001b[0;34m\u001b[0m\u001b[0;34m\u001b[0m\u001b[0m\n",
      "\u001b[0;31mKeyboardInterrupt\u001b[0m: "
     ]
    }
   ],
   "source": [
    "# Train models on all images types and evaluate them based on timeframe and prediction\n",
    "\n",
    "evaluation_df = pd.DataFrame(columns=['Timeframe', 'Prediction', 'Accuracy', 'Precision', 'Recall', 'F1_Score', 'Hit_Rate', 'Long_Average_RoR', 'Long_Investment', 'Long_Return', 'Short_Average_RoR', 'Short_Investment', 'Short_Return'])\n",
    "\n",
    "for timeframe in TIMEFRAMES:\n",
    "    for prediction in PREDICTIONS:\n",
    "        if prediction < timeframe:\n",
    "            print(f\"Predicting {prediction} days ahead with {timeframe} days timeframe.\")\n",
    "\n",
    "            # Initialize variables for weighted sums and total count\n",
    "            weighted_accuracy_sum = 0\n",
    "            weighted_precision_sum = 0\n",
    "            weighted_recall_sum = 0\n",
    "            weighted_f1_score_sum = 0\n",
    "            weighted_hit_rate_sum = 0\n",
    "            total_predictions = 0\n",
    "            long_avg_ror = []\n",
    "            long_trades = []\n",
    "            long_investment = []\n",
    "            short_avg_ror = []\n",
    "            short_trades = []\n",
    "            short_investment = []\n",
    "            total_investment = []\n",
    "            total_returns = []\n",
    "            \n",
    "            # Filter your data based on prediction, img_type, and timeframe\n",
    "            data = labels[(labels['TimePrediction'] == prediction) & (labels['Image'].str.contains(f'_{timeframe}_'))]\n",
    "            data = data.reset_index(drop=True)  # Reset the index to maintain temporal order\n",
    "            \n",
    "            # Create and compile your CNN model based on timeframe\n",
    "            if timeframe == 14:\n",
    "                model = create_cnn_model(2, input_shape=(120, 85, 1))\n",
    "            elif timeframe == 30:\n",
    "                model = create_cnn_model(3, input_shape=(120, 132, 1))\n",
    "            elif timeframe == 90:\n",
    "                model = create_cnn_model(3, input_shape=(120, 226, 1))\n",
    "            elif timeframe == 180:\n",
    "                model = create_cnn_model(4, input_shape=(120, 414, 1))\n",
    "            elif timeframe == 365:\n",
    "                model = create_cnn_model(4, input_shape=(120, 602, 1))\n",
    "            \n",
    "            X = np.array(data['Image_Array'].tolist()) / 255.0\n",
    "            lastPrice = data['LastPrice'].tolist()\n",
    "            futurePrice = data['FuturePrice'].tolist()\n",
    "            y = data['Label'].values\n",
    "\n",
    "            # Split the data into a larger initial training set and a final test set\n",
    "            split_index = int(len(X) * 0.8)\n",
    "            X_train_full, X_test = X[:split_index], X[split_index:]\n",
    "            y_train_full, y_test = y[:split_index], y[split_index:]\n",
    "            lastPrice_train_full, lastPrice_test = lastPrice[:split_index], lastPrice[split_index:]\n",
    "            futurePrice_train_full, futurePrice_test = futurePrice[:split_index], futurePrice[split_index:]\n",
    "\n",
    "            # Define the rolling window size for training within the initial training set\n",
    "            window_size = len(X_train_full) / 20\n",
    "\n",
    "            for epoch in range(10):  # 10 epochs\n",
    "                if epoch == 0:\n",
    "                    start = 0\n",
    "                    end = int(len(X_train_full) * 0.4)\n",
    "                else:\n",
    "                    start = end\n",
    "                    end = start + int(window_size)\n",
    "\n",
    "                # Calculate buffer size (5% of the training set for this window)\n",
    "                buffer_size = int((end - start) * 0.05)\n",
    "                \n",
    "                # Define end of buffer\n",
    "                buffer_end = end + buffer_size\n",
    "\n",
    "                # Ensure buffer_end does not exceed the length of the initial training set\n",
    "                buffer_end = min(buffer_end, len(X_train_full))\n",
    "\n",
    "                # Split the data into training and test sets in temporal order\n",
    "                X_train_temp = X_train_full[start:end]\n",
    "                y_train_temp = y_train_full[start:end]\n",
    "                lastPrice_train_temp = lastPrice_train_full[start:end]\n",
    "                futurePrice_train_temp = futurePrice_train_full[start:end]\n",
    "\n",
    "                X_test_temp = X_train_full[buffer_end:] if epoch == 9 else X_train_full[buffer_end:end+int(window_size)]\n",
    "                y_test_temp = y_train_full[buffer_end:] if epoch == 9 else y_train_full[buffer_end:end+int(window_size)]\n",
    "                lastPrice_test_temp = lastPrice_train_full[buffer_end:] if epoch == 9 else lastPrice_train_full[buffer_end:end+int(window_size)]\n",
    "                futurePrice_test_temp = futurePrice_train_full[buffer_end:] if epoch == 9 else futurePrice_train_full[buffer_end:end+int(window_size)]\n",
    "\n",
    "                #model.fit(X_train_temp, y_train_temp, batch_size=32, epochs=1, validation_data=(X_val_temp, y_val_temp)) \n",
    "                model.fit(X_train_temp, y_train_temp, batch_size=32, epochs=1, validation_split=0.1)    \n",
    "            \n",
    "                # Evaluate the model\n",
    "                y_pred = model.predict(X_test_temp)\n",
    "                # Convert predictions to binary: if > 0.5 then 1 else 0\n",
    "                y_pred_binary = np.where(y_pred > 0.5, 1, 0)\n",
    "\n",
    "                num_predictions = len(y_test_temp)\n",
    "                \n",
    "                # Calculate the performance metrics for the current epoch\n",
    "                current_accuracy = accuracy_score(y_test_temp, y_pred_binary)\n",
    "                current_precision = precision_score(y_test_temp, y_pred_binary)\n",
    "                current_recall = recall_score(y_test_temp, y_pred_binary)\n",
    "                current_f1_score = fbeta_score(y_test_temp, y_pred_binary, beta=1)\n",
    "\n",
    "                y_test_array = y_test_temp.ravel()  # Convert y_test to a 1D NumPy array if it's a pandas Series\n",
    "                correct_predictions = np.sum(y_pred_binary.ravel() == y_test_array)\n",
    "                current_hit_rate = (correct_predictions / num_predictions)\n",
    "\n",
    "                # Update the weighted sums and total count\n",
    "                weighted_accuracy_sum += current_accuracy * num_predictions\n",
    "                weighted_precision_sum += current_precision * num_predictions\n",
    "                weighted_recall_sum += current_recall * num_predictions\n",
    "                weighted_f1_score_sum += current_f1_score * num_predictions\n",
    "                total_predictions += num_predictions\n",
    "\n",
    "                long_avg_ror_temp, long_trades_temp, long_investment_temp, short_avg_ror_temp, short_trades_temp, short_investment_temp = get_investment_return(y_pred_binary, lastPrice_test_temp, futurePrice_test_temp)\n",
    "                # Total investment\n",
    "                long_avg_ror.append(long_avg_ror_temp)\n",
    "                long_trades.append(long_trades_temp)\n",
    "                long_investment.append(long_investment_temp)\n",
    "                short_avg_ror.append(short_avg_ror_temp)\n",
    "                short_trades.append(short_trades_temp)\n",
    "                short_investment.append(short_investment_temp)\n",
    "            \n",
    "            # replace nan values with 0\n",
    "            long_avg_ror = [0 if np.isnan(x) else x for x in long_avg_ror]\n",
    "            long_trades = [0 if np.isnan(x) else x for x in long_trades]\n",
    "            long_investment = [0 if np.isnan(x) else x for x in long_investment]\n",
    "            short_avg_ror = [0 if np.isnan(x) else x for x in short_avg_ror]\n",
    "            short_trades = [0 if np.isnan(x) else x for x in short_trades]\n",
    "            short_investment = [0 if np.isnan(x) else x for x in short_investment]\n",
    "\n",
    "            # Calculate the weighted averages after the epoch loop\n",
    "            weighted_average_accuracy = weighted_accuracy_sum / total_predictions\n",
    "            weighted_average_precision = weighted_precision_sum / total_predictions\n",
    "            weighted_average_recall = weighted_recall_sum / total_predictions\n",
    "            weighted_average_f1_score = weighted_f1_score_sum / total_predictions\n",
    "            weighted_average_hit_rate = weighted_hit_rate_sum / total_predictions\n",
    "                        \n",
    "            print(\"Evaluation Metrics:\")\n",
    "            print(f\"Accuracy: {weighted_average_accuracy}\")\n",
    "            print(f\"Precision: {weighted_average_precision}\")\n",
    "            print(f\"Recall: {weighted_average_recall}\")\n",
    "            print(f\"F1 Score: {weighted_average_f1_score}\")\n",
    "            print(f\"Hit Rate: {weighted_average_hit_rate}\")\n",
    "            print(f\"Average Long RoR: {np.mean(long_avg_ror)}\")\n",
    "            print(f\"Long Investment: {np.mean(long_investment)}\")\n",
    "            print(f\"Long Return: {np.mean(long_trades)}\")\n",
    "            print(f\"Average Short RoR: {np.mean(short_avg_ror)}\")\n",
    "            print(f\"Short Investment: {np.mean(short_investment)}\")\n",
    "            print(f\"Short Return: {np.mean(short_trades)}\")\n",
    "\n",
    "            \n",
    "            # Add the evaluation metrics to the DataFrame\n",
    "            evaluation_df = evaluation_df.append({\n",
    "                'Timeframe': timeframe,\n",
    "                'Prediction': prediction,\n",
    "                'Accuracy': weighted_average_accuracy,\n",
    "                'Precision': weighted_average_precision,\n",
    "                'Recall': weighted_average_recall,\n",
    "                'F1_Score': weighted_average_f1_score,\n",
    "                'Hit_Rate': weighted_average_hit_rate,\n",
    "                'Long_Average_RoR': np.mean(long_avg_ror),\n",
    "                'Long_Investment': np.mean(long_investment),\n",
    "                'Long_Return': np.mean(long_trades),\n",
    "                'Short_Average_RoR': np.mean(short_avg_ror),\n",
    "                'Short_Investment': np.mean(short_investment),\n",
    "                'Short_Return': np.mean(short_trades)\n",
    "            }, ignore_index=True)\n",
    "\n",
    "            # Save the model\n",
    "            model.save(f\"models/combined_{timeframe}_{prediction}.h5\")\n",
    "            print(f\"Model saved as combined_{timeframe}_{prediction}.h5\")\n",
    "            print(\"--------------------------------------------------\")\n",
    "\n",
    "# Save the evaluation DataFrame to a CSV file\n",
    "evaluation_df.to_csv('combined_model_evaluation_scores.csv', index=False)\n",
    "print(\"Evaluation scores saved to 'combined_model_evaluation_scores.csv'.\")"
   ]
  },
  {
   "cell_type": "code",
   "execution_count": null,
   "metadata": {},
   "outputs": [],
   "source": [
    "ror_df = pd.DataFrame(columns=['Image_Type', 'Timeframe', 'Prediction', 'Average_RoR'])\n",
    "\n",
    "for img_type in IMG_TYPES:\n",
    "    for timeframe in TIMEFRAMES:\n",
    "        for prediction in PREDICTIONS:\n",
    "            if prediction < timeframe:\n",
    "\n",
    "                # Filter your data based on prediction, img_type, and timeframe\n",
    "                data = labels[(labels['TimePrediction'] == prediction) & (labels['Image'].str.contains(img_type)) & (labels['Image'].str.contains(f'_{timeframe}_'))]\n",
    "                data = data.reset_index(drop=True)\n",
    "                split_index = int(len(data) * 0.7)\n",
    "                lastPrice = data['LastPrice'][split_index:]\n",
    "                futurePrice = data['FuturePrice'][split_index:]\n",
    "                # Calculate Rate of Return RoR\n",
    "                ror = np.array((futurePrice - lastPrice)/lastPrice)\n",
    "                # Calculate average RoR\n",
    "                avg_ror = np.mean(ror)\n",
    "                print(f\"Average RoR for {img_type} {timeframe} {prediction}: {avg_ror}\")\n",
    "                # Add the evaluation metrics to the DataFrame\n",
    "                ror_df = ror_df.append({\n",
    "                    'Image_Type': img_type,\n",
    "                    'Timeframe': timeframe,\n",
    "                    'Prediction': prediction,\n",
    "                    'Average_RoR': avg_ror\n",
    "                }, ignore_index=True)\n",
    "\n",
    "# Save the evaluation DataFrame to a CSV file\n",
    "ror_df.to_csv('ror.csv', index=False)"
   ]
  },
  {
   "cell_type": "code",
   "execution_count": null,
   "metadata": {},
   "outputs": [],
   "source": [
    "ror_df = pd.DataFrame(columns=['Timeframe', 'Prediction', 'Average_RoR'])\n",
    "\n",
    "for timeframe in TIMEFRAMES:\n",
    "    for prediction in PREDICTIONS:\n",
    "        if prediction < timeframe:\n",
    "\n",
    "            # Filter your data based on prediction, img_type, and timeframe\n",
    "            data = labels[(labels['TimePrediction'] == prediction) & (labels['Image'].str.contains(f'_{timeframe}_'))]\n",
    "            data = data.reset_index(drop=True)\n",
    "            split_index = int(len(data) * 0.7)\n",
    "            lastPrice = data['LastPrice'][split_index:]\n",
    "            futurePrice = data['FuturePrice'][split_index:]\n",
    "            # Calculate Rate of Return RoR\n",
    "            ror = np.array((futurePrice - lastPrice)/lastPrice)\n",
    "            # Calculate average RoR\n",
    "            avg_ror = np.mean(ror)\n",
    "            print(f\"Average RoR for {timeframe} {prediction}: {avg_ror}\")\n",
    "            # Add the evaluation metrics to the DataFrame\n",
    "            ror_df = ror_df.append({\n",
    "                'Timeframe': timeframe,\n",
    "                'Prediction': prediction,\n",
    "                'Average_RoR': avg_ror\n",
    "            }, ignore_index=True)\n",
    "\n",
    "# Save the evaluation DataFrame to a CSV file\n",
    "ror_df.to_csv('ror.csv', index=False)"
   ]
  },
  {
   "cell_type": "code",
   "execution_count": null,
   "metadata": {},
   "outputs": [],
   "source": []
  }
 ],
 "metadata": {
  "kernelspec": {
   "display_name": "aiss",
   "language": "python",
   "name": "aiss"
  },
  "language_info": {
   "codemirror_mode": {
    "name": "ipython",
    "version": 3
   },
   "file_extension": ".py",
   "mimetype": "text/x-python",
   "name": "python",
   "nbconvert_exporter": "python",
   "pygments_lexer": "ipython3",
   "version": "3.8.12"
  },
  "orig_nbformat": 4
 },
 "nbformat": 4,
 "nbformat_minor": 2
}
